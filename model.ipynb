{
 "cells": [
  {
   "attachments": {},
   "cell_type": "markdown",
   "metadata": {},
   "source": [
    "## Import thư viện"
   ]
  },
  {
   "cell_type": "code",
   "execution_count": 105,
   "metadata": {},
   "outputs": [],
   "source": [
    "import pandas as pd\n",
    "import re\n",
    "import numpy as np\n",
    "from scipy.stats import zscore\n",
    "from sklearn.model_selection import train_test_split\n",
    "from sklearn.linear_model import LinearRegression, LogisticRegression\n",
    "from sklearn.metrics import mean_squared_error, mean_absolute_error"
   ]
  },
  {
   "attachments": {},
   "cell_type": "markdown",
   "metadata": {},
   "source": [
    "## Đọc dữ liệu từ bộ dataset"
   ]
  },
  {
   "cell_type": "code",
   "execution_count": 106,
   "metadata": {},
   "outputs": [
    {
     "data": {
      "text/html": [
       "<div>\n",
       "<style scoped>\n",
       "    .dataframe tbody tr th:only-of-type {\n",
       "        vertical-align: middle;\n",
       "    }\n",
       "\n",
       "    .dataframe tbody tr th {\n",
       "        vertical-align: top;\n",
       "    }\n",
       "\n",
       "    .dataframe thead th {\n",
       "        text-align: right;\n",
       "    }\n",
       "</style>\n",
       "<table border=\"1\" class=\"dataframe\">\n",
       "  <thead>\n",
       "    <tr style=\"text-align: right;\">\n",
       "      <th></th>\n",
       "      <th>Age</th>\n",
       "      <th>Gender</th>\n",
       "      <th>Salary</th>\n",
       "      <th>Title</th>\n",
       "      <th>Formal Education</th>\n",
       "      <th>Learning Platforms</th>\n",
       "      <th>Coding Experience</th>\n",
       "      <th>ML Experience</th>\n",
       "      <th>Important Activities</th>\n",
       "      <th>Languages</th>\n",
       "      <th>...</th>\n",
       "      <th>Published Papers</th>\n",
       "      <th>ML Research</th>\n",
       "      <th>ML Serve</th>\n",
       "      <th>Ethical AI tools</th>\n",
       "      <th>Industry Type</th>\n",
       "      <th>Data Storage Products</th>\n",
       "      <th>Data Products</th>\n",
       "      <th>ML Monitor Tools</th>\n",
       "      <th>Country</th>\n",
       "      <th>Year</th>\n",
       "    </tr>\n",
       "  </thead>\n",
       "  <tbody>\n",
       "    <tr>\n",
       "      <th>0</th>\n",
       "      <td>18-21</td>\n",
       "      <td>Man</td>\n",
       "      <td>1528.0</td>\n",
       "      <td>Student</td>\n",
       "      <td>Bachelor's degree</td>\n",
       "      <td>Coursera -- -1</td>\n",
       "      <td>&lt; 1 year</td>\n",
       "      <td>&lt; 1 year</td>\n",
       "      <td>Build and/or run a machine learning service th...</td>\n",
       "      <td>Python -- Java -- C/C++ -- -1</td>\n",
       "      <td>...</td>\n",
       "      <td>NaN</td>\n",
       "      <td>NaN</td>\n",
       "      <td>NaN</td>\n",
       "      <td>NaN</td>\n",
       "      <td>I am a student</td>\n",
       "      <td>NaN</td>\n",
       "      <td>NaN</td>\n",
       "      <td>NaN</td>\n",
       "      <td>Viet Nam</td>\n",
       "      <td>2018</td>\n",
       "    </tr>\n",
       "    <tr>\n",
       "      <th>1</th>\n",
       "      <td>18-21</td>\n",
       "      <td>Man</td>\n",
       "      <td>1528.0</td>\n",
       "      <td>Student</td>\n",
       "      <td>Some college/university study without&lt;br&gt;earni...</td>\n",
       "      <td>Udacity -- Coursera -- edX -- Udemy -- -1</td>\n",
       "      <td>&lt; 1 year</td>\n",
       "      <td>&lt; 1 year</td>\n",
       "      <td>Analyze and understand data to influence produ...</td>\n",
       "      <td>Python -- -1</td>\n",
       "      <td>...</td>\n",
       "      <td>NaN</td>\n",
       "      <td>NaN</td>\n",
       "      <td>NaN</td>\n",
       "      <td>NaN</td>\n",
       "      <td>Computers/Technology</td>\n",
       "      <td>NaN</td>\n",
       "      <td>NaN</td>\n",
       "      <td>NaN</td>\n",
       "      <td>Viet Nam</td>\n",
       "      <td>2018</td>\n",
       "    </tr>\n",
       "    <tr>\n",
       "      <th>2</th>\n",
       "      <td>18-21</td>\n",
       "      <td>Man</td>\n",
       "      <td>NaN</td>\n",
       "      <td>Student</td>\n",
       "      <td>Bachelor's degree</td>\n",
       "      <td>Coursera -- -1</td>\n",
       "      <td>1-5 years</td>\n",
       "      <td>1-2 years</td>\n",
       "      <td>Build and/or run a machine learning service th...</td>\n",
       "      <td>Python -- -1</td>\n",
       "      <td>...</td>\n",
       "      <td>NaN</td>\n",
       "      <td>NaN</td>\n",
       "      <td>NaN</td>\n",
       "      <td>NaN</td>\n",
       "      <td>Computers/Technology</td>\n",
       "      <td>NaN</td>\n",
       "      <td>NaN</td>\n",
       "      <td>NaN</td>\n",
       "      <td>Viet Nam</td>\n",
       "      <td>2018</td>\n",
       "    </tr>\n",
       "    <tr>\n",
       "      <th>3</th>\n",
       "      <td>22-24</td>\n",
       "      <td>Man</td>\n",
       "      <td>1528.0</td>\n",
       "      <td>Student</td>\n",
       "      <td>Master's degree</td>\n",
       "      <td>Coursera -- DataQuest -- -1</td>\n",
       "      <td>&lt; 1 year</td>\n",
       "      <td>&lt; 1 year</td>\n",
       "      <td>Do research that advances the state of the art...</td>\n",
       "      <td>Python -- R -- Bash -- -1</td>\n",
       "      <td>...</td>\n",
       "      <td>NaN</td>\n",
       "      <td>NaN</td>\n",
       "      <td>NaN</td>\n",
       "      <td>NaN</td>\n",
       "      <td>I am a student</td>\n",
       "      <td>NaN</td>\n",
       "      <td>NaN</td>\n",
       "      <td>NaN</td>\n",
       "      <td>Viet Nam</td>\n",
       "      <td>2018</td>\n",
       "    </tr>\n",
       "    <tr>\n",
       "      <th>4</th>\n",
       "      <td>22-24</td>\n",
       "      <td>Man</td>\n",
       "      <td>1528.0</td>\n",
       "      <td>Data Scientist</td>\n",
       "      <td>Bachelor's degree</td>\n",
       "      <td>Coursera -- -1</td>\n",
       "      <td>1-5 years</td>\n",
       "      <td>&lt; 1 year</td>\n",
       "      <td>Analyze and understand data to influence produ...</td>\n",
       "      <td>R -- SQL -- -1</td>\n",
       "      <td>...</td>\n",
       "      <td>NaN</td>\n",
       "      <td>NaN</td>\n",
       "      <td>NaN</td>\n",
       "      <td>NaN</td>\n",
       "      <td>Insurance/Risk Assessment</td>\n",
       "      <td>NaN</td>\n",
       "      <td>NaN</td>\n",
       "      <td>NaN</td>\n",
       "      <td>Viet Nam</td>\n",
       "      <td>2018</td>\n",
       "    </tr>\n",
       "  </tbody>\n",
       "</table>\n",
       "<p>5 rows × 37 columns</p>\n",
       "</div>"
      ],
      "text/plain": [
       "     Age Gender  Salary           Title  \\\n",
       "0  18-21    Man  1528.0         Student   \n",
       "1  18-21    Man  1528.0         Student   \n",
       "2  18-21    Man     NaN         Student   \n",
       "3  22-24    Man  1528.0         Student   \n",
       "4  22-24    Man  1528.0  Data Scientist   \n",
       "\n",
       "                                    Formal Education  \\\n",
       "0                                  Bachelor's degree   \n",
       "1  Some college/university study without<br>earni...   \n",
       "2                                  Bachelor's degree   \n",
       "3                                    Master's degree   \n",
       "4                                  Bachelor's degree   \n",
       "\n",
       "                          Learning Platforms Coding Experience ML Experience  \\\n",
       "0                             Coursera -- -1          < 1 year      < 1 year   \n",
       "1  Udacity -- Coursera -- edX -- Udemy -- -1          < 1 year      < 1 year   \n",
       "2                             Coursera -- -1         1-5 years     1-2 years   \n",
       "3                Coursera -- DataQuest -- -1          < 1 year      < 1 year   \n",
       "4                             Coursera -- -1         1-5 years      < 1 year   \n",
       "\n",
       "                                Important Activities  \\\n",
       "0  Build and/or run a machine learning service th...   \n",
       "1  Analyze and understand data to influence produ...   \n",
       "2  Build and/or run a machine learning service th...   \n",
       "3  Do research that advances the state of the art...   \n",
       "4  Analyze and understand data to influence produ...   \n",
       "\n",
       "                       Languages  ... Published Papers ML Research ML Serve  \\\n",
       "0  Python -- Java -- C/C++ -- -1  ...              NaN         NaN      NaN   \n",
       "1                   Python -- -1  ...              NaN         NaN      NaN   \n",
       "2                   Python -- -1  ...              NaN         NaN      NaN   \n",
       "3      Python -- R -- Bash -- -1  ...              NaN         NaN      NaN   \n",
       "4                 R -- SQL -- -1  ...              NaN         NaN      NaN   \n",
       "\n",
       "  Ethical AI tools              Industry Type Data Storage Products  \\\n",
       "0              NaN             I am a student                   NaN   \n",
       "1              NaN       Computers/Technology                   NaN   \n",
       "2              NaN       Computers/Technology                   NaN   \n",
       "3              NaN             I am a student                   NaN   \n",
       "4              NaN  Insurance/Risk Assessment                   NaN   \n",
       "\n",
       "  Data Products ML Monitor Tools   Country  Year  \n",
       "0           NaN              NaN  Viet Nam  2018  \n",
       "1           NaN              NaN  Viet Nam  2018  \n",
       "2           NaN              NaN  Viet Nam  2018  \n",
       "3           NaN              NaN  Viet Nam  2018  \n",
       "4           NaN              NaN  Viet Nam  2018  \n",
       "\n",
       "[5 rows x 37 columns]"
      ]
     },
     "execution_count": 106,
     "metadata": {},
     "output_type": "execute_result"
    }
   ],
   "source": [
    "data_df = pd.read_csv(\"./analysis_df.csv\")\n",
    "data_df.head()"
   ]
  },
  {
   "attachments": {},
   "cell_type": "markdown",
   "metadata": {},
   "source": [
    "## Tiền xử lý dữ liệu để huấn luyện"
   ]
  },
  {
   "cell_type": "code",
   "execution_count": 107,
   "metadata": {},
   "outputs": [
    {
     "data": {
      "text/html": [
       "<div>\n",
       "<style scoped>\n",
       "    .dataframe tbody tr th:only-of-type {\n",
       "        vertical-align: middle;\n",
       "    }\n",
       "\n",
       "    .dataframe tbody tr th {\n",
       "        vertical-align: top;\n",
       "    }\n",
       "\n",
       "    .dataframe thead th {\n",
       "        text-align: right;\n",
       "    }\n",
       "</style>\n",
       "<table border=\"1\" class=\"dataframe\">\n",
       "  <thead>\n",
       "    <tr style=\"text-align: right;\">\n",
       "      <th></th>\n",
       "      <th>Age</th>\n",
       "      <th>Gender</th>\n",
       "      <th>Salary</th>\n",
       "      <th>Title</th>\n",
       "      <th>Formal Education</th>\n",
       "      <th>Coding Experience</th>\n",
       "      <th>ML Experience</th>\n",
       "      <th>Country</th>\n",
       "      <th>Year</th>\n",
       "    </tr>\n",
       "  </thead>\n",
       "  <tbody>\n",
       "    <tr>\n",
       "      <th>0</th>\n",
       "      <td>18-21</td>\n",
       "      <td>Man</td>\n",
       "      <td>1528.0</td>\n",
       "      <td>Student</td>\n",
       "      <td>Bachelor's degree</td>\n",
       "      <td>&lt; 1 year</td>\n",
       "      <td>&lt; 1 year</td>\n",
       "      <td>Viet Nam</td>\n",
       "      <td>2018</td>\n",
       "    </tr>\n",
       "    <tr>\n",
       "      <th>1</th>\n",
       "      <td>18-21</td>\n",
       "      <td>Man</td>\n",
       "      <td>1528.0</td>\n",
       "      <td>Student</td>\n",
       "      <td>Some college/university study without&lt;br&gt;earni...</td>\n",
       "      <td>&lt; 1 year</td>\n",
       "      <td>&lt; 1 year</td>\n",
       "      <td>Viet Nam</td>\n",
       "      <td>2018</td>\n",
       "    </tr>\n",
       "    <tr>\n",
       "      <th>3</th>\n",
       "      <td>22-24</td>\n",
       "      <td>Man</td>\n",
       "      <td>1528.0</td>\n",
       "      <td>Student</td>\n",
       "      <td>Master's degree</td>\n",
       "      <td>&lt; 1 year</td>\n",
       "      <td>&lt; 1 year</td>\n",
       "      <td>Viet Nam</td>\n",
       "      <td>2018</td>\n",
       "    </tr>\n",
       "    <tr>\n",
       "      <th>4</th>\n",
       "      <td>22-24</td>\n",
       "      <td>Man</td>\n",
       "      <td>1528.0</td>\n",
       "      <td>Data Scientist</td>\n",
       "      <td>Bachelor's degree</td>\n",
       "      <td>1-5 years</td>\n",
       "      <td>&lt; 1 year</td>\n",
       "      <td>Viet Nam</td>\n",
       "      <td>2018</td>\n",
       "    </tr>\n",
       "    <tr>\n",
       "      <th>6</th>\n",
       "      <td>18-21</td>\n",
       "      <td>Woman</td>\n",
       "      <td>1528.0</td>\n",
       "      <td>Student</td>\n",
       "      <td>Bachelor's degree</td>\n",
       "      <td>&lt; 1 year</td>\n",
       "      <td>&lt; 1 year</td>\n",
       "      <td>Viet Nam</td>\n",
       "      <td>2018</td>\n",
       "    </tr>\n",
       "    <tr>\n",
       "      <th>...</th>\n",
       "      <td>...</td>\n",
       "      <td>...</td>\n",
       "      <td>...</td>\n",
       "      <td>...</td>\n",
       "      <td>...</td>\n",
       "      <td>...</td>\n",
       "      <td>...</td>\n",
       "      <td>...</td>\n",
       "      <td>...</td>\n",
       "    </tr>\n",
       "    <tr>\n",
       "      <th>51727</th>\n",
       "      <td>25-29</td>\n",
       "      <td>Man</td>\n",
       "      <td>10223.0</td>\n",
       "      <td>Data Scientist</td>\n",
       "      <td>Bachelor's degree</td>\n",
       "      <td>5-10 years</td>\n",
       "      <td>2-3 years</td>\n",
       "      <td>India🇮🇳</td>\n",
       "      <td>2022</td>\n",
       "    </tr>\n",
       "    <tr>\n",
       "      <th>51739</th>\n",
       "      <td>22-24</td>\n",
       "      <td>Man</td>\n",
       "      <td>2555.0</td>\n",
       "      <td>Data Engineer</td>\n",
       "      <td>Master's degree</td>\n",
       "      <td>1-5 years</td>\n",
       "      <td>&lt; 1 year</td>\n",
       "      <td>India🇮🇳</td>\n",
       "      <td>2022</td>\n",
       "    </tr>\n",
       "    <tr>\n",
       "      <th>51748</th>\n",
       "      <td>45-49</td>\n",
       "      <td>Man</td>\n",
       "      <td>32860.0</td>\n",
       "      <td>Manager</td>\n",
       "      <td>Master's degree</td>\n",
       "      <td>20+ years</td>\n",
       "      <td>I do not use machine&lt;br&gt;learning methods</td>\n",
       "      <td>India🇮🇳</td>\n",
       "      <td>2022</td>\n",
       "    </tr>\n",
       "    <tr>\n",
       "      <th>51751</th>\n",
       "      <td>35-39</td>\n",
       "      <td>Man</td>\n",
       "      <td>730.0</td>\n",
       "      <td>Data Scientist</td>\n",
       "      <td>Master's degree</td>\n",
       "      <td>1-5 years</td>\n",
       "      <td>1-2 years</td>\n",
       "      <td>India🇮🇳</td>\n",
       "      <td>2022</td>\n",
       "    </tr>\n",
       "    <tr>\n",
       "      <th>51752</th>\n",
       "      <td>40-44</td>\n",
       "      <td>Man</td>\n",
       "      <td>145.0</td>\n",
       "      <td>Data Engineer</td>\n",
       "      <td>Bachelor's degree</td>\n",
       "      <td>1-5 years</td>\n",
       "      <td>I do not use machine&lt;br&gt;learning methods</td>\n",
       "      <td>India🇮🇳</td>\n",
       "      <td>2022</td>\n",
       "    </tr>\n",
       "  </tbody>\n",
       "</table>\n",
       "<p>22618 rows × 9 columns</p>\n",
       "</div>"
      ],
      "text/plain": [
       "         Age Gender   Salary           Title  \\\n",
       "0      18-21    Man   1528.0         Student   \n",
       "1      18-21    Man   1528.0         Student   \n",
       "3      22-24    Man   1528.0         Student   \n",
       "4      22-24    Man   1528.0  Data Scientist   \n",
       "6      18-21  Woman   1528.0         Student   \n",
       "...      ...    ...      ...             ...   \n",
       "51727  25-29    Man  10223.0  Data Scientist   \n",
       "51739  22-24    Man   2555.0   Data Engineer   \n",
       "51748  45-49    Man  32860.0         Manager   \n",
       "51751  35-39    Man    730.0  Data Scientist   \n",
       "51752  40-44    Man    145.0   Data Engineer   \n",
       "\n",
       "                                        Formal Education Coding Experience  \\\n",
       "0                                      Bachelor's degree          < 1 year   \n",
       "1      Some college/university study without<br>earni...          < 1 year   \n",
       "3                                        Master's degree          < 1 year   \n",
       "4                                      Bachelor's degree         1-5 years   \n",
       "6                                      Bachelor's degree          < 1 year   \n",
       "...                                                  ...               ...   \n",
       "51727                                  Bachelor's degree        5-10 years   \n",
       "51739                                    Master's degree         1-5 years   \n",
       "51748                                    Master's degree         20+ years   \n",
       "51751                                    Master's degree         1-5 years   \n",
       "51752                                  Bachelor's degree         1-5 years   \n",
       "\n",
       "                                  ML Experience   Country  Year  \n",
       "0                                      < 1 year  Viet Nam  2018  \n",
       "1                                      < 1 year  Viet Nam  2018  \n",
       "3                                      < 1 year  Viet Nam  2018  \n",
       "4                                      < 1 year  Viet Nam  2018  \n",
       "6                                      < 1 year  Viet Nam  2018  \n",
       "...                                         ...       ...   ...  \n",
       "51727                                 2-3 years   India🇮🇳  2022  \n",
       "51739                                  < 1 year   India🇮🇳  2022  \n",
       "51748  I do not use machine<br>learning methods   India🇮🇳  2022  \n",
       "51751                                 1-2 years   India🇮🇳  2022  \n",
       "51752  I do not use machine<br>learning methods   India🇮🇳  2022  \n",
       "\n",
       "[22618 rows x 9 columns]"
      ]
     },
     "execution_count": 107,
     "metadata": {},
     "output_type": "execute_result"
    }
   ],
   "source": [
    "new_df = data_df[[\"Age\", \"Gender\", \"Salary\", \"Title\", \"Formal Education\", \"Coding Experience\", \"ML Experience\", \"Country\", \"Year\"]]\n",
    "new_df = new_df.dropna()\n",
    "\n",
    "new_df"
   ]
  },
  {
   "attachments": {},
   "cell_type": "markdown",
   "metadata": {},
   "source": [
    "### Xử lý cột Age"
   ]
  },
  {
   "cell_type": "code",
   "execution_count": 108,
   "metadata": {},
   "outputs": [
    {
     "data": {
      "text/plain": [
       "array(['18-21', '22-24', '30-34', '25-29', '40-44', '35-39', '45-49',\n",
       "       '50-54', '55-59', '60-69', '70+'], dtype=object)"
      ]
     },
     "execution_count": 108,
     "metadata": {},
     "output_type": "execute_result"
    }
   ],
   "source": [
    "new_df[\"Age\"].unique()"
   ]
  },
  {
   "cell_type": "code",
   "execution_count": 109,
   "metadata": {},
   "outputs": [],
   "source": [
    "new_df[\"Age\"] = new_df[\"Age\"].apply(lambda x: x.replace(\"+\", \"\")).apply(lambda x: sum(map(lambda i: int(i), x.split(\"-\"))) / len(x.split(\"-\")))"
   ]
  },
  {
   "attachments": {},
   "cell_type": "markdown",
   "metadata": {},
   "source": [
    "### Xử lý cột Gender"
   ]
  },
  {
   "cell_type": "code",
   "execution_count": 110,
   "metadata": {},
   "outputs": [
    {
     "data": {
      "text/plain": [
       "array(['Man', 'Woman', 'Prefer not to say', 'Prefer to self-describe',\n",
       "       'Nonbinary'], dtype=object)"
      ]
     },
     "execution_count": 110,
     "metadata": {},
     "output_type": "execute_result"
    }
   ],
   "source": [
    "gender_list = new_df[\"Gender\"].unique()\n",
    "gender_list"
   ]
  },
  {
   "cell_type": "code",
   "execution_count": 111,
   "metadata": {},
   "outputs": [],
   "source": [
    "gender_map = {gender: idx for gender, idx in zip(list(gender_list), range(1, len(list(gender_list)) + 1))}\n",
    "\n",
    "new_df[\"Gender\"] = new_df[\"Gender\"].map(gender_map)"
   ]
  },
  {
   "attachments": {},
   "cell_type": "markdown",
   "metadata": {},
   "source": [
    "### Xử lý cột Title"
   ]
  },
  {
   "cell_type": "code",
   "execution_count": 112,
   "metadata": {},
   "outputs": [
    {
     "data": {
      "text/plain": [
       "array(['Student', 'Data Scientist', 'Software Engineer', 'Manager',\n",
       "       'Consultant', 'Data Analyst', 'Other', 'Product/Project Manager',\n",
       "       'Data Engineer', 'Research Assistant', 'Business Analyst',\n",
       "       'Chief Officer', 'Research Scientist', 'DBA/Database Engineer',\n",
       "       'Machine Learning Engineer', 'Statistician', 'Product Manager',\n",
       "       'Program/Project Manager', 'Machine Learning/ MLops Engineer',\n",
       "       'Teacher / professor', 'Engineer (non-software)',\n",
       "       'Developer Advocate', 'Principal Investigator',\n",
       "       'Marketing Analyst', 'Salesperson', 'Data Journalist',\n",
       "       'Developer Relations/Advocacy', 'Data Architect',\n",
       "       'Data Administrator'], dtype=object)"
      ]
     },
     "execution_count": 112,
     "metadata": {},
     "output_type": "execute_result"
    }
   ],
   "source": [
    "title_list = new_df[\"Title\"].unique()\n",
    "title_list"
   ]
  },
  {
   "cell_type": "code",
   "execution_count": 113,
   "metadata": {},
   "outputs": [],
   "source": [
    "title_map = {title: idx for title, idx in zip(list(title_list), range(1, len(list(title_list)) + 1))}\n",
    "\n",
    "new_df[\"Title\"] = new_df[\"Title\"].map(title_map)"
   ]
  },
  {
   "attachments": {},
   "cell_type": "markdown",
   "metadata": {},
   "source": [
    "### Xử lý cột Formal Education"
   ]
  },
  {
   "cell_type": "code",
   "execution_count": 114,
   "metadata": {},
   "outputs": [
    {
     "data": {
      "text/plain": [
       "array([\"Bachelor's degree\",\n",
       "       \"Some college/university study without<br>earning a bachelor's degree\",\n",
       "       \"Master's degree\", 'Doctoral degree',\n",
       "       'No formal education past high school', 'Professional degree',\n",
       "       'I prefer not to answer'], dtype=object)"
      ]
     },
     "execution_count": 114,
     "metadata": {},
     "output_type": "execute_result"
    }
   ],
   "source": [
    "education_list = new_df[\"Formal Education\"].unique()\n",
    "education_list"
   ]
  },
  {
   "cell_type": "code",
   "execution_count": 115,
   "metadata": {},
   "outputs": [],
   "source": [
    "education_map = {education: idx for education, idx in zip(list(education_list), [10, 7, 20, 30, 3, 15, 8])}\n",
    "\n",
    "new_df[\"Formal Education\"] = new_df[\"Formal Education\"].map(education_map)"
   ]
  },
  {
   "attachments": {},
   "cell_type": "markdown",
   "metadata": {},
   "source": [
    "### Xử lý cột Coding Experience"
   ]
  },
  {
   "cell_type": "code",
   "execution_count": 116,
   "metadata": {},
   "outputs": [],
   "source": [
    "pattern = r'\\b([0-9]+)\\b'"
   ]
  },
  {
   "cell_type": "code",
   "execution_count": 117,
   "metadata": {},
   "outputs": [
    {
     "data": {
      "text/plain": [
       "array(['< 1 year', '1-5 years', 'I have never written code', '5-10 years',\n",
       "       '10-20 years', '20+ years'], dtype=object)"
      ]
     },
     "execution_count": 117,
     "metadata": {},
     "output_type": "execute_result"
    }
   ],
   "source": [
    "exp_list = new_df[\"Coding Experience\"].unique()\n",
    "exp_list"
   ]
  },
  {
   "cell_type": "code",
   "execution_count": 118,
   "metadata": {},
   "outputs": [],
   "source": [
    "exp_numeric = []\n",
    "\n",
    "for exp in exp_list:\n",
    "    matches = re.findall(pattern, exp)\n",
    "    numbers = [int(match[:2]) for match in matches]\n",
    "    if not numbers:\n",
    "        numbers = [0]\n",
    "    exp_numeric.append(numbers)"
   ]
  },
  {
   "cell_type": "code",
   "execution_count": 119,
   "metadata": {},
   "outputs": [],
   "source": [
    "exp_map = {k: sum(v) / len(v) for k, v in zip(list(exp_list), exp_numeric)}\n",
    "\n",
    "new_df[\"Coding Experience\"] = new_df[\"Coding Experience\"].map(exp_map)"
   ]
  },
  {
   "attachments": {},
   "cell_type": "markdown",
   "metadata": {},
   "source": [
    "### Xử lý cột ML Experience"
   ]
  },
  {
   "cell_type": "code",
   "execution_count": 120,
   "metadata": {},
   "outputs": [
    {
     "data": {
      "text/plain": [
       "array(['< 1 year', '2-3 years', '5-10 years', '1-2 years', '3-4 years',\n",
       "       'I do not use machine<br>learning methods', '4-5 years',\n",
       "       '10-20 years', '20+ years'], dtype=object)"
      ]
     },
     "execution_count": 120,
     "metadata": {},
     "output_type": "execute_result"
    }
   ],
   "source": [
    "ml_list = new_df[\"ML Experience\"].unique()\n",
    "ml_list"
   ]
  },
  {
   "cell_type": "code",
   "execution_count": 121,
   "metadata": {},
   "outputs": [],
   "source": [
    "ml_numeric = []\n",
    "\n",
    "for ml in ml_list:\n",
    "    matches = re.findall(pattern, ml)\n",
    "    numbers = [int(match[:2]) for match in matches]\n",
    "    if not numbers:\n",
    "        numbers = [0]\n",
    "    ml_numeric.append(numbers)"
   ]
  },
  {
   "cell_type": "code",
   "execution_count": 122,
   "metadata": {},
   "outputs": [],
   "source": [
    "ml_map = {k: sum(v) / len(v) for k, v in zip(list(ml_list), ml_numeric)}\n",
    "\n",
    "new_df[\"ML Experience\"] = new_df[\"ML Experience\"].map(ml_map)"
   ]
  },
  {
   "attachments": {},
   "cell_type": "markdown",
   "metadata": {},
   "source": [
    "### Xử lý cột Country"
   ]
  },
  {
   "cell_type": "code",
   "execution_count": 123,
   "metadata": {},
   "outputs": [],
   "source": [
    "country_list = new_df[\"Country\"].unique()"
   ]
  },
  {
   "cell_type": "code",
   "execution_count": 124,
   "metadata": {},
   "outputs": [],
   "source": [
    "country_map = {k: v for k, v in zip(list(country_list), [5, 20, 18, 15])}\n",
    "\n",
    "new_df[\"Country\"] = new_df[\"Country\"].map(country_map)"
   ]
  },
  {
   "attachments": {},
   "cell_type": "markdown",
   "metadata": {},
   "source": [
    "## Chia tập dữ liệu thành train và set"
   ]
  },
  {
   "cell_type": "code",
   "execution_count": 125,
   "metadata": {},
   "outputs": [
    {
     "data": {
      "text/plain": [
       "((18094, 8), (4524, 8), (18094,), (4524,))"
      ]
     },
     "execution_count": 125,
     "metadata": {},
     "output_type": "execute_result"
    }
   ],
   "source": [
    "X = new_df.drop(\"Salary\", axis=1)\n",
    "y = new_df[\"Salary\"]\n",
    "\n",
    "X = X.to_numpy()\n",
    "y = y.to_numpy()\n",
    "y = zscore(y)\n",
    "\n",
    "X_train, X_test, y_train, y_test = train_test_split(X, y, test_size=0.2, random_state=42)\n",
    "X_train.shape, X_test.shape, y_train.shape, y_test.shape"
   ]
  },
  {
   "attachments": {},
   "cell_type": "markdown",
   "metadata": {},
   "source": [
    "## Huấn luyện mô hình bằng Linear Regression\n",
    "\n",
    "### Bài toán: Dự đoán mức lương của 1 người tham gia trả lời dựa vào 1 số thông tin cá nhân của họ\n",
    "\n",
    "**Các cột dữ liệu được sử dụng làm feature:**\n",
    "- Age: tuổi\n",
    "- Gender: giới tính\n",
    "- Title: vị trí/vai trò\n",
    "- Formal Education: bằng cấp\n",
    "- Coding Experience: số năm kinh nghiệm lập trình\n",
    "- ML Experience: số năm kinh nghiệm về machine learning\n",
    "- Country: quốc gia\n",
    "- Year: năm người tham gia trả lời câu hỏi\n",
    "\n",
    "**Cột dữ liệu làm label:**\n",
    "- Salary: mức lương của người đó\n",
    "\n",
    "**Mô hình:** Linear Regression\n",
    "\n",
    "**Metrics đánh giá:** RMSE và MAE"
   ]
  },
  {
   "cell_type": "code",
   "execution_count": 127,
   "metadata": {},
   "outputs": [
    {
     "data": {
      "text/plain": [
       "LinearRegression()"
      ]
     },
     "execution_count": 127,
     "metadata": {},
     "output_type": "execute_result"
    }
   ],
   "source": [
    "linear_model = LinearRegression()\n",
    "linear_model.fit(X_train, y_train)"
   ]
  },
  {
   "attachments": {},
   "cell_type": "markdown",
   "metadata": {},
   "source": [
    "## Đánh giá mô hình bằng Linear Regression"
   ]
  },
  {
   "cell_type": "code",
   "execution_count": 128,
   "metadata": {},
   "outputs": [
    {
     "name": "stdout",
     "output_type": "stream",
     "text": [
      "Linear Regression RMSE: 0.9094569355861088\n",
      "Linear Regression MAE 0.44278705430694054\n"
     ]
    }
   ],
   "source": [
    "linear_predict = linear_model.predict(X_test)\n",
    "linear_rmse = np.sqrt(mean_squared_error(y_test, linear_predict))\n",
    "linear_mae = mean_absolute_error(y_test, linear_predict)\n",
    "print(\"Linear Regression RMSE:\", linear_rmse)\n",
    "print(\"Linear Regression MAE\", linear_mae)"
   ]
  }
 ],
 "metadata": {
  "kernelspec": {
   "display_name": "min_ds-env",
   "language": "python",
   "name": "python3"
  },
  "language_info": {
   "codemirror_mode": {
    "name": "ipython",
    "version": 3
   },
   "file_extension": ".py",
   "mimetype": "text/x-python",
   "name": "python",
   "nbconvert_exporter": "python",
   "pygments_lexer": "ipython3",
   "version": "3.8.8"
  },
  "orig_nbformat": 4
 },
 "nbformat": 4,
 "nbformat_minor": 2
}
