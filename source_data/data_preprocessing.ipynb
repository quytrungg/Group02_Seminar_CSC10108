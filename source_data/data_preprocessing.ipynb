{
 "cells": [
  {
   "attachments": {},
   "cell_type": "markdown",
   "metadata": {},
   "source": [
    "# Pha 1: Tiền xử lý dữ liệu\n",
    "## 1. Giới thiệu dữ liệu:\n",
    "- Bộ dữ liệu được lấy từ Kaggle, ở cuộc thi phân tích: \"2022 Kaggle Machine Learning & Data Science Survey\" (https://www.kaggle.com/competitions/kaggle-survey-2022/overview).\n",
    "- Bộ dữ liệu được Kaggle khảo sát từ người dùng để đưa ra những góc nhìn toàn diện về tình trạng của các ngành Khoa học dữ liệu và học máy. Cuộc khảo sát được thực hiện từ ngày 16/09/2022 đến ngày 16/10/2022. Những người khảo sát đến từ các quốc gia khác nhau, trong đó có Việt Nam.\n",
    "- Mục đích của cuộc thi là dùng dữ liệu để kể về câu chuyện của một cộng đồng nhỏ khoa học dữ liệu được khảo sát, thông qua sự kết hợp của cả văn bản tường thuật và khám phá dữ liệu. Thách thức là khám phá sâu thông qua dữ liệu các tác động, ưu tiên hoặc mối quan tâm của một nhóm người thực hành khoa học dữ liệu và máy học cụ thể."
   ]
  },
  {
   "cell_type": "code",
   "execution_count": null,
   "metadata": {},
   "outputs": [],
   "source": [
    "# Import nessary libraries:\n",
    "import pandas as pd"
   ]
  },
  {
   "cell_type": "code",
   "execution_count": null,
   "metadata": {},
   "outputs": [],
   "source": [
    "# Read CSV, remove index \n",
    "\n",
    "_YEARS = [2018, 2019, 2020, 2021, 2022]\n",
    "_FILEPATHS = [\"data_2018.csv\", \"data_2019.csv\", \"data_2020.csv\",\n",
    "             \"data_2021.csv\", \"data_2022.csv\"]\n",
    "_COUNTRIES = [\"Viet Nam\", \"United States of America\", \"China\", \"India\"]"
   ]
  },
  {
   "attachments": {},
   "cell_type": "markdown",
   "metadata": {},
   "source": [
    "## 2. Đào sâu vào dữ liệu:\n",
    "\n",
    "Bộ câu hỏi gồm 44 câu hỏi, các câu được liệt kê như sau: \n",
    "\n",
    "| Câu hỏi | Mô tả kiểu dữ liệu | Ví dụ|\n",
    "| --- | --- | ---|\n",
    "| 1. What is your age?  | Dữ liệu kết quả thu được là một khoảng các độ tuổi, cách nhau 3 năm| 35-39|\n",
    "|2. What is your gender? | Dữ liệu kết quả thu được là các lựa chọn bao gồm: \"Man, Woman, Nonbinary, Prefer not to say, Prefer to self-describe\"| Man|\n",
    "|3. In which country do you currently reside?| Dữ liệu thu được là tên quốc gia| Vietnam|\n",
    "|4. Are you currently a student?| Dữ liệu thu được là các lựa chọn bao gồm: \"Yes, No\"| No|\n",
    "|5. On which platforms have you begun or completed data science courses?| Dữ liệu thu được bao gồm 1 trong các kết quả của danh sách: \"Coursera, edX, Kaggle Learn Courses, DataCamp, Fast.ai, Udacity, Udemy, LinkedIn Learning, Cloud-certification programs (direct from AWS, Azure, GCP, or similar), University Courses (resulting in a university degree), None, Other| Kaggle Learn Courses|\n",
    "|6. What products or platforms did you find to be most helpful when you first started studying data science?| Dữ liệu thu được bao gồm 1 trong các kết quả của danh sách: \"University courses, Online courses (Coursera, EdX, etc), Social media platforms (Reddit, Twitter, etc), Video platforms (YouTube, Twitch, etc), Kaggle (notebooks, competitions, etc), None / I do not study data science, Other| Kaggle (notebooks, competitions, etc)|\n",
    "|7. What is the highest level of formal education that you have attained or plan to attain within the next 2 years?| Dữ liệu thu được bao gồm 1 trong các kết quả của danh sách: \"No formal education past high school, Some college/university study without earning a bachelor’s degree, Bachelor’s degree, Master’s degree, Doctoral degree, Professional doctorate, I prefer not to answer\"| Bachelor’s degree|\n",
    "|8. Have you ever published any academic research (papers, preprints, conference proceedings, etc)?| Dữ liệu thu được bao gồm 1 trong các kết quả của danh sách: \"Yes, No\"| No|\n",
    "|9. Did your research make use of machine learning? (select multiple)| Dữ liệu có 3 lựa chọn là Yes, the research made advances related to some novel machine learning method (theoretical research), Yes, the research made use of machine learning as a tool (applied research), No | No|\n",
    "|10. For how many years have you been writing code and/or programming?| I have never written code < 1 years, 1-2 years, 3-5 years, 5-10 years, 10-20 years, 20+ years| 1-2 years|\n",
    "|11. What programming languages do you use on a regular basis? (Select all that apply)| Dữ liệu thu được bao gồm 1 trong các kết quả của danh sách: \"Python, R, SQL, C, C++, Java, Javascript, Julia, Swift, Bash, MATLAB, None, Other, C#, PHP, Go\"| Python|\n",
    "|12. Which of the following integrated development environments (IDE's) do you use on a regular basis? (Select all that apply)| Dữ liệu thu được bao gồm 1 trong các kết quả của danh sách: \"Jupyter,  RStudio / Posit,  Visual Studio Code (VSCode),  PyCharm,  Spyder,  Notepad++,  Sublime Text,  Vim, Emacs, or similiar,  MATLAB, Jupyter Notebook, IntelliJ, None,  Other\"| Jupyter |\n",
    "|13. Do you use any of the following hosted notebook products? (Select all that apply)|Kaggle Notebooks, Colab Notebooks, Azure Notebooks, Code Ocean, IBM Watson Studio, Amazon Sagemaker Studio, Amazon Sagemaker Studio Lab, Amazon EMR Notebooks, Google Cloud Vertex AI Workbench, Hex Workspaces, Noteable Notebooks, Databricks Collaborative Notebooks, Deepnote Notebooks, Gradient,Notebooks, None, Other\"| Kaggle Notebooks|\n",
    "|14. Do you use any of the following data visualization libraries on a regular basis?|Dữ liệu thu được bao gồm 1 hoặc nhiều lựa chọn của danh sách sau: \"Matplotlib, Seaborn, Plotly / Plotly Express, Ggplot / ggplot2, Shiny, D3 js, Altair, Bokeh, Geoplotlib, Leaflet / Folium, Pygal, Dygraphs, Highcharter, None, Other\"|Matplotlib|\n",
    "|15. For how many years have you used machine learning methods?|Dữ liệu thu được bao gồm 1 trong các kết quả của danh sách sau: \"I do not use machine learning methods, Under 1 year, 1-2 years, 2-3 years, 3-4 years, 4-5 years, 5-10 years, 10-20 years, 20 or more years\"|5-10 years|\n",
    "|16. Which of the following machine learning frameworks do you use on a regular basis? (Select all that apply)|Dữ liệu thu được bao gồm 1 hoặc nhiều lựa chọn của danh sách sau: \"Scikit-learn, TensorFlow, Keras, PyTorch, Fast.ai, Xgboost, LightGBM, CatBoost, Caret, Tidymodels, JAX, PyTorch Lightning, Huggingface, None, Other\"|TensorFlow|\n",
    "|17. Which of the following ML algorithms do you use on a regular basis? (Select all that apply)|Dữ liệu thu được bao gồm 1 hoặc nhiều lựa chọn của danh sách sau: \"Linear or Logistic Regression, Decision Trees or Random Forests, Gradient Boosting Machines (xgboost, lightgbm, etc), Bayesian Approaches, Evolutionary Approaches, Dense Neural Networks (MLPs, etc), Convolutional Neural Networks, Generative Adversarial Networks, Recurrent Neural Networks, Transformer Networks (BERT, gpt-3, etc), Autoencoder Networks (DAE, VAE, etc), Graph Neural Networks, None, Other\"|Linear or Logistic Regression|\n",
    "|18. Which of the following natural language processing (NLP) methods do you use on a regular basis? (Select all that apply)|Dữ liệu thu được bao gồm 1 trong các kết quả của danh sách: \"Word embeddings/vectors (GLoVe, fastText, word2vec), Encoder-decoder models (seq2seq, vanilla transformers), Contextualized embeddings (ELMo, CoVe), Transformer language models (GPT-3, BERT, XLnet, etc), None, Other\"|BERT|\n",
    "..."
   ]
  },
  {
   "attachments": {},
   "cell_type": "markdown",
   "metadata": {},
   "source": [
    "# 3. Tiền xử lý dữ liệu:"
   ]
  },
  {
   "attachments": {},
   "cell_type": "markdown",
   "metadata": {},
   "source": [
    "## 3.1 Lọc dữ liệu:\n",
    "- Ta sẽ lấy thông tin những người là nhân viên trong lĩnh vực ML/DS:"
   ]
  },
  {
   "cell_type": "code",
   "execution_count": null,
   "metadata": {},
   "outputs": [],
   "source": [
    "def keep_employees_in_2022df(df: pd.DataFrame) -> pd.DataFrame:\n",
    "    # Question: Are you currently a student?\n",
    "    df = df[df['Q5'] == 'No'] \n",
    "    # Question: Select the title most similar to your current role:\n",
    "    df = df[~df[\"Q23\"].str.contains(\"not employed\", case=False, na=False)]\n",
    "    return df \n",
    "\n",
    "def keep_employees_in_2019_to_2021df(df: pd.DataFrame) -> pd.DataFrame: \n",
    "    df = df[~df[\"Q5\"].str.contains(\"Student\", case=False, na=False)]\n",
    "    df = df[~df[\"Q5\"].str.contains(\"employed\", case=False, na=False)]\n",
    "    return df\n",
    "\n",
    "def keep_employees_in_2018df(df: pd.DataFrame) -> pd.DataFrame:\n",
    "    df = df[~df[\"Q6\"].str.contains(\"Student\", case=False, na=False)]\n",
    "    df = df[~df[\"Q6\"].str.contains(\"employed\", case=False, na=False)]\n",
    "    return df\n",
    "\n",
    "def keep_employees_in_df(df: pd.DataFrame, year: int) -> pd.DataFrame: \n",
    "    if year == 2022:\n",
    "        return keep_employees_in_2022df(df)\n",
    "    elif year in [2021, 2020, 2019]:\n",
    "        return keep_employees_in_2019_to_2021df(df)\n",
    "    elif year == 2018:\n",
    "        return keep_employees_in_2018df(df)\n",
    "    elif year == 2017:\n",
    "        df = df[~(df[\"Student Status\"] == \"Yes\")]\n",
    "        df = df[~df[\"EmploymentStatus\"].str.contains(\n",
    "                \"Not employed\", case=False, na=False)]\n",
    "        return df"
   ]
  },
  {
   "attachments": {},
   "cell_type": "markdown",
   "metadata": {},
   "source": [
    "- Tiếp theo, tiến hành lọc các dữ liệu theo quốc gia bằng những hàm sau:"
   ]
  },
  {
   "cell_type": "code",
   "execution_count": null,
   "metadata": {},
   "outputs": [],
   "source": [
    "def filter_country_in_df(df: pd.DataFrame, year: int, country: str) -> pd.DataFrame:\n",
    "    if year == 2022:\n",
    "        return df[df[\"Q4\"] == country]\n",
    "    elif year >= 2018 and year <= 2021:\n",
    "        return df[df[\"Q3\"] == country]\n",
    "    elif year == 2017:\n",
    "        return df[df[\"Country\"] == country]\n",
    "\n",
    "def read_year_country_data(filename: str, year: int, country: str, employee: bool) -> pd.DataFrame:\n",
    "    df = pd.read_csv(filename, dtype=str)\n",
    "    df = filter_country_in_df(df, year, country)\n",
    "    if employee == True:\n",
    "        df = keep_employees_in_df(df, year)\n",
    "    return df"
   ]
  },
  {
   "attachments": {},
   "cell_type": "markdown",
   "metadata": {},
   "source": [
    "- Hàm đọc tất cả dữ liệu từ các năm lại với nhau:"
   ]
  },
  {
   "cell_type": "code",
   "execution_count": null,
   "metadata": {},
   "outputs": [],
   "source": [
    "from typing import Dict, List\n",
    "\n",
    "def read_data_from_all_years(\n",
    "    years: List[int],\n",
    "    filepaths: List[str],\n",
    "    countries: List[str],\n",
    "    employee: bool) -> Dict[str, Dict[int, pd.DataFrame]]:\n",
    "    \"\"\" Returns the survey yearly data of respondents of\n",
    "    specific countries and that are employees/retirees.\"\"\"\n",
    "    all_years_data = {}\n",
    "\n",
    "    for country in countries:\n",
    "        all_years_data[country] = {}\n",
    "        for year, filepath in zip(years, filepaths):\n",
    "            country_year_data = read_year_country_data(filepath, year, country, employee)\n",
    "            assert country_year_data is not None\n",
    "            all_years_data[country][year] = country_year_data\n",
    "    return all_years_data"
   ]
  },
  {
   "attachments": {},
   "cell_type": "markdown",
   "metadata": {},
   "source": [
    "- Hàm lấy tất cả dữ liệu là tuổi:"
   ]
  },
  {
   "cell_type": "code",
   "execution_count": null,
   "metadata": {},
   "outputs": [],
   "source": [
    "def get_age_data(df: pd.DataFrame, year: int) -> pd.Series:\n",
    "    if year in [2022, 2018]:\n",
    "        age_data = df[\"Q2\"]\n",
    "    elif year in [2021, 2020, 2019]:\n",
    "        age_data = df[\"Q1\"]\n",
    "\n",
    "    age_data = age_data.replace(\"80+\", \"70+\")\n",
    "    return age_data.replace(\"70-79\", \"70+\")"
   ]
  },
  {
   "attachments": {},
   "cell_type": "markdown",
   "metadata": {},
   "source": [
    "- Hàm lấy dữ liệu là giới tính:"
   ]
  },
  {
   "cell_type": "code",
   "execution_count": null,
   "metadata": {},
   "outputs": [],
   "source": [
    "def get_gender_data(df: pd.DataFrame, year: int) -> pd.Series:\n",
    "    if year==2022:\n",
    "        gender_data = df[\"Q3\"]\n",
    "        gender_data = gender_data.replace(\"Male\", \"Man\")\n",
    "        gender_data = gender_data.replace(\"Female\", \"Woman\")\n",
    "        return gender_data\n",
    "    if year in [2021, 2020, 2019]:\n",
    "        gender_data = df[\"Q2\"]\n",
    "        gender_data = gender_data.replace(\"Male\", \"Man\")\n",
    "        gender_data = gender_data.replace(\"Female\", \"Woman\")\n",
    "        return gender_data\n",
    "    elif year==2018:\n",
    "        gender_data = df[\"Q1\"]\n",
    "        gender_data = gender_data.replace(\"Male\", \"Man\")\n",
    "        gender_data = gender_data.replace(\"Female\", \"Woman\")\n",
    "        return gender_data"
   ]
  },
  {
   "attachments": {},
   "cell_type": "markdown",
   "metadata": {},
   "source": [
    "- Hàm lấy lương đã được gắn nhãn:"
   ]
  },
  {
   "cell_type": "code",
   "execution_count": null,
   "metadata": {},
   "outputs": [],
   "source": [
    "import numpy as np\n",
    "\n",
    "bigmac_price = {\n",
    "    \"Viet Nam\": {\n",
    "        2022: 3.45474749865043,\n",
    "        2021: 3.27117733170782,\n",
    "        2020: 3.27117733170782,\n",
    "        2019: 3.27117733170782,\n",
    "        2018: 3.27117733170782,\n",
    "    },\n",
    "    \"United States of America\": {\n",
    "        2022: 4.54640118103503,\n",
    "        2021: 4.75935662467434,\n",
    "        2020: 4.71797911563537,\n",
    "        2019: 4.51734673325535,\n",
    "        2018: 4.57758988396032,\n",
    "    },\n",
    "    \"China\": {\n",
    "        2022: 3.64104793756501,\n",
    "        2021: 3.53487733533526,\n",
    "        2020: 3.30759148628284,\n",
    "        2019: 3.28136332239687,\n",
    "        2018: 3.23090135161334,\n",
    "    },\n",
    "    \"India\": {\n",
    "        2022: 3.42355999236184,\n",
    "        2021: 3.21614517431256,\n",
    "        2020: 2.96866603376469,\n",
    "        2019: 2.99855627219012,\n",
    "        2018: 2.94345521926975,\n",
    "    },\n",
    "}\n",
    "\n",
    "def convert_salary_to_num_bigmacs(salary_data: List[float], year: int, country: str) -> List[float]:\n",
    "    return salary_data//bigmac_price[country][year]\n",
    "\n",
    "\n",
    "def convert_str_range_to_median(str_range: str) -> float:\n",
    "    if not pd.isnull(str_range):\n",
    "        str_range = str_range.replace(\",\", \"\")\n",
    "        str_range = str_range.replace(\"$\", \"\")\n",
    "        str_range = str_range.replace(\">\", \"\")\n",
    "        str_range = str_range.replace(\"+\", \"\")\n",
    "        str_range = str_range.replace(\" \", \"\")\n",
    "\n",
    "        if \"-\" in str_range:\n",
    "            index = str_range.find(\"-\")\n",
    "            smallest = float(str_range[:index])\n",
    "            largest = float(str_range[(index+1):])\n",
    "            result = (largest + smallest)/2\n",
    "            return result\n",
    "        else:\n",
    "            result = float(str_range)\n",
    "            return result\n",
    "    else:\n",
    "        return str_range\n",
    "    \n",
    "\n",
    "def process_2018_salary_ranges(str_range: str) -> str:\n",
    "    if not pd.isnull(str_range):\n",
    "        if \"-\" in str_range:\n",
    "            index = str_range.find(\"-\")\n",
    "            smallest = str_range[:index]\n",
    "            largest = str_range[(index+1):]\n",
    "            return f\"{smallest},000-{largest}\"\n",
    "        else:\n",
    "            return str_range\n",
    "    else:\n",
    "        return str_range\n",
    "    \n",
    "\n",
    "def process_salary_data(salary_data: pd.Series, year: int, country: str) -> List[float]:\n",
    "    if year == 2018:\n",
    "        salary_data = salary_data.apply(process_2018_salary_ranges)\n",
    "    salary_data = salary_data.apply(convert_str_range_to_median)\n",
    "\n",
    "    return convert_salary_to_num_bigmacs(salary_data, year, country)\n",
    "\n",
    "def get_salary_data(df: pd.DataFrame, year: int, country: str) -> List[float]:\n",
    "    salary_data_select = {\n",
    "        2022: \"Q29\",\n",
    "        2021: \"Q25\",\n",
    "        2020: \"Q24\",\n",
    "        2019: \"Q10\",\n",
    "        2018: \"Q9\"\n",
    "    }\n",
    "    assert year in salary_data_select\n",
    "    salary_data = df[salary_data_select[year]]\n",
    "    salary_data = salary_data.replace(\"I do not wish to disclose my approximate yearly compensation\", np.nan)\n",
    "    salary_data = process_salary_data(salary_data, year, country)\n",
    "    \n",
    "    return salary_data"
   ]
  },
  {
   "attachments": {},
   "cell_type": "markdown",
   "metadata": {},
   "source": [
    "- Hàm lấy các chức vụ công việc trong ML và khoa học dữ liệu:"
   ]
  },
  {
   "cell_type": "code",
   "execution_count": null,
   "metadata": {},
   "outputs": [],
   "source": [
    "def get_title_data(df: pd.DataFrame, year: int) -> pd.Series:\n",
    "    if year==2022:\n",
    "        title_data = df[\"Q23\"]\n",
    "    elif year in [2021, 2020, 2019]:\n",
    "        title_data = df[\"Q5\"]\n",
    "    elif year == 2018:\n",
    "        title_data = df[\"Q6\"]\n",
    "    \n",
    "    title_data = title_data.replace(\"Data Analyst (Business, Marketing, Financial, Quantitative, etc)\", \"Data Analyst\")\n",
    "    title_data = title_data.replace(\"Manager (Program, Project, Operations, Executive-level, etc)\", \"Manager\")\n",
    "    return title_data"
   ]
  },
  {
   "attachments": {},
   "cell_type": "markdown",
   "metadata": {},
   "source": [
    "- Hàm xác định trình độ học vấn:"
   ]
  },
  {
   "cell_type": "code",
   "execution_count": null,
   "metadata": {},
   "outputs": [],
   "source": [
    "def get_formal_education_data(df: pd.DataFrame, year: int) -> pd.Series:\n",
    "    \"\"\" Returns the column from a dataframe with the level of formal\n",
    "        education. \"\"\"\n",
    "\n",
    "    if year == 2022:\n",
    "        formal_education_data = df[\"Q8\"]\n",
    "    else:\n",
    "        formal_education_data = df[\"Q4\"]\n",
    "\n",
    "    formal_education_data = formal_education_data.replace(\n",
    "        \"Professional doctorate\", \"Professional degree\")\n",
    "    formal_education_data = formal_education_data.replace(\n",
    "        \"Some college/university study without earning a bachelor’s degree\",\n",
    "        \"Some college/university study without<br>earning a bachelor's degree\"\n",
    "    )\n",
    "    formal_education_data = formal_education_data.replace(\n",
    "        \"Bachelor’s degree\", \"Bachelor's degree\")\n",
    "    formal_education_data = formal_education_data.replace(\n",
    "        \"Master’s degree\", \"Master's degree\")\n",
    "\n",
    "    return formal_education_data\n",
    "\n",
    "def get_multiple_answers_data(df: pd.DataFrame, data_select: dict, year: int) -> pd.Series:\n",
    "\n",
    "    columns = df.columns.values\n",
    "\n",
    "    columns_to_select = []\n",
    "    for column in columns:\n",
    "        if data_select[year] in column:\n",
    "            columns_to_select.append(column)\n",
    "    \n",
    "    return df[columns_to_select].apply(lambda row: ' -- '.join(row.dropna().values.astype(str)), axis=1)"
   ]
  },
  {
   "attachments": {},
   "cell_type": "markdown",
   "metadata": {},
   "source": [
    "- Hàm lấy những nền tảng học dữ liệu từ các nhân viên:"
   ]
  },
  {
   "cell_type": "code",
   "execution_count": null,
   "metadata": {},
   "outputs": [],
   "source": [
    "def get_learning_platforms_data(df: pd.DataFrame, year: int) -> pd.Series:\n",
    "    data_select = {\n",
    "        2022: \"Q6\",\n",
    "        2021: \"Q40\",\n",
    "        2020: \"Q37\",\n",
    "        2019: \"Q13\",\n",
    "        2018: \"Q36\"\n",
    "    }\n",
    "    return get_multiple_answers_data(df, data_select, year)"
   ]
  },
  {
   "attachments": {},
   "cell_type": "markdown",
   "metadata": {},
   "source": [
    "- Hàm lấy năm kinh nghiệm làm việc (code) của những nhân viên đó:"
   ]
  },
  {
   "cell_type": "code",
   "execution_count": null,
   "metadata": {},
   "outputs": [],
   "source": [
    "def get_coding_experience_data(df: pd.DataFrame, year: int) -> pd.Series:\n",
    "    if year == 2022:\n",
    "        experience_data = df[\"Q11\"]\n",
    "    elif year in [2021, 2020]:\n",
    "        experience_data = df[\"Q6\"]\n",
    "    elif year == 2019:\n",
    "        experience_data = df[\"Q15\"]\n",
    "    else:\n",
    "        experience_data = df[\"Q24\"]\n",
    "        experience_data = experience_data.replace(\n",
    "            \"I have never written code and I do not want to learn\",\n",
    "            \"I have never written code\")\n",
    "        experience_data = experience_data.replace(\n",
    "            \"I have never written code but I want to learn\",\n",
    "            \"I have never written code\")\n",
    "        experience_data = experience_data.replace(\n",
    "            \"20-30 years\",\n",
    "            \"20+ years\")\n",
    "        experience_data = experience_data.replace(\n",
    "            \"30-40 years\",\n",
    "            \"20+ years\")\n",
    "        experience_data = experience_data.replace(\n",
    "            \"40+ years\",\n",
    "            \"20+ years\")\n",
    "    \n",
    "    experience_data = experience_data.replace(\"1-3 years\", \"1-5 years\")\n",
    "    experience_data = experience_data.replace(\"3-5 years\", \"1-5 years\")\n",
    "    experience_data = experience_data.replace(\"1-2 years\", \"1-5 years\")\n",
    "    experience_data = experience_data.replace(\"2-5 years\", \"1-5 years\")\n",
    "    experience_data = experience_data.replace(\"< 1 years\", \"< 1 year\")\n",
    "    \n",
    "    return experience_data"
   ]
  },
  {
   "attachments": {},
   "cell_type": "markdown",
   "metadata": {},
   "source": [
    "- Hàm lấy kinh nghiệm làm việc (với ML) của những nhân viên đó:"
   ]
  },
  {
   "cell_type": "code",
   "execution_count": null,
   "metadata": {},
   "outputs": [],
   "source": [
    "def get_ML_experience_data(df: pd.DataFrame, year: int) -> pd.Series:\n",
    "    \"\"\" Returns the column from a dataframe with the ML experience in\n",
    "    years.\"\"\"\n",
    "    if year == 2022:\n",
    "        experience_data = df[\"Q16\"]\n",
    "    elif year in [2021, 2020]:\n",
    "        experience_data = df[\"Q15\"]\n",
    "    elif year == 2019:\n",
    "        experience_data = df[\"Q23\"]\n",
    "        experience_data = experience_data.replace(\"10-15 years\", \"10-20 years\")\n",
    "    else:\n",
    "        experience_data = df[\"Q25\"]\n",
    "        experience_data = experience_data.replace(\"10-15 years\", \"10-20 years\")\n",
    "        experience_data = experience_data.replace(\"I have never studied machine learning but plan to learn in the future\", \"I do not use machine<br>learning methods\")\n",
    "        experience_data = experience_data.replace(\"I have never studied machine learning and I do not plan to\", \"I do not use machine<br>learning methods\")\n",
    "    experience_data = experience_data.replace(\"< 1 years\", \"< 1 year\")\n",
    "    experience_data = experience_data.replace(\"Under 1 year\", \"< 1 year\")\n",
    "    experience_data = experience_data.replace(\"20 or more years\", \"20+ years\")\n",
    "    experience_data = experience_data.replace(\"I do not use machine learning methods\", \"I do not use machine<br>learning methods\")\n",
    "    return experience_data"
   ]
  },
  {
   "attachments": {},
   "cell_type": "markdown",
   "metadata": {},
   "source": [
    "- Hàm lấy những dữ liệu quan trọng các hành động tại nơi làm việc"
   ]
  },
  {
   "cell_type": "code",
   "execution_count": null,
   "metadata": {},
   "outputs": [],
   "source": [
    "def get_important_activities_data(df: pd.DataFrame, year: int) -> pd.Series:\n",
    "    data_select = {\n",
    "        2022: \"Q28\",\n",
    "        2021: \"Q24\",\n",
    "        2020: \"Q23\",\n",
    "        2019: \"Q9\",\n",
    "        2018: \"Q11\"\n",
    "    }\n",
    "    \n",
    "    return get_multiple_answers_data(df, data_select, year)"
   ]
  },
  {
   "attachments": {},
   "cell_type": "markdown",
   "metadata": {},
   "source": [
    "- Hàm lấy những ngôn ngữ họ sử dụng:"
   ]
  },
  {
   "cell_type": "code",
   "execution_count": null,
   "metadata": {},
   "outputs": [],
   "source": [
    "def get_language_data(df: pd.DataFrame, year: int) -> pd.Series:\n",
    "    data_select = {\n",
    "        2022: \"Q12\",\n",
    "        2021: \"Q7\",\n",
    "        2020: \"Q7\",\n",
    "        2019: \"Q18\",\n",
    "        2018: \"Q16\"\n",
    "    }\n",
    "    return get_multiple_answers_data(df, data_select, year)"
   ]
  },
  {
   "attachments": {},
   "cell_type": "markdown",
   "metadata": {},
   "source": [
    "- Hàm lấy các IDE họ sử dụng:"
   ]
  },
  {
   "cell_type": "code",
   "execution_count": null,
   "metadata": {},
   "outputs": [],
   "source": [
    "def get_IDE_data(df: pd.DataFrame, year: int) -> pd.Series:\n",
    "    data_select = {\n",
    "        2022: \"Q13\",\n",
    "        2021: \"Q9\",\n",
    "        2020: \"Q9\",\n",
    "        2019: \"Q16\",\n",
    "        2018: \"Q13\"\n",
    "    }\n",
    "    return get_multiple_answers_data(df, data_select, year)"
   ]
  },
  {
   "attachments": {},
   "cell_type": "markdown",
   "metadata": {},
   "source": [
    "- Hàm lấy kiểu notebook họ sử dụng:"
   ]
  },
  {
   "cell_type": "code",
   "execution_count": null,
   "metadata": {},
   "outputs": [],
   "source": [
    "def get_notebook_data(df: pd.DataFrame, year: int) -> pd.Series:\n",
    "    data_select = {\n",
    "        2022: \"Q14\",\n",
    "        2021: \"Q10\",\n",
    "        2020: \"Q10\",\n",
    "        2019: \"Q17\",\n",
    "        2018: \"Q14\"\n",
    "    }\n",
    "    return get_multiple_answers_data(df, data_select, year)"
   ]
  },
  {
   "attachments": {},
   "cell_type": "markdown",
   "metadata": {},
   "source": [
    "- Hàm lấy công cụ trực quan hóa dữ liệu họ sử dụng:"
   ]
  },
  {
   "cell_type": "code",
   "execution_count": null,
   "metadata": {},
   "outputs": [],
   "source": [
    "def get_visualization_tools_data(df: pd.DataFrame, year: int) -> pd.Series:\n",
    "    data_select = {\n",
    "        2022: \"Q15\",\n",
    "        2021: \"Q14\",\n",
    "        2020: \"Q14\",\n",
    "        2019: \"Q20\",\n",
    "        2018: \"Q21\"\n",
    "    }\n",
    "    return get_multiple_answers_data(df, data_select, year)"
   ]
  },
  {
   "attachments": {},
   "cell_type": "markdown",
   "metadata": {},
   "source": [
    "- Hàm lấy các framework ML họ sử dụng:"
   ]
  },
  {
   "cell_type": "code",
   "execution_count": null,
   "metadata": {},
   "outputs": [],
   "source": [
    "def get_ML_frameworks_data(df: pd.DataFrame, year: int) -> pd.Series:\n",
    "    data_select = {\n",
    "        2022: \"Q17\",\n",
    "        2021: \"Q16\",\n",
    "        2020: \"Q16\",\n",
    "        2019: \"Q28\",\n",
    "        2018: \"Q19\"\n",
    "    }\n",
    "    return get_multiple_answers_data(df, data_select, year)"
   ]
  },
  {
   "attachments": {},
   "cell_type": "markdown",
   "metadata": {},
   "source": [
    "- Hàm lấy các thuật toán ML họ sử dụng:"
   ]
  },
  {
   "cell_type": "code",
   "execution_count": null,
   "metadata": {},
   "outputs": [],
   "source": [
    "def get_ML_algorithms_data(df: pd.DataFrame, year: int) -> pd.Series:\n",
    "    data_select = {\n",
    "        2022: \"Q18\",\n",
    "        2021: \"Q17\",\n",
    "        2020: \"Q17\",\n",
    "        2019: \"Q24\",\n",
    "    }\n",
    "    return get_multiple_answers_data(df, data_select, year)"
   ]
  },
  {
   "attachments": {},
   "cell_type": "markdown",
   "metadata": {},
   "source": [
    "- Hàm lấy các phuong pháp thị giác máy tính họ sử dụng:"
   ]
  },
  {
   "cell_type": "code",
   "execution_count": null,
   "metadata": {},
   "outputs": [],
   "source": [
    "def get_computer_vision_methods_data(df: pd.DataFrame, year: int) -> pd.Series:\n",
    "    data_select = {\n",
    "        2022: \"Q19\",\n",
    "        2021: \"Q18\",\n",
    "        2020: \"Q18\",\n",
    "        2019: \"Q26\",\n",
    "    }\n",
    "    return get_multiple_answers_data(df, data_select, year)"
   ]
  },
  {
   "attachments": {},
   "cell_type": "markdown",
   "metadata": {},
   "source": [
    "- Hàm lấy các phương pháp xử lý ngôn ngữ tự nhiên họ sử dụng:"
   ]
  },
  {
   "cell_type": "code",
   "execution_count": null,
   "metadata": {},
   "outputs": [],
   "source": [
    "def get_NLP_methods_data(df: pd.DataFrame, year: int) -> pd.Series:\n",
    "    data_select = {\n",
    "        2022: \"Q20\",\n",
    "        2021: \"Q19\",\n",
    "        2020: \"Q19\",\n",
    "        2019: \"Q27\",\n",
    "    }\n",
    "    return get_multiple_answers_data(df, data_select, year)"
   ]
  },
  {
   "attachments": {},
   "cell_type": "markdown",
   "metadata": {},
   "source": [
    "- Hàm lấy các phần cứng ML họ dùng:"
   ]
  },
  {
   "cell_type": "code",
   "execution_count": null,
   "metadata": {},
   "outputs": [],
   "source": [
    "def get_ML_hardware_data(df: pd.DataFrame, year: int) -> pd.Series:\n",
    "    data_select = {\n",
    "        2022: \"Q42\",\n",
    "        2021: \"Q12\",\n",
    "        2020: \"Q12\",\n",
    "        2019: \"Q21\",\n",
    "    }\n",
    "    return get_multiple_answers_data(df, data_select, year)"
   ]
  },
  {
   "attachments": {},
   "cell_type": "markdown",
   "metadata": {},
   "source": [
    "- Hàm lấy dữ liệu TPU:"
   ]
  },
  {
   "cell_type": "code",
   "execution_count": null,
   "metadata": {},
   "outputs": [],
   "source": [
    "def get_TPU_data(df: pd.DataFrame, year: int) -> pd.Series:\n",
    "    data_select = {\n",
    "        2022: \"Q43\",\n",
    "        2021: \"Q13\",\n",
    "        2020: \"Q13\",\n",
    "        2019: \"Q22\",\n",
    "    }\n",
    "    tpu_data = df[data_select[year]]\n",
    "    tpu_data = tpu_data.replace(\"More than 25 times\", \"> 25 times\")\n",
    "    tpu_data = tpu_data.replace(\"6-24 times\", \"6-25 times\")\n",
    "    return tpu_data\n"
   ]
  },
  {
   "attachments": {},
   "cell_type": "markdown",
   "metadata": {},
   "source": [
    "- Hàm lấy công cụ quản lý ML họ sử dụng:"
   ]
  },
  {
   "cell_type": "code",
   "execution_count": null,
   "metadata": {},
   "outputs": [],
   "source": [
    "def get_managed_ML_data(df: pd.DataFrame, year: int) -> pd.Series:\n",
    "    data_select = {\n",
    "        2022: \"Q37\",\n",
    "        2021: \"Q31_A\", \n",
    "        2020: \"Q28_A\", \n",
    "        2018: \"Q28\" \n",
    "    }\n",
    "    return get_multiple_answers_data(df, data_select, year)"
   ]
  },
  {
   "attachments": {},
   "cell_type": "markdown",
   "metadata": {},
   "source": [
    "- Hàm trả về dữ liệu ML tools họ sử dụng:"
   ]
  },
  {
   "cell_type": "code",
   "execution_count": null,
   "metadata": {},
   "outputs": [],
   "source": [
    "def get_auto_ML_data(df: pd.DataFrame, year: int) -> pd.Series:\n",
    "    \"\"\" Returns data on auto ML tools usage.\"\"\"\n",
    "    data_select = {\n",
    "        2022: \"Q38\",\n",
    "        2021: \"Q37_A\",\n",
    "        2020: \"Q34_A\", #\n",
    "        2019: \"Q33\", #\n",
    "    }\n",
    "    return get_multiple_answers_data(df, data_select, year)"
   ]
  },
  {
   "attachments": {},
   "cell_type": "markdown",
   "metadata": {},
   "source": [
    "- Hàm trả về dữ liệu ML research:"
   ]
  },
  {
   "cell_type": "code",
   "execution_count": null,
   "metadata": {},
   "outputs": [],
   "source": [
    "def get_ML_research_data(df: pd.DataFrame, year: int) -> pd.Series:\n",
    "    data_select = {\n",
    "        2022: \"Q10\"\n",
    "    }\n",
    "    ML_research_data = get_multiple_answers_data(df, data_select, year)\n",
    "    ML_research_data = ML_research_data.replace(\"Yes, the research made advances related to some novel machine learning method (theoretical research)\", \"Yes, theoretical research\")\n",
    "    ML_research_data = ML_research_data.replace(\"Yes, the research made use of machine learning as a tool (applied research)\", \"Yes, applied research\")\n",
    "    ML_research_data = ML_research_data.replace(\"Yes, the research made advances related to some novel machine learning method (theoretical research) -- Yes, the research made use of machine learning as a tool (applied research)\", \"Yes, both theoretical<br>and applied research\")\n",
    "\n",
    "    return ML_research_data"
   ]
  },
  {
   "attachments": {},
   "cell_type": "markdown",
   "metadata": {},
   "source": [
    "- Hàm trả về ML serve products:"
   ]
  },
  {
   "cell_type": "code",
   "execution_count": null,
   "metadata": {},
   "outputs": [],
   "source": [
    "def get_ML_serve_data(df: pd.DataFrame, year: int) -> pd.Series:\n",
    "    \"\"\" Returns data on ML serve products.\"\"\"\n",
    "    data_select = {\n",
    "        2022: \"Q39\"\n",
    "    }\n",
    "    return get_multiple_answers_data(df, data_select, year)"
   ]
  },
  {
   "attachments": {},
   "cell_type": "markdown",
   "metadata": {},
   "source": [
    "- Hàm lấy dữ liệu monitoring ML tools:"
   ]
  },
  {
   "cell_type": "code",
   "execution_count": null,
   "metadata": {},
   "outputs": [],
   "source": [
    "def get_ML_monitor_tools_data(df: pd.DataFrame, year: int) -> pd.Series:\n",
    "    \"\"\" Returns data on ML monitoring tools.\"\"\"\n",
    "    data_select = {\n",
    "        2022: \"Q40\",\n",
    "        2021: \"Q38_A\", #\n",
    "        2020: \"Q35_A\", #\n",
    "    }\n",
    "    return get_multiple_answers_data(df, data_select, year)"
   ]
  },
  {
   "attachments": {},
   "cell_type": "markdown",
   "metadata": {},
   "source": [
    "- Những hàm sau lần lượt lấy những câu hỏi đã được đánh dấu ở comment:"
   ]
  },
  {
   "cell_type": "code",
   "execution_count": null,
   "metadata": {},
   "outputs": [],
   "source": [
    "def get_ethical_AI_data(df: pd.DataFrame, year: int) -> pd.Series:\n",
    "    \"\"\" Returns data on ethical AI tools.\"\"\"\n",
    "    data_select = {\n",
    "        2022: \"Q41\",\n",
    "    }\n",
    "    return get_multiple_answers_data(df, data_select, year)"
   ]
  },
  {
   "cell_type": "code",
   "execution_count": null,
   "metadata": {},
   "outputs": [],
   "source": [
    "def get_cloud_computing_tools_data(df: pd.DataFrame, year: int) -> pd.Series:\n",
    "    \"\"\" Returns data on Cloud Computing tools.\"\"\"\n",
    "    data_select = {\n",
    "        2022: \"Q31\",\n",
    "        2021: \"Q27_A\", #\n",
    "        2020: \"Q26_A\", #\n",
    "        2019: \"Q29\", #\n",
    "        2018: \"Q15\" #\n",
    "    }\n",
    "    return get_multiple_answers_data(df, data_select, year)"
   ]
  },
  {
   "cell_type": "code",
   "execution_count": null,
   "metadata": {},
   "outputs": [],
   "source": [
    "def get_cloud_computing_products_data(df: pd.DataFrame, year: int) -> pd.Series:\n",
    "    \"\"\" Returns data on Cloud Computing products.\"\"\"\n",
    "    data_select = {\n",
    "        2022: \"Q33\",\n",
    "        2021: \"Q29_A\",\n",
    "        2020: \"Q27_A\", #\n",
    "        2019: \"Q30\", #\n",
    "        2018: \"Q27\" #\n",
    "    }\n",
    "    return get_multiple_answers_data(df, data_select, year)"
   ]
  },
  {
   "cell_type": "code",
   "execution_count": null,
   "metadata": {},
   "outputs": [],
   "source": [
    "def get_data_storage_data(df: pd.DataFrame, year: int) -> pd.Series:\n",
    "    \"\"\" Returns data on used data storage products.\"\"\"\n",
    "    data_select = {\n",
    "        2022: \"Q34\",\n",
    "        2021: \"Q30_A\", #\n",
    "    }\n",
    "    return get_multiple_answers_data(df, data_select, year)"
   ]
  },
  {
   "cell_type": "code",
   "execution_count": null,
   "metadata": {},
   "outputs": [],
   "source": [
    "def get_data_products_data(df: pd.DataFrame, year: int) -> pd.Series:\n",
    "    \"\"\" Returns data on data products usage.\"\"\"\n",
    "    data_select = {\n",
    "        2022: \"Q35\",\n",
    "        2021: \"Q32_A\", #\n",
    "        2020: \"Q29_A\", #\n",
    "    }\n",
    "    return get_multiple_answers_data(df, data_select, year)"
   ]
  },
  {
   "cell_type": "code",
   "execution_count": null,
   "metadata": {},
   "outputs": [],
   "source": [
    "def get_spent_money_data(df: pd.DataFrame, year: int) -> pd.Series:\n",
    "    \"\"\" Returns data on money spent on cloud computing or ML.\"\"\"\n",
    "    data_select = {\n",
    "        2022: \"Q30\",\n",
    "        2021: \"Q26\",\n",
    "        2020: \"Q25\",\n",
    "        2019: \"Q11\",\n",
    "    }\n",
    "    return df[data_select[year]]"
   ]
  },
  {
   "cell_type": "code",
   "execution_count": null,
   "metadata": {},
   "outputs": [],
   "source": [
    "def get_industry_type_data(df: pd.DataFrame, year: int) -> pd.Series:\n",
    "    \"\"\" Returns data on Industry type.\"\"\"\n",
    "    data_select = {\n",
    "        2022: \"Q24\",\n",
    "        2021: \"Q20\",\n",
    "        2018: \"Q7\"\n",
    "    }\n",
    "    return df[data_select[year]]"
   ]
  },
  {
   "cell_type": "code",
   "execution_count": null,
   "metadata": {},
   "outputs": [],
   "source": [
    "def get_company_size_data(df: pd.DataFrame, year: int) -> pd.Series:\n",
    "    \"\"\" Returns data on Company size.\"\"\"\n",
    "    data_select = {\n",
    "        2022: \"Q25\",\n",
    "        2021: \"Q21\",\n",
    "        2020: \"Q20\",\n",
    "        2019: \"Q6\",\n",
    "    }\n",
    "    company_size_data = df[data_select[year]]\n",
    "    company_size_data = company_size_data.replace(\n",
    "        \"10,000 or more employees\", \"> 10,000 employees\")\n",
    "    return company_size_data"
   ]
  },
  {
   "cell_type": "code",
   "execution_count": null,
   "metadata": {},
   "outputs": [],
   "source": [
    "def get_num_data_scientists_data(df: pd.DataFrame, year: int) -> pd.Series:\n",
    "    \"\"\" Returns data on the number of data scientists in the job.\"\"\"\n",
    "    data_select = {\n",
    "        2022: \"Q26\",\n",
    "        2021: \"Q22\",\n",
    "        2020: \"Q21\",\n",
    "        2019: \"Q7\",\n",
    "    }\n",
    "    return df[data_select[year]]"
   ]
  },
  {
   "cell_type": "code",
   "execution_count": null,
   "metadata": {},
   "outputs": [],
   "source": [
    "def get_ML_usage_in_business_data(df: pd.DataFrame, year: int) -> pd.Series:\n",
    "    \"\"\" Returns data on how ML is being used in business.\"\"\"\n",
    "    data_select = {\n",
    "        2022: \"Q27\",\n",
    "        2021: \"Q23\",\n",
    "        2020: \"Q22\",\n",
    "        2019: \"Q8\",\n",
    "        2018: \"Q10\"\n",
    "    }\n",
    "    return df[data_select[year]]"
   ]
  },
  {
   "cell_type": "code",
   "execution_count": null,
   "metadata": {},
   "outputs": [],
   "source": [
    "def get_df_for_year_and_country(df: pd.DataFrame, year: int, country: str) -> pd.DataFrame:\n",
    "    \"\"\" Returns a dataframe with age, gender, salary and job title information\n",
    "    extracted from a dataframe.\"\"\"\n",
    "    new_df = pd.DataFrame()\n",
    "    new_df[\"Age\"] = get_age_data(df, year)\n",
    "    new_df[\"Gender\"] = get_gender_data(df, year)\n",
    "    new_df[\"Salary\"] = get_salary_data(df, year, country)\n",
    "    new_df[\"Title\"] = get_title_data(df, year)\n",
    "\n",
    "\n",
    "    new_df[\"Formal Education\"] = get_formal_education_data(df, year)\n",
    "    new_df[\"Learning Platforms\"] = get_learning_platforms_data(df, year)\n",
    "\n",
    "    new_df[\"Coding Experience\"] = get_coding_experience_data(df, year)\n",
    "    new_df[\"ML Experience\"] = get_ML_experience_data(df, year)\n",
    "    new_df[\"Important Activities\"] = get_important_activities_data(df, year)\n",
    "\n",
    "    new_df[\"Languages\"] = get_language_data(df, year)\n",
    "    new_df[\"IDEs\"] = get_IDE_data(df, year)\n",
    "    new_df[\"Notebooks\"] = get_notebook_data(df, year)\n",
    "    new_df[\"Visualization Tools\"] = get_visualization_tools_data(df, year)\n",
    "    new_df[\"ML Frameworks\"] = get_ML_frameworks_data(df, year)\n",
    "\n",
    "    new_df[\"Cloud Computing Tools\"] = get_cloud_computing_tools_data(df, year)\n",
    "    new_df[\"Cloud Computing Products\"] = get_cloud_computing_products_data(df, year)\n",
    "    \n",
    "    \n",
    "    new_df[\"ML Usage in Business\"] = get_ML_usage_in_business_data(df, year)\n",
    "\n",
    "    if year == 2018:\n",
    "        new_df[\"ML Algorithms\"] = [None] * len(new_df[\"Age\"])\n",
    "        new_df[\"Computer Vision Methods\"] = [None] * len(new_df[\"Age\"])\n",
    "        new_df[\"NLP Methods\"] = [None] * len(new_df[\"Age\"])\n",
    "        new_df[\"ML Hardware\"] = [None] * len(new_df[\"Age\"])\n",
    "        new_df[\"TPU\"] = [None] * len(new_df[\"Age\"])\n",
    "        new_df[\"AutoML\"] = [None] * len(new_df[\"Age\"])\n",
    "        new_df[\"Company Size\"] = [None] * len(new_df[\"Age\"])\n",
    "        new_df[\"Number of Data Scientists\"] = [None] * len(new_df[\"Age\"])\n",
    "        new_df[\"Money Spent\"] = [None] * len(new_df[\"Age\"])\n",
    "    else:\n",
    "        new_df[\"ML Algorithms\"] = get_ML_algorithms_data(df, year)\n",
    "        new_df[\"Computer Vision Methods\"] = get_computer_vision_methods_data(df, year)\n",
    "        new_df[\"NLP Methods\"] = get_NLP_methods_data(df, year)\n",
    "        new_df[\"ML Hardware\"] = get_ML_hardware_data(df, year)\n",
    "        new_df[\"TPU\"] = get_TPU_data(df, year)\n",
    "        new_df[\"AutoML\"] = get_auto_ML_data(df, year)\n",
    "        new_df[\"Company Size\"] = get_company_size_data(df, year)\n",
    "        new_df[\"Number of Data Scientists\"]= get_num_data_scientists_data(df, year)\n",
    "        new_df[\"Money Spent\"] = get_spent_money_data(df, year)\n",
    "\n",
    "    if year == 2019:\n",
    "        new_df[\"Managed ML\"] = [None] * len(new_df[\"Age\"])\n",
    "    else:\n",
    "        new_df[\"Managed ML\"] = get_managed_ML_data(df, year)\n",
    "\n",
    "    if year == 2022:\n",
    "        new_df[\"Published Papers\"] = df[\"Q9\"]\n",
    "        new_df[\"ML Research\"] = get_ML_research_data(df, year)\n",
    "        new_df[\"ML Serve\"] = get_ML_serve_data(df, year)\n",
    "        new_df[\"Ethical AI tools\"] = get_ethical_AI_data(df, year)\n",
    "    else:\n",
    "        new_df[\"Published Papers\"] = [None] * len(new_df[\"Age\"])\n",
    "        new_df[\"ML Research\"] = [None] * len(new_df[\"Age\"])\n",
    "        new_df[\"ML Serve\"] = [None] * len(new_df[\"Age\"])\n",
    "        new_df[\"Ethical AI tools\"] = [None] * len(new_df[\"Age\"])\n",
    "\n",
    "    if year in [2020, 2019]:\n",
    "        new_df[\"Industry Type\"] = [None] * len(new_df[\"Age\"])\n",
    "    else:\n",
    "        new_df[\"Industry Type\"] = get_industry_type_data(df, year)\n",
    "\n",
    "    if year in [2022, 2021]:\n",
    "        new_df[\"Data Storage Products\"] = get_data_storage_data(df, year)\n",
    "    else:\n",
    "        new_df[\"Data Storage Products\"] = [None] * len(new_df[\"Age\"])\n",
    "\n",
    "    if year in [2019, 2018]:\n",
    "        new_df[\"Data Products\"] = [None] * len(new_df[\"Age\"])\n",
    "        new_df[\"ML Monitor Tools\"] = [None] * len(new_df[\"Age\"])\n",
    "    else:\n",
    "        new_df[\"Data Products\"] = get_data_products_data(df, year)\n",
    "        new_df[\"ML Monitor Tools\"] = get_ML_monitor_tools_data(df, year)\n",
    "\n",
    "    return new_df\n",
    "\n",
    "\n",
    "def get_data_for_analysis(\n",
    "    all_years_data: Dict[str, Dict[int, pd.DataFrame]]) -> Dict[str, Dict[int, pd.DataFrame]]:\n",
    "\n",
    "    diversity_data_df = pd.DataFrame()\n",
    "\n",
    "    for country in all_years_data:\n",
    "        for year in all_years_data[country]:\n",
    "            df = (\n",
    "                get_df_for_year_and_country(\n",
    "                    df = all_years_data[country][year],\n",
    "                    year = year,\n",
    "                    country = country\n",
    "                ))\n",
    "            if country == \"United States of America\":\n",
    "                df[\"Country\"] = [\"U.S.🇺🇸\"]*len(df)\n",
    "            elif country == \"Viet Nam\":\n",
    "                df[\"Country\"] = [\"Viet Nam\"]*len(df)\n",
    "            elif country == \"China\":\n",
    "                df[\"Country\"] = [\"China🇨🇳\"]*len(df)\n",
    "            elif country == \"India\":\n",
    "                df[\"Country\"] = [\"India🇮🇳\"]*len(df)\n",
    "            df[\"Year\"] = [year]*len(df)\n",
    "            if len(diversity_data_df) == 0:\n",
    "                diversity_data_df = df\n",
    "            else:\n",
    "                diversity_data_df = pd.concat([diversity_data_df, df])\n",
    "            \n",
    "    return diversity_data_df"
   ]
  },
  {
   "attachments": {},
   "cell_type": "markdown",
   "metadata": {},
   "source": [
    "---"
   ]
  },
  {
   "cell_type": "code",
   "execution_count": null,
   "metadata": {},
   "outputs": [],
   "source": [
    "\"\"\"\n",
    "Functions to make calculations on the data from analysis_df\n",
    "(salary averaged over certain groups, get percentage of respondents\n",
    "that gave a certain answer to a question)\n",
    "\"\"\"\n",
    "\n",
    "def get_salary_avg_grouped_by_year_country_and_extra_variable(\n",
    "    analysis_df: pd.DataFrame, extra_var: str) -> pd.DataFrame:\n",
    "\n",
    "    avg_data = analysis_df[[\"Year\", \"Country\", \"Salary\", extra_var]]\n",
    "    avg_data = avg_data.dropna(subset=[\"Year\", \"Country\", \"Salary\", extra_var])\n",
    "\n",
    "    tmp_df = avg_data.groupby(\n",
    "        [\"Year\", \"Country\", extra_var]).size().reset_index(name=\"Count\")\n",
    "    tmp_df = tmp_df[tmp_df[\"Count\"] >= 15] # consider only groups with more than 15 samples\n",
    "\n",
    "    avg_data[\"Keep\"] = False\n",
    "    for c,year,extra_i in zip(tmp_df[\"Country\"].values, tmp_df[\"Year\"].values, tmp_df[extra_var].values):\n",
    "        data_filter = (avg_data[\"Country\"]==c) & (avg_data[\"Year\"]==year) & (avg_data[extra_var]==extra_i)\n",
    "        avg_data.loc[data_filter,\"Keep\"] = True\n",
    "\n",
    "    avg_data = avg_data[avg_data[\"Keep\"] == True]\n",
    "\n",
    "    avg_data = avg_data.groupby(\n",
    "        [\"Year\", \"Country\", extra_var], as_index=False).mean()\n",
    "    return avg_data\n",
    "\n",
    "def get_percentage_of_multiple_choices_item(\n",
    "    analysis_df: pd.DataFrame, multiple_choice_column: str, choices:List[str],\n",
    "    re_expressions:List[str]) -> pd.DataFrame:\n",
    "    \"\"\" Returns a dataframe with the percentage of respondents for each\n",
    "    option in the choices list by country and year\"\"\"\n",
    "    countries = list(set(analysis_df[\"Country\"].values))\n",
    "    years = list(set(analysis_df[\"Year\"].values))\n",
    "\n",
    "    percentage_df_rows = []\n",
    "\n",
    "    for year in years:\n",
    "        for country in countries:\n",
    "            df = analysis_df[analysis_df[\"Year\"]==year]\n",
    "            df = df[df[\"Country\"] == country]\n",
    "            for re_expression, choice in zip(re_expressions, choices):\n",
    "                # df[multiple_choice_column] = df[multiple_choice_column].replace(np.nan, \"None\") \n",
    "                \n",
    "                # assert (df[multiple_choice_column].str.count(choice) < 2).all()\n",
    "                # num_respondents = df[multiple_choice_column].str.count(choice).sum()\n",
    "                \n",
    "                num_respondents = df[multiple_choice_column].str.contains(\n",
    "                    re_expression, regex=True, na=False, case=True).sum()\n",
    "\n",
    "                percentage = round((num_respondents*100)/len(df), 1)\n",
    "\n",
    "                percentage_df_rows.append({\n",
    "                    \"Year\": year,\n",
    "                    \"Country\": country,\n",
    "                    multiple_choice_column: choice,\n",
    "                    \"Percentage of Respondents\": percentage\n",
    "                })\n",
    "    \n",
    "\n",
    "    return pd.DataFrame(percentage_df_rows)"
   ]
  },
  {
   "cell_type": "code",
   "execution_count": null,
   "metadata": {},
   "outputs": [],
   "source": [
    "all_years_data = read_data_from_all_years(years=_YEARS,\n",
    "                                          filepaths=_FILEPATHS,\n",
    "                                          countries=_COUNTRIES,\n",
    "                                         employee=False)\n",
    "analysis_df = get_data_for_analysis(all_years_data)"
   ]
  },
  {
   "cell_type": "code",
   "execution_count": null,
   "metadata": {},
   "outputs": [],
   "source": [
    "# Lưu vào csv để dùng lại:\n",
    "analysis_df.to_csv(\"analysis_df.csv\", index=False)"
   ]
  },
  {
   "cell_type": "code",
   "execution_count": null,
   "metadata": {},
   "outputs": [],
   "source": [
    "all_years_data_employee = read_data_from_all_years(years=_YEARS,\n",
    "                                          filepaths=_FILEPATHS,\n",
    "                                          countries=_COUNTRIES,\n",
    "                                                  employee=True)\n",
    "analysis_df_employee = get_data_for_analysis(all_years_data_employee)"
   ]
  },
  {
   "cell_type": "code",
   "execution_count": null,
   "metadata": {},
   "outputs": [],
   "source": [
    "len(analysis_df_employee)"
   ]
  },
  {
   "cell_type": "code",
   "execution_count": null,
   "metadata": {},
   "outputs": [],
   "source": [
    "analysis_df_employee.to_csv(\"analysis_df_employee.csv\", index=False)"
   ]
  }
 ],
 "metadata": {
  "kernelspec": {
   "display_name": "Python 3",
   "language": "python",
   "name": "python3"
  },
  "language_info": {
   "codemirror_mode": {
    "name": "ipython",
    "version": 3
   },
   "file_extension": ".py",
   "mimetype": "text/x-python",
   "name": "python",
   "nbconvert_exporter": "python",
   "pygments_lexer": "ipython3",
   "version": "3.10.6"
  },
  "orig_nbformat": 4
 },
 "nbformat": 4,
 "nbformat_minor": 2
}
