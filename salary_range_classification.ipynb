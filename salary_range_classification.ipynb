{
 "cells": [
  {
   "attachments": {},
   "cell_type": "markdown",
   "metadata": {},
   "source": [
    "## Import thư viện"
   ]
  },
  {
   "cell_type": "code",
   "execution_count": 1,
   "metadata": {},
   "outputs": [],
   "source": [
    "import pandas as pd\n",
    "import numpy as np\n",
    "from sklearn.neighbors import KNeighborsClassifier\n",
    "from sklearn.model_selection import train_test_split, GridSearchCV\n",
    "from sklearn.metrics import accuracy_score\n",
    "from sklearn.preprocessing import LabelEncoder"
   ]
  },
  {
   "attachments": {},
   "cell_type": "markdown",
   "metadata": {},
   "source": [
    "## Đọc dữ liệu từ bộ dataset"
   ]
  },
  {
   "cell_type": "code",
   "execution_count": 2,
   "metadata": {},
   "outputs": [],
   "source": [
    "df = pd.read_csv(filepath_or_buffer='./analysis_df.csv', delimiter=',')"
   ]
  },
  {
   "attachments": {},
   "cell_type": "markdown",
   "metadata": {},
   "source": [
    "## Tiền xử lý dữ liệu để huấn luyện"
   ]
  },
  {
   "attachments": {},
   "cell_type": "markdown",
   "metadata": {},
   "source": [
    "### Drop NaN value"
   ]
  },
  {
   "cell_type": "code",
   "execution_count": 3,
   "metadata": {},
   "outputs": [],
   "source": [
    "model_df = df[df['Salary'].notna()]"
   ]
  },
  {
   "attachments": {},
   "cell_type": "markdown",
   "metadata": {},
   "source": [
    "### Feature Engineering"
   ]
  },
  {
   "cell_type": "code",
   "execution_count": 4,
   "metadata": {},
   "outputs": [
    {
     "name": "stderr",
     "output_type": "stream",
     "text": [
      "C:\\Users\\Admin\\AppData\\Local\\Temp\\ipykernel_12508\\1954369174.py:3: SettingWithCopyWarning: \n",
      "A value is trying to be set on a copy of a slice from a DataFrame.\n",
      "Try using .loc[row_indexer,col_indexer] = value instead\n",
      "\n",
      "See the caveats in the documentation: https://pandas.pydata.org/pandas-docs/stable/user_guide/indexing.html#returning-a-view-versus-a-copy\n",
      "  model_df['Salary Range'] = salary_ranges\n"
     ]
    }
   ],
   "source": [
    "salary_ranges = pd.qcut(model_df['Salary'], q=3, labels=['Low', 'Medium', 'High'])\n",
    "\n",
    "model_df['Salary Range'] = salary_ranges\n",
    "\n",
    "features = ['Age', 'Title', 'Formal Education', 'Coding Experience', 'ML Experience', 'Country']\n",
    "target = 'Salary Range'"
   ]
  },
  {
   "attachments": {},
   "cell_type": "markdown",
   "metadata": {},
   "source": [
    "### Categorical Label Encoding"
   ]
  },
  {
   "cell_type": "code",
   "execution_count": 5,
   "metadata": {},
   "outputs": [
    {
     "name": "stderr",
     "output_type": "stream",
     "text": [
      "C:\\Users\\Admin\\AppData\\Local\\Temp\\ipykernel_12508\\3152296521.py:4: SettingWithCopyWarning: \n",
      "A value is trying to be set on a copy of a slice from a DataFrame.\n",
      "Try using .loc[row_indexer,col_indexer] = value instead\n",
      "\n",
      "See the caveats in the documentation: https://pandas.pydata.org/pandas-docs/stable/user_guide/indexing.html#returning-a-view-versus-a-copy\n",
      "  model_df[feature] = label_encoder.fit_transform(model_df[feature])\n"
     ]
    }
   ],
   "source": [
    "label_encoder = LabelEncoder()\n",
    "for feature in features:\n",
    "    if model_df[feature].dtype == 'object':\n",
    "        model_df[feature] = label_encoder.fit_transform(model_df[feature])"
   ]
  },
  {
   "attachments": {},
   "cell_type": "markdown",
   "metadata": {},
   "source": [
    "## Chia tập dữ liệu thành train và set"
   ]
  },
  {
   "cell_type": "code",
   "execution_count": 6,
   "metadata": {},
   "outputs": [],
   "source": [
    "X_train, X_test, y_train, y_test = train_test_split(model_df[features], model_df[target], test_size=0.2, random_state=42)"
   ]
  },
  {
   "attachments": {},
   "cell_type": "markdown",
   "metadata": {},
   "source": [
    "## Huấn luyện mô hình bằng KNN (K-Nearest Neighbor) Classification\n",
    "\n",
    "### Bài toán: Phân lớp khoảng lương của 1 người tham gia trả lời dựa vào 1 số thông tin cá nhân của họ\n",
    "\n",
    "**Các cột dữ liệu được sử dụng làm feature:**\n",
    "- Age: tuổi\n",
    "- Title: vị trí/vai trò\n",
    "- Formal Education: bằng cấp\n",
    "- Coding Experience: số năm kinh nghiệm lập trình\n",
    "- ML Experience: số năm kinh nghiệm về machine learning\n",
    "- Country: quốc gia\n",
    "\n",
    "**Cột dữ liệu làm label:**\n",
    "- Salary Range: khoảng lương của người đó (Low-Medium-High)\n",
    "\n",
    "**Mô hình:** K-Nearest Neighbor\n",
    "\n",
    "**Tối ưu hoá tham số**: Grid Search\n",
    "\n",
    "**Metrics đánh giá:** Accuracy"
   ]
  },
  {
   "cell_type": "code",
   "execution_count": 7,
   "metadata": {},
   "outputs": [
    {
     "name": "stdout",
     "output_type": "stream",
     "text": [
      "Best n_neighbors: 12\n",
      "Accuracy: 0.6245316505620193\n"
     ]
    }
   ],
   "source": [
    "knn_classifier = KNeighborsClassifier()\n",
    "\n",
    "param_grid = {'n_neighbors': list(range(3, 15))}\n",
    "\n",
    "grid_search = GridSearchCV(knn_classifier, param_grid, cv=len(param_grid['n_neighbors']))\n",
    "grid_search.fit(X_train, y_train)\n",
    "\n",
    "best_n_neighbors = grid_search.best_params_['n_neighbors']\n",
    "best_classifier = grid_search.best_estimator_\n",
    "\n",
    "predictions = best_classifier.predict(X_test)\n",
    "\n",
    "accuracy = accuracy_score(y_test, predictions)\n",
    "print(\"Best n_neighbors:\", best_n_neighbors)\n",
    "print(\"Accuracy:\", accuracy)"
   ]
  },
  {
   "cell_type": "code",
   "execution_count": 8,
   "metadata": {},
   "outputs": [
    {
     "name": "stdout",
     "output_type": "stream",
     "text": [
      "Predicted Salary Range: ['Medium']\n"
     ]
    }
   ],
   "source": [
    "data_point = {\n",
    "    'Age': '22-24',\n",
    "    'Title': 'Software Engineer',\n",
    "    'Formal Education': \"Bachelor's Degree\",\n",
    "    'Coding Experience': \"1-5 years\",\n",
    "    'ML Experience': '1-2 years',\n",
    "    'Country': 'U.S.🇺🇸'\n",
    "}\n",
    "\n",
    "data_point_df = pd.DataFrame([data_point])\n",
    "\n",
    "for feature in features:\n",
    "    if data_point_df[feature].dtype == 'object':\n",
    "        data_point_df[feature] = label_encoder.fit_transform(data_point_df[feature])\n",
    "\n",
    "predicted_salary_range = best_classifier.predict(data_point_df[features])\n",
    "\n",
    "print(\"Predicted Salary Range:\", predicted_salary_range)"
   ]
  }
 ],
 "metadata": {
  "kernelspec": {
   "display_name": "base",
   "language": "python",
   "name": "python3"
  },
  "language_info": {
   "codemirror_mode": {
    "name": "ipython",
    "version": 3
   },
   "file_extension": ".py",
   "mimetype": "text/x-python",
   "name": "python",
   "nbconvert_exporter": "python",
   "pygments_lexer": "ipython3",
   "version": "3.9.12"
  },
  "orig_nbformat": 4
 },
 "nbformat": 4,
 "nbformat_minor": 2
}
