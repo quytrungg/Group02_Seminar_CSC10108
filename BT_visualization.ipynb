{
 "cells": [
  {
   "cell_type": "code",
   "execution_count": 1,
   "metadata": {},
   "outputs": [],
   "source": [
    "import pandas as pd\n",
    "import numpy as np\n",
    "import matplotlib.pyplot as plt\n",
    "import plotly.express as px\n",
    "import plotly.graph_objects as go\n",
    "import plotly.subplots as sp"
   ]
  },
  {
   "cell_type": "code",
   "execution_count": 3,
   "metadata": {},
   "outputs": [],
   "source": [
    "df = pd.read_csv('./analysis_df.csv')\n",
    "df_student = df[df['Title'] == 'Student']\n",
    "df_employee = pd.read_csv('./analysis_df_employee.csv')"
   ]
  },
  {
   "cell_type": "code",
   "execution_count": 31,
   "metadata": {},
   "outputs": [
    {
     "data": {
      "text/html": [
       "<div>\n",
       "<style scoped>\n",
       "    .dataframe tbody tr th:only-of-type {\n",
       "        vertical-align: middle;\n",
       "    }\n",
       "\n",
       "    .dataframe tbody tr th {\n",
       "        vertical-align: top;\n",
       "    }\n",
       "\n",
       "    .dataframe thead th {\n",
       "        text-align: right;\n",
       "    }\n",
       "</style>\n",
       "<table border=\"1\" class=\"dataframe\">\n",
       "  <thead>\n",
       "    <tr style=\"text-align: right;\">\n",
       "      <th></th>\n",
       "      <th>Age</th>\n",
       "      <th>Gender</th>\n",
       "      <th>Salary</th>\n",
       "      <th>Title</th>\n",
       "      <th>Formal Education</th>\n",
       "      <th>Learning Platforms</th>\n",
       "      <th>Coding Experience</th>\n",
       "      <th>ML Experience</th>\n",
       "      <th>Important Activities</th>\n",
       "      <th>Languages</th>\n",
       "      <th>...</th>\n",
       "      <th>Published Papers</th>\n",
       "      <th>ML Research</th>\n",
       "      <th>ML Serve</th>\n",
       "      <th>Ethical AI tools</th>\n",
       "      <th>Industry Type</th>\n",
       "      <th>Data Storage Products</th>\n",
       "      <th>Data Products</th>\n",
       "      <th>ML Monitor Tools</th>\n",
       "      <th>Country</th>\n",
       "      <th>Year</th>\n",
       "    </tr>\n",
       "  </thead>\n",
       "  <tbody>\n",
       "    <tr>\n",
       "      <th>0</th>\n",
       "      <td>18-21</td>\n",
       "      <td>Man</td>\n",
       "      <td>1528.0</td>\n",
       "      <td>Student</td>\n",
       "      <td>Bachelor's degree</td>\n",
       "      <td>Coursera -- -1</td>\n",
       "      <td>&lt; 1 year</td>\n",
       "      <td>&lt; 1 year</td>\n",
       "      <td>Build and/or run a machine learning service th...</td>\n",
       "      <td>Python -- Java -- C/C++ -- -1</td>\n",
       "      <td>...</td>\n",
       "      <td>NaN</td>\n",
       "      <td>NaN</td>\n",
       "      <td>NaN</td>\n",
       "      <td>NaN</td>\n",
       "      <td>I am a student</td>\n",
       "      <td>NaN</td>\n",
       "      <td>NaN</td>\n",
       "      <td>NaN</td>\n",
       "      <td>Viet Nam</td>\n",
       "      <td>2018</td>\n",
       "    </tr>\n",
       "    <tr>\n",
       "      <th>1</th>\n",
       "      <td>18-21</td>\n",
       "      <td>Man</td>\n",
       "      <td>1528.0</td>\n",
       "      <td>Student</td>\n",
       "      <td>Some college/university study without&lt;br&gt;earni...</td>\n",
       "      <td>Udacity -- Coursera -- edX -- Udemy -- -1</td>\n",
       "      <td>&lt; 1 year</td>\n",
       "      <td>&lt; 1 year</td>\n",
       "      <td>Analyze and understand data to influence produ...</td>\n",
       "      <td>Python -- -1</td>\n",
       "      <td>...</td>\n",
       "      <td>NaN</td>\n",
       "      <td>NaN</td>\n",
       "      <td>NaN</td>\n",
       "      <td>NaN</td>\n",
       "      <td>Computers/Technology</td>\n",
       "      <td>NaN</td>\n",
       "      <td>NaN</td>\n",
       "      <td>NaN</td>\n",
       "      <td>Viet Nam</td>\n",
       "      <td>2018</td>\n",
       "    </tr>\n",
       "    <tr>\n",
       "      <th>2</th>\n",
       "      <td>18-21</td>\n",
       "      <td>Man</td>\n",
       "      <td>NaN</td>\n",
       "      <td>Student</td>\n",
       "      <td>Bachelor's degree</td>\n",
       "      <td>Coursera -- -1</td>\n",
       "      <td>1-5 years</td>\n",
       "      <td>1-2 years</td>\n",
       "      <td>Build and/or run a machine learning service th...</td>\n",
       "      <td>Python -- -1</td>\n",
       "      <td>...</td>\n",
       "      <td>NaN</td>\n",
       "      <td>NaN</td>\n",
       "      <td>NaN</td>\n",
       "      <td>NaN</td>\n",
       "      <td>Computers/Technology</td>\n",
       "      <td>NaN</td>\n",
       "      <td>NaN</td>\n",
       "      <td>NaN</td>\n",
       "      <td>Viet Nam</td>\n",
       "      <td>2018</td>\n",
       "    </tr>\n",
       "    <tr>\n",
       "      <th>3</th>\n",
       "      <td>22-24</td>\n",
       "      <td>Man</td>\n",
       "      <td>1528.0</td>\n",
       "      <td>Student</td>\n",
       "      <td>Master's degree</td>\n",
       "      <td>Coursera -- DataQuest -- -1</td>\n",
       "      <td>&lt; 1 year</td>\n",
       "      <td>&lt; 1 year</td>\n",
       "      <td>Do research that advances the state of the art...</td>\n",
       "      <td>Python -- R -- Bash -- -1</td>\n",
       "      <td>...</td>\n",
       "      <td>NaN</td>\n",
       "      <td>NaN</td>\n",
       "      <td>NaN</td>\n",
       "      <td>NaN</td>\n",
       "      <td>I am a student</td>\n",
       "      <td>NaN</td>\n",
       "      <td>NaN</td>\n",
       "      <td>NaN</td>\n",
       "      <td>Viet Nam</td>\n",
       "      <td>2018</td>\n",
       "    </tr>\n",
       "    <tr>\n",
       "      <th>4</th>\n",
       "      <td>22-24</td>\n",
       "      <td>Man</td>\n",
       "      <td>1528.0</td>\n",
       "      <td>Data Scientist</td>\n",
       "      <td>Bachelor's degree</td>\n",
       "      <td>Coursera -- -1</td>\n",
       "      <td>1-5 years</td>\n",
       "      <td>&lt; 1 year</td>\n",
       "      <td>Analyze and understand data to influence produ...</td>\n",
       "      <td>R -- SQL -- -1</td>\n",
       "      <td>...</td>\n",
       "      <td>NaN</td>\n",
       "      <td>NaN</td>\n",
       "      <td>NaN</td>\n",
       "      <td>NaN</td>\n",
       "      <td>Insurance/Risk Assessment</td>\n",
       "      <td>NaN</td>\n",
       "      <td>NaN</td>\n",
       "      <td>NaN</td>\n",
       "      <td>Viet Nam</td>\n",
       "      <td>2018</td>\n",
       "    </tr>\n",
       "  </tbody>\n",
       "</table>\n",
       "<p>5 rows × 37 columns</p>\n",
       "</div>"
      ],
      "text/plain": [
       "     Age Gender  Salary           Title  \\\n",
       "0  18-21    Man  1528.0         Student   \n",
       "1  18-21    Man  1528.0         Student   \n",
       "2  18-21    Man     NaN         Student   \n",
       "3  22-24    Man  1528.0         Student   \n",
       "4  22-24    Man  1528.0  Data Scientist   \n",
       "\n",
       "                                    Formal Education  \\\n",
       "0                                  Bachelor's degree   \n",
       "1  Some college/university study without<br>earni...   \n",
       "2                                  Bachelor's degree   \n",
       "3                                    Master's degree   \n",
       "4                                  Bachelor's degree   \n",
       "\n",
       "                          Learning Platforms Coding Experience ML Experience  \\\n",
       "0                             Coursera -- -1          < 1 year      < 1 year   \n",
       "1  Udacity -- Coursera -- edX -- Udemy -- -1          < 1 year      < 1 year   \n",
       "2                             Coursera -- -1         1-5 years     1-2 years   \n",
       "3                Coursera -- DataQuest -- -1          < 1 year      < 1 year   \n",
       "4                             Coursera -- -1         1-5 years      < 1 year   \n",
       "\n",
       "                                Important Activities  \\\n",
       "0  Build and/or run a machine learning service th...   \n",
       "1  Analyze and understand data to influence produ...   \n",
       "2  Build and/or run a machine learning service th...   \n",
       "3  Do research that advances the state of the art...   \n",
       "4  Analyze and understand data to influence produ...   \n",
       "\n",
       "                       Languages  ... Published Papers ML Research ML Serve  \\\n",
       "0  Python -- Java -- C/C++ -- -1  ...              NaN         NaN      NaN   \n",
       "1                   Python -- -1  ...              NaN         NaN      NaN   \n",
       "2                   Python -- -1  ...              NaN         NaN      NaN   \n",
       "3      Python -- R -- Bash -- -1  ...              NaN         NaN      NaN   \n",
       "4                 R -- SQL -- -1  ...              NaN         NaN      NaN   \n",
       "\n",
       "  Ethical AI tools              Industry Type Data Storage Products  \\\n",
       "0              NaN             I am a student                   NaN   \n",
       "1              NaN       Computers/Technology                   NaN   \n",
       "2              NaN       Computers/Technology                   NaN   \n",
       "3              NaN             I am a student                   NaN   \n",
       "4              NaN  Insurance/Risk Assessment                   NaN   \n",
       "\n",
       "  Data Products ML Monitor Tools   Country  Year  \n",
       "0           NaN              NaN  Viet Nam  2018  \n",
       "1           NaN              NaN  Viet Nam  2018  \n",
       "2           NaN              NaN  Viet Nam  2018  \n",
       "3           NaN              NaN  Viet Nam  2018  \n",
       "4           NaN              NaN  Viet Nam  2018  \n",
       "\n",
       "[5 rows x 37 columns]"
      ]
     },
     "execution_count": 31,
     "metadata": {},
     "output_type": "execute_result"
    }
   ],
   "source": [
    "df.head()"
   ]
  },
  {
   "cell_type": "code",
   "execution_count": 4,
   "metadata": {},
   "outputs": [
    {
     "data": {
      "text/html": [
       "<div>\n",
       "<style scoped>\n",
       "    .dataframe tbody tr th:only-of-type {\n",
       "        vertical-align: middle;\n",
       "    }\n",
       "\n",
       "    .dataframe tbody tr th {\n",
       "        vertical-align: top;\n",
       "    }\n",
       "\n",
       "    .dataframe thead th {\n",
       "        text-align: right;\n",
       "    }\n",
       "</style>\n",
       "<table border=\"1\" class=\"dataframe\">\n",
       "  <thead>\n",
       "    <tr style=\"text-align: right;\">\n",
       "      <th></th>\n",
       "      <th>Age</th>\n",
       "      <th>Gender</th>\n",
       "      <th>Salary</th>\n",
       "      <th>Title</th>\n",
       "      <th>Formal Education</th>\n",
       "      <th>Learning Platforms</th>\n",
       "      <th>Coding Experience</th>\n",
       "      <th>ML Experience</th>\n",
       "      <th>Important Activities</th>\n",
       "      <th>Languages</th>\n",
       "      <th>...</th>\n",
       "      <th>Published Papers</th>\n",
       "      <th>ML Research</th>\n",
       "      <th>ML Serve</th>\n",
       "      <th>Ethical AI tools</th>\n",
       "      <th>Industry Type</th>\n",
       "      <th>Data Storage Products</th>\n",
       "      <th>Data Products</th>\n",
       "      <th>ML Monitor Tools</th>\n",
       "      <th>Country</th>\n",
       "      <th>Year</th>\n",
       "    </tr>\n",
       "  </thead>\n",
       "  <tbody>\n",
       "    <tr>\n",
       "      <th>0</th>\n",
       "      <td>18-21</td>\n",
       "      <td>Man</td>\n",
       "      <td>1528.0</td>\n",
       "      <td>Student</td>\n",
       "      <td>Bachelor's degree</td>\n",
       "      <td>Coursera -- -1</td>\n",
       "      <td>&lt; 1 year</td>\n",
       "      <td>&lt; 1 year</td>\n",
       "      <td>Build and/or run a machine learning service th...</td>\n",
       "      <td>Python -- Java -- C/C++ -- -1</td>\n",
       "      <td>...</td>\n",
       "      <td>NaN</td>\n",
       "      <td>NaN</td>\n",
       "      <td>NaN</td>\n",
       "      <td>NaN</td>\n",
       "      <td>I am a student</td>\n",
       "      <td>NaN</td>\n",
       "      <td>NaN</td>\n",
       "      <td>NaN</td>\n",
       "      <td>Viet Nam</td>\n",
       "      <td>2018</td>\n",
       "    </tr>\n",
       "    <tr>\n",
       "      <th>1</th>\n",
       "      <td>18-21</td>\n",
       "      <td>Man</td>\n",
       "      <td>1528.0</td>\n",
       "      <td>Student</td>\n",
       "      <td>Some college/university study without&lt;br&gt;earni...</td>\n",
       "      <td>Udacity -- Coursera -- edX -- Udemy -- -1</td>\n",
       "      <td>&lt; 1 year</td>\n",
       "      <td>&lt; 1 year</td>\n",
       "      <td>Analyze and understand data to influence produ...</td>\n",
       "      <td>Python -- -1</td>\n",
       "      <td>...</td>\n",
       "      <td>NaN</td>\n",
       "      <td>NaN</td>\n",
       "      <td>NaN</td>\n",
       "      <td>NaN</td>\n",
       "      <td>Computers/Technology</td>\n",
       "      <td>NaN</td>\n",
       "      <td>NaN</td>\n",
       "      <td>NaN</td>\n",
       "      <td>Viet Nam</td>\n",
       "      <td>2018</td>\n",
       "    </tr>\n",
       "    <tr>\n",
       "      <th>2</th>\n",
       "      <td>18-21</td>\n",
       "      <td>Man</td>\n",
       "      <td>NaN</td>\n",
       "      <td>Student</td>\n",
       "      <td>Bachelor's degree</td>\n",
       "      <td>Coursera -- -1</td>\n",
       "      <td>1-5 years</td>\n",
       "      <td>1-2 years</td>\n",
       "      <td>Build and/or run a machine learning service th...</td>\n",
       "      <td>Python -- -1</td>\n",
       "      <td>...</td>\n",
       "      <td>NaN</td>\n",
       "      <td>NaN</td>\n",
       "      <td>NaN</td>\n",
       "      <td>NaN</td>\n",
       "      <td>Computers/Technology</td>\n",
       "      <td>NaN</td>\n",
       "      <td>NaN</td>\n",
       "      <td>NaN</td>\n",
       "      <td>Viet Nam</td>\n",
       "      <td>2018</td>\n",
       "    </tr>\n",
       "    <tr>\n",
       "      <th>3</th>\n",
       "      <td>22-24</td>\n",
       "      <td>Man</td>\n",
       "      <td>1528.0</td>\n",
       "      <td>Student</td>\n",
       "      <td>Master's degree</td>\n",
       "      <td>Coursera -- DataQuest -- -1</td>\n",
       "      <td>&lt; 1 year</td>\n",
       "      <td>&lt; 1 year</td>\n",
       "      <td>Do research that advances the state of the art...</td>\n",
       "      <td>Python -- R -- Bash -- -1</td>\n",
       "      <td>...</td>\n",
       "      <td>NaN</td>\n",
       "      <td>NaN</td>\n",
       "      <td>NaN</td>\n",
       "      <td>NaN</td>\n",
       "      <td>I am a student</td>\n",
       "      <td>NaN</td>\n",
       "      <td>NaN</td>\n",
       "      <td>NaN</td>\n",
       "      <td>Viet Nam</td>\n",
       "      <td>2018</td>\n",
       "    </tr>\n",
       "    <tr>\n",
       "      <th>5</th>\n",
       "      <td>18-21</td>\n",
       "      <td>Man</td>\n",
       "      <td>NaN</td>\n",
       "      <td>Student</td>\n",
       "      <td>Bachelor's degree</td>\n",
       "      <td>None -- -1</td>\n",
       "      <td>&lt; 1 year</td>\n",
       "      <td>&lt; 1 year</td>\n",
       "      <td>Do research that advances the state of the art...</td>\n",
       "      <td>Python -- R -- SQL -- Java -- C#/.NET -- PHP -...</td>\n",
       "      <td>...</td>\n",
       "      <td>NaN</td>\n",
       "      <td>NaN</td>\n",
       "      <td>NaN</td>\n",
       "      <td>NaN</td>\n",
       "      <td>Academics/Education</td>\n",
       "      <td>NaN</td>\n",
       "      <td>NaN</td>\n",
       "      <td>NaN</td>\n",
       "      <td>Viet Nam</td>\n",
       "      <td>2018</td>\n",
       "    </tr>\n",
       "  </tbody>\n",
       "</table>\n",
       "<p>5 rows × 37 columns</p>\n",
       "</div>"
      ],
      "text/plain": [
       "     Age Gender  Salary    Title  \\\n",
       "0  18-21    Man  1528.0  Student   \n",
       "1  18-21    Man  1528.0  Student   \n",
       "2  18-21    Man     NaN  Student   \n",
       "3  22-24    Man  1528.0  Student   \n",
       "5  18-21    Man     NaN  Student   \n",
       "\n",
       "                                    Formal Education  \\\n",
       "0                                  Bachelor's degree   \n",
       "1  Some college/university study without<br>earni...   \n",
       "2                                  Bachelor's degree   \n",
       "3                                    Master's degree   \n",
       "5                                  Bachelor's degree   \n",
       "\n",
       "                          Learning Platforms Coding Experience ML Experience  \\\n",
       "0                             Coursera -- -1          < 1 year      < 1 year   \n",
       "1  Udacity -- Coursera -- edX -- Udemy -- -1          < 1 year      < 1 year   \n",
       "2                             Coursera -- -1         1-5 years     1-2 years   \n",
       "3                Coursera -- DataQuest -- -1          < 1 year      < 1 year   \n",
       "5                                 None -- -1          < 1 year      < 1 year   \n",
       "\n",
       "                                Important Activities  \\\n",
       "0  Build and/or run a machine learning service th...   \n",
       "1  Analyze and understand data to influence produ...   \n",
       "2  Build and/or run a machine learning service th...   \n",
       "3  Do research that advances the state of the art...   \n",
       "5  Do research that advances the state of the art...   \n",
       "\n",
       "                                           Languages  ... Published Papers  \\\n",
       "0                      Python -- Java -- C/C++ -- -1  ...              NaN   \n",
       "1                                       Python -- -1  ...              NaN   \n",
       "2                                       Python -- -1  ...              NaN   \n",
       "3                          Python -- R -- Bash -- -1  ...              NaN   \n",
       "5  Python -- R -- SQL -- Java -- C#/.NET -- PHP -...  ...              NaN   \n",
       "\n",
       "  ML Research ML Serve Ethical AI tools         Industry Type  \\\n",
       "0         NaN      NaN              NaN        I am a student   \n",
       "1         NaN      NaN              NaN  Computers/Technology   \n",
       "2         NaN      NaN              NaN  Computers/Technology   \n",
       "3         NaN      NaN              NaN        I am a student   \n",
       "5         NaN      NaN              NaN   Academics/Education   \n",
       "\n",
       "  Data Storage Products Data Products ML Monitor Tools   Country  Year  \n",
       "0                   NaN           NaN              NaN  Viet Nam  2018  \n",
       "1                   NaN           NaN              NaN  Viet Nam  2018  \n",
       "2                   NaN           NaN              NaN  Viet Nam  2018  \n",
       "3                   NaN           NaN              NaN  Viet Nam  2018  \n",
       "5                   NaN           NaN              NaN  Viet Nam  2018  \n",
       "\n",
       "[5 rows x 37 columns]"
      ]
     },
     "execution_count": 4,
     "metadata": {},
     "output_type": "execute_result"
    }
   ],
   "source": [
    "df_student.head()"
   ]
  },
  {
   "cell_type": "code",
   "execution_count": 5,
   "metadata": {},
   "outputs": [
    {
     "data": {
      "text/html": [
       "<div>\n",
       "<style scoped>\n",
       "    .dataframe tbody tr th:only-of-type {\n",
       "        vertical-align: middle;\n",
       "    }\n",
       "\n",
       "    .dataframe tbody tr th {\n",
       "        vertical-align: top;\n",
       "    }\n",
       "\n",
       "    .dataframe thead th {\n",
       "        text-align: right;\n",
       "    }\n",
       "</style>\n",
       "<table border=\"1\" class=\"dataframe\">\n",
       "  <thead>\n",
       "    <tr style=\"text-align: right;\">\n",
       "      <th></th>\n",
       "      <th>Age</th>\n",
       "      <th>Gender</th>\n",
       "      <th>Salary</th>\n",
       "      <th>Title</th>\n",
       "      <th>Formal Education</th>\n",
       "      <th>Learning Platforms</th>\n",
       "      <th>Coding Experience</th>\n",
       "      <th>ML Experience</th>\n",
       "      <th>Important Activities</th>\n",
       "      <th>Languages</th>\n",
       "      <th>...</th>\n",
       "      <th>Published Papers</th>\n",
       "      <th>ML Research</th>\n",
       "      <th>ML Serve</th>\n",
       "      <th>Ethical AI tools</th>\n",
       "      <th>Industry Type</th>\n",
       "      <th>Data Storage Products</th>\n",
       "      <th>Data Products</th>\n",
       "      <th>ML Monitor Tools</th>\n",
       "      <th>Country</th>\n",
       "      <th>Year</th>\n",
       "    </tr>\n",
       "  </thead>\n",
       "  <tbody>\n",
       "    <tr>\n",
       "      <th>0</th>\n",
       "      <td>22-24</td>\n",
       "      <td>Man</td>\n",
       "      <td>1528.0</td>\n",
       "      <td>Data Scientist</td>\n",
       "      <td>Bachelor's degree</td>\n",
       "      <td>Coursera -- -1</td>\n",
       "      <td>1-5 years</td>\n",
       "      <td>&lt; 1 year</td>\n",
       "      <td>Analyze and understand data to influence produ...</td>\n",
       "      <td>R -- SQL -- -1</td>\n",
       "      <td>...</td>\n",
       "      <td>NaN</td>\n",
       "      <td>NaN</td>\n",
       "      <td>NaN</td>\n",
       "      <td>NaN</td>\n",
       "      <td>Insurance/Risk Assessment</td>\n",
       "      <td>NaN</td>\n",
       "      <td>NaN</td>\n",
       "      <td>NaN</td>\n",
       "      <td>Viet Nam</td>\n",
       "      <td>2018</td>\n",
       "    </tr>\n",
       "    <tr>\n",
       "      <th>1</th>\n",
       "      <td>30-34</td>\n",
       "      <td>Man</td>\n",
       "      <td>4585.0</td>\n",
       "      <td>Software Engineer</td>\n",
       "      <td>Bachelor's degree</td>\n",
       "      <td>-1</td>\n",
       "      <td>I have never written code</td>\n",
       "      <td>&lt; 1 year</td>\n",
       "      <td>None of these activities are an important part...</td>\n",
       "      <td>Python -- Java -- Julia -- C#/.NET -- -1</td>\n",
       "      <td>...</td>\n",
       "      <td>NaN</td>\n",
       "      <td>NaN</td>\n",
       "      <td>NaN</td>\n",
       "      <td>NaN</td>\n",
       "      <td>Computers/Technology</td>\n",
       "      <td>NaN</td>\n",
       "      <td>NaN</td>\n",
       "      <td>NaN</td>\n",
       "      <td>Viet Nam</td>\n",
       "      <td>2018</td>\n",
       "    </tr>\n",
       "    <tr>\n",
       "      <th>2</th>\n",
       "      <td>25-29</td>\n",
       "      <td>Man</td>\n",
       "      <td>10699.0</td>\n",
       "      <td>Manager</td>\n",
       "      <td>Bachelor's degree</td>\n",
       "      <td>Coursera -- edX -- DataCamp -- Udemy -- -1</td>\n",
       "      <td>1-5 years</td>\n",
       "      <td>2-3 years</td>\n",
       "      <td>Analyze and understand data to influence produ...</td>\n",
       "      <td>Python -- R -- SQL -- -1</td>\n",
       "      <td>...</td>\n",
       "      <td>NaN</td>\n",
       "      <td>NaN</td>\n",
       "      <td>NaN</td>\n",
       "      <td>NaN</td>\n",
       "      <td>Online Service/Internet-based Services</td>\n",
       "      <td>NaN</td>\n",
       "      <td>NaN</td>\n",
       "      <td>NaN</td>\n",
       "      <td>Viet Nam</td>\n",
       "      <td>2018</td>\n",
       "    </tr>\n",
       "    <tr>\n",
       "      <th>3</th>\n",
       "      <td>22-24</td>\n",
       "      <td>Man</td>\n",
       "      <td>NaN</td>\n",
       "      <td>Software Engineer</td>\n",
       "      <td>Some college/university study without&lt;br&gt;earni...</td>\n",
       "      <td>Coursera -- edX -- DataCamp -- Udemy -- -1</td>\n",
       "      <td>&lt; 1 year</td>\n",
       "      <td>I do not use machine&lt;br&gt;learning methods</td>\n",
       "      <td>Analyze and understand data to influence produ...</td>\n",
       "      <td>Python -- SQL -- Javascript/Typescript -- C#/....</td>\n",
       "      <td>...</td>\n",
       "      <td>NaN</td>\n",
       "      <td>NaN</td>\n",
       "      <td>NaN</td>\n",
       "      <td>NaN</td>\n",
       "      <td>Computers/Technology</td>\n",
       "      <td>NaN</td>\n",
       "      <td>NaN</td>\n",
       "      <td>NaN</td>\n",
       "      <td>Viet Nam</td>\n",
       "      <td>2018</td>\n",
       "    </tr>\n",
       "    <tr>\n",
       "      <th>4</th>\n",
       "      <td>40-44</td>\n",
       "      <td>Man</td>\n",
       "      <td>7642.0</td>\n",
       "      <td>Consultant</td>\n",
       "      <td>Bachelor's degree</td>\n",
       "      <td>Udemy -- -1</td>\n",
       "      <td>&lt; 1 year</td>\n",
       "      <td>&lt; 1 year</td>\n",
       "      <td>None of these activities are an important part...</td>\n",
       "      <td>Python -- Javascript/Typescript -- C#/.NET -- -1</td>\n",
       "      <td>...</td>\n",
       "      <td>NaN</td>\n",
       "      <td>NaN</td>\n",
       "      <td>NaN</td>\n",
       "      <td>NaN</td>\n",
       "      <td>Academics/Education</td>\n",
       "      <td>NaN</td>\n",
       "      <td>NaN</td>\n",
       "      <td>NaN</td>\n",
       "      <td>Viet Nam</td>\n",
       "      <td>2018</td>\n",
       "    </tr>\n",
       "  </tbody>\n",
       "</table>\n",
       "<p>5 rows × 37 columns</p>\n",
       "</div>"
      ],
      "text/plain": [
       "     Age Gender   Salary              Title  \\\n",
       "0  22-24    Man   1528.0     Data Scientist   \n",
       "1  30-34    Man   4585.0  Software Engineer   \n",
       "2  25-29    Man  10699.0            Manager   \n",
       "3  22-24    Man      NaN  Software Engineer   \n",
       "4  40-44    Man   7642.0         Consultant   \n",
       "\n",
       "                                    Formal Education  \\\n",
       "0                                  Bachelor's degree   \n",
       "1                                  Bachelor's degree   \n",
       "2                                  Bachelor's degree   \n",
       "3  Some college/university study without<br>earni...   \n",
       "4                                  Bachelor's degree   \n",
       "\n",
       "                           Learning Platforms          Coding Experience  \\\n",
       "0                              Coursera -- -1                  1-5 years   \n",
       "1                                          -1  I have never written code   \n",
       "2  Coursera -- edX -- DataCamp -- Udemy -- -1                  1-5 years   \n",
       "3  Coursera -- edX -- DataCamp -- Udemy -- -1                   < 1 year   \n",
       "4                                 Udemy -- -1                   < 1 year   \n",
       "\n",
       "                              ML Experience  \\\n",
       "0                                  < 1 year   \n",
       "1                                  < 1 year   \n",
       "2                                 2-3 years   \n",
       "3  I do not use machine<br>learning methods   \n",
       "4                                  < 1 year   \n",
       "\n",
       "                                Important Activities  \\\n",
       "0  Analyze and understand data to influence produ...   \n",
       "1  None of these activities are an important part...   \n",
       "2  Analyze and understand data to influence produ...   \n",
       "3  Analyze and understand data to influence produ...   \n",
       "4  None of these activities are an important part...   \n",
       "\n",
       "                                           Languages  ... Published Papers  \\\n",
       "0                                     R -- SQL -- -1  ...              NaN   \n",
       "1           Python -- Java -- Julia -- C#/.NET -- -1  ...              NaN   \n",
       "2                           Python -- R -- SQL -- -1  ...              NaN   \n",
       "3  Python -- SQL -- Javascript/Typescript -- C#/....  ...              NaN   \n",
       "4   Python -- Javascript/Typescript -- C#/.NET -- -1  ...              NaN   \n",
       "\n",
       "  ML Research ML Serve Ethical AI tools  \\\n",
       "0         NaN      NaN              NaN   \n",
       "1         NaN      NaN              NaN   \n",
       "2         NaN      NaN              NaN   \n",
       "3         NaN      NaN              NaN   \n",
       "4         NaN      NaN              NaN   \n",
       "\n",
       "                            Industry Type Data Storage Products Data Products  \\\n",
       "0               Insurance/Risk Assessment                   NaN           NaN   \n",
       "1                    Computers/Technology                   NaN           NaN   \n",
       "2  Online Service/Internet-based Services                   NaN           NaN   \n",
       "3                    Computers/Technology                   NaN           NaN   \n",
       "4                     Academics/Education                   NaN           NaN   \n",
       "\n",
       "  ML Monitor Tools   Country  Year  \n",
       "0              NaN  Viet Nam  2018  \n",
       "1              NaN  Viet Nam  2018  \n",
       "2              NaN  Viet Nam  2018  \n",
       "3              NaN  Viet Nam  2018  \n",
       "4              NaN  Viet Nam  2018  \n",
       "\n",
       "[5 rows x 37 columns]"
      ]
     },
     "execution_count": 5,
     "metadata": {},
     "output_type": "execute_result"
    }
   ],
   "source": [
    "df_employee.head()"
   ]
  },
  {
   "attachments": {},
   "cell_type": "markdown",
   "metadata": {},
   "source": [
    "Plot 1"
   ]
  },
  {
   "cell_type": "code",
   "execution_count": 22,
   "metadata": {},
   "outputs": [
    {
     "data": {
      "text/plain": [
       "India🇮🇳     16087\n",
       "U.S.🇺🇸      11709\n",
       "China🇨🇳      2027\n",
       "Viet Nam      571\n",
       "Name: Country, dtype: int64"
      ]
     },
     "execution_count": 22,
     "metadata": {},
     "output_type": "execute_result"
    }
   ],
   "source": [
    "country_df = df_employee['Country'].value_counts()\n",
    "country_df"
   ]
  },
  {
   "cell_type": "code",
   "execution_count": 23,
   "metadata": {},
   "outputs": [
    {
     "data": {
      "text/html": [
       "<div>\n",
       "<style scoped>\n",
       "    .dataframe tbody tr th:only-of-type {\n",
       "        vertical-align: middle;\n",
       "    }\n",
       "\n",
       "    .dataframe tbody tr th {\n",
       "        vertical-align: top;\n",
       "    }\n",
       "\n",
       "    .dataframe thead th {\n",
       "        text-align: right;\n",
       "    }\n",
       "</style>\n",
       "<table border=\"1\" class=\"dataframe\">\n",
       "  <thead>\n",
       "    <tr style=\"text-align: right;\">\n",
       "      <th></th>\n",
       "      <th>Country</th>\n",
       "      <th>Coding Experience</th>\n",
       "    </tr>\n",
       "  </thead>\n",
       "  <tbody>\n",
       "    <tr>\n",
       "      <th>0</th>\n",
       "      <td>Viet Nam</td>\n",
       "      <td>1-5 years</td>\n",
       "    </tr>\n",
       "    <tr>\n",
       "      <th>1</th>\n",
       "      <td>Viet Nam</td>\n",
       "      <td>I have never written code</td>\n",
       "    </tr>\n",
       "    <tr>\n",
       "      <th>2</th>\n",
       "      <td>Viet Nam</td>\n",
       "      <td>1-5 years</td>\n",
       "    </tr>\n",
       "    <tr>\n",
       "      <th>3</th>\n",
       "      <td>Viet Nam</td>\n",
       "      <td>&lt; 1 year</td>\n",
       "    </tr>\n",
       "    <tr>\n",
       "      <th>4</th>\n",
       "      <td>Viet Nam</td>\n",
       "      <td>&lt; 1 year</td>\n",
       "    </tr>\n",
       "    <tr>\n",
       "      <th>...</th>\n",
       "      <td>...</td>\n",
       "      <td>...</td>\n",
       "    </tr>\n",
       "    <tr>\n",
       "      <th>30389</th>\n",
       "      <td>India🇮🇳</td>\n",
       "      <td>1-5 years</td>\n",
       "    </tr>\n",
       "    <tr>\n",
       "      <th>30390</th>\n",
       "      <td>India🇮🇳</td>\n",
       "      <td>&lt; 1 year</td>\n",
       "    </tr>\n",
       "    <tr>\n",
       "      <th>30391</th>\n",
       "      <td>India🇮🇳</td>\n",
       "      <td>20+ years</td>\n",
       "    </tr>\n",
       "    <tr>\n",
       "      <th>30392</th>\n",
       "      <td>India🇮🇳</td>\n",
       "      <td>1-5 years</td>\n",
       "    </tr>\n",
       "    <tr>\n",
       "      <th>30393</th>\n",
       "      <td>India🇮🇳</td>\n",
       "      <td>1-5 years</td>\n",
       "    </tr>\n",
       "  </tbody>\n",
       "</table>\n",
       "<p>30394 rows × 2 columns</p>\n",
       "</div>"
      ],
      "text/plain": [
       "        Country          Coding Experience\n",
       "0      Viet Nam                  1-5 years\n",
       "1      Viet Nam  I have never written code\n",
       "2      Viet Nam                  1-5 years\n",
       "3      Viet Nam                   < 1 year\n",
       "4      Viet Nam                   < 1 year\n",
       "...         ...                        ...\n",
       "30389   India🇮🇳                  1-5 years\n",
       "30390   India🇮🇳                   < 1 year\n",
       "30391   India🇮🇳                  20+ years\n",
       "30392   India🇮🇳                  1-5 years\n",
       "30393   India🇮🇳                  1-5 years\n",
       "\n",
       "[30394 rows x 2 columns]"
      ]
     },
     "execution_count": 23,
     "metadata": {},
     "output_type": "execute_result"
    }
   ],
   "source": [
    "coding_experience = df_employee[['Country', 'Coding Experience']]\n",
    "coding_experience"
   ]
  },
  {
   "cell_type": "code",
   "execution_count": 24,
   "metadata": {},
   "outputs": [
    {
     "name": "stderr",
     "output_type": "stream",
     "text": [
      "C:\\Users\\btn\\AppData\\Local\\Temp\\ipykernel_19704\\1673977090.py:1: SettingWithCopyWarning:\n",
      "\n",
      "\n",
      "A value is trying to be set on a copy of a slice from a DataFrame\n",
      "\n",
      "See the caveats in the documentation: https://pandas.pydata.org/pandas-docs/stable/user_guide/indexing.html#returning-a-view-versus-a-copy\n",
      "\n"
     ]
    }
   ],
   "source": [
    "coding_experience.dropna(subset = [\"Coding Experience\"], inplace=True)\n"
   ]
  },
  {
   "cell_type": "code",
   "execution_count": 25,
   "metadata": {},
   "outputs": [
    {
     "data": {
      "text/html": [
       "<div>\n",
       "<style scoped>\n",
       "    .dataframe tbody tr th:only-of-type {\n",
       "        vertical-align: middle;\n",
       "    }\n",
       "\n",
       "    .dataframe tbody tr th {\n",
       "        vertical-align: top;\n",
       "    }\n",
       "\n",
       "    .dataframe thead th {\n",
       "        text-align: right;\n",
       "    }\n",
       "</style>\n",
       "<table border=\"1\" class=\"dataframe\">\n",
       "  <thead>\n",
       "    <tr style=\"text-align: right;\">\n",
       "      <th></th>\n",
       "      <th>Country</th>\n",
       "      <th>Coding Experience</th>\n",
       "      <th>Count</th>\n",
       "      <th>percentage</th>\n",
       "    </tr>\n",
       "  </thead>\n",
       "  <tbody>\n",
       "    <tr>\n",
       "      <th>0</th>\n",
       "      <td>India🇮🇳</td>\n",
       "      <td>1-5 years</td>\n",
       "      <td>6843</td>\n",
       "      <td>0.479168</td>\n",
       "    </tr>\n",
       "    <tr>\n",
       "      <th>1</th>\n",
       "      <td>India🇮🇳</td>\n",
       "      <td>10-20 years</td>\n",
       "      <td>1038</td>\n",
       "      <td>0.072684</td>\n",
       "    </tr>\n",
       "    <tr>\n",
       "      <th>2</th>\n",
       "      <td>India🇮🇳</td>\n",
       "      <td>20+ years</td>\n",
       "      <td>283</td>\n",
       "      <td>0.019817</td>\n",
       "    </tr>\n",
       "    <tr>\n",
       "      <th>3</th>\n",
       "      <td>India🇮🇳</td>\n",
       "      <td>5-10 years</td>\n",
       "      <td>1762</td>\n",
       "      <td>0.123381</td>\n",
       "    </tr>\n",
       "    <tr>\n",
       "      <th>4</th>\n",
       "      <td>India🇮🇳</td>\n",
       "      <td>&lt; 1 year</td>\n",
       "      <td>3236</td>\n",
       "      <td>0.226595</td>\n",
       "    </tr>\n",
       "  </tbody>\n",
       "</table>\n",
       "</div>"
      ],
      "text/plain": [
       "   Country Coding Experience  Count  percentage\n",
       "0  India🇮🇳         1-5 years   6843    0.479168\n",
       "1  India🇮🇳       10-20 years   1038    0.072684\n",
       "2  India🇮🇳         20+ years    283    0.019817\n",
       "3  India🇮🇳        5-10 years   1762    0.123381\n",
       "4  India🇮🇳          < 1 year   3236    0.226595"
      ]
     },
     "execution_count": 25,
     "metadata": {},
     "output_type": "execute_result"
    }
   ],
   "source": [
    "coding_experience = coding_experience.groupby(['Country', 'Coding Experience']).size().reset_index().rename(columns = {0:\"Count\"})\n",
    "\n",
    "# India\n",
    "india_df = coding_experience[coding_experience['Country'] == \"India🇮🇳\"].reset_index(drop = True)\n",
    "india_df['percentage'] = india_df[\"Count\"] / india_df[\"Count\"].sum()\n",
    "india_df.head()"
   ]
  },
  {
   "cell_type": "code",
   "execution_count": 26,
   "metadata": {},
   "outputs": [
    {
     "data": {
      "text/html": [
       "<div>\n",
       "<style scoped>\n",
       "    .dataframe tbody tr th:only-of-type {\n",
       "        vertical-align: middle;\n",
       "    }\n",
       "\n",
       "    .dataframe tbody tr th {\n",
       "        vertical-align: top;\n",
       "    }\n",
       "\n",
       "    .dataframe thead th {\n",
       "        text-align: right;\n",
       "    }\n",
       "</style>\n",
       "<table border=\"1\" class=\"dataframe\">\n",
       "  <thead>\n",
       "    <tr style=\"text-align: right;\">\n",
       "      <th></th>\n",
       "      <th>Country</th>\n",
       "      <th>Coding Experience</th>\n",
       "      <th>Count</th>\n",
       "      <th>percentage</th>\n",
       "    </tr>\n",
       "  </thead>\n",
       "  <tbody>\n",
       "    <tr>\n",
       "      <th>0</th>\n",
       "      <td>Viet Nam</td>\n",
       "      <td>1-5 years</td>\n",
       "      <td>260</td>\n",
       "      <td>0.522088</td>\n",
       "    </tr>\n",
       "    <tr>\n",
       "      <th>1</th>\n",
       "      <td>Viet Nam</td>\n",
       "      <td>10-20 years</td>\n",
       "      <td>19</td>\n",
       "      <td>0.038153</td>\n",
       "    </tr>\n",
       "    <tr>\n",
       "      <th>2</th>\n",
       "      <td>Viet Nam</td>\n",
       "      <td>20+ years</td>\n",
       "      <td>3</td>\n",
       "      <td>0.006024</td>\n",
       "    </tr>\n",
       "    <tr>\n",
       "      <th>3</th>\n",
       "      <td>Viet Nam</td>\n",
       "      <td>5-10 years</td>\n",
       "      <td>60</td>\n",
       "      <td>0.120482</td>\n",
       "    </tr>\n",
       "    <tr>\n",
       "      <th>4</th>\n",
       "      <td>Viet Nam</td>\n",
       "      <td>&lt; 1 year</td>\n",
       "      <td>126</td>\n",
       "      <td>0.253012</td>\n",
       "    </tr>\n",
       "  </tbody>\n",
       "</table>\n",
       "</div>"
      ],
      "text/plain": [
       "    Country Coding Experience  Count  percentage\n",
       "0  Viet Nam         1-5 years    260    0.522088\n",
       "1  Viet Nam       10-20 years     19    0.038153\n",
       "2  Viet Nam         20+ years      3    0.006024\n",
       "3  Viet Nam        5-10 years     60    0.120482\n",
       "4  Viet Nam          < 1 year    126    0.253012"
      ]
     },
     "execution_count": 26,
     "metadata": {},
     "output_type": "execute_result"
    }
   ],
   "source": [
    "# USA\n",
    "vn_df = coding_experience[coding_experience['Country'] == \"Viet Nam\"].reset_index(drop = True)\n",
    "vn_df['percentage'] = vn_df[\"Count\"] / vn_df[\"Count\"].sum()\n",
    "vn_df.head()"
   ]
  },
  {
   "cell_type": "code",
   "execution_count": 27,
   "metadata": {},
   "outputs": [
    {
     "data": {
      "text/html": [
       "<div>\n",
       "<style scoped>\n",
       "    .dataframe tbody tr th:only-of-type {\n",
       "        vertical-align: middle;\n",
       "    }\n",
       "\n",
       "    .dataframe tbody tr th {\n",
       "        vertical-align: top;\n",
       "    }\n",
       "\n",
       "    .dataframe thead th {\n",
       "        text-align: right;\n",
       "    }\n",
       "</style>\n",
       "<table border=\"1\" class=\"dataframe\">\n",
       "  <thead>\n",
       "    <tr style=\"text-align: right;\">\n",
       "      <th></th>\n",
       "      <th>index</th>\n",
       "      <th>Country</th>\n",
       "      <th>Coding Experience</th>\n",
       "      <th>Count</th>\n",
       "      <th>percentage</th>\n",
       "      <th>%</th>\n",
       "    </tr>\n",
       "  </thead>\n",
       "  <tbody>\n",
       "    <tr>\n",
       "      <th>0</th>\n",
       "      <td>0</td>\n",
       "      <td>India🇮🇳</td>\n",
       "      <td>1-5 years</td>\n",
       "      <td>6843</td>\n",
       "      <td>0.479168</td>\n",
       "      <td>47.9</td>\n",
       "    </tr>\n",
       "    <tr>\n",
       "      <th>1</th>\n",
       "      <td>1</td>\n",
       "      <td>India🇮🇳</td>\n",
       "      <td>10-20 years</td>\n",
       "      <td>1038</td>\n",
       "      <td>0.072684</td>\n",
       "      <td>7.3</td>\n",
       "    </tr>\n",
       "    <tr>\n",
       "      <th>2</th>\n",
       "      <td>2</td>\n",
       "      <td>India🇮🇳</td>\n",
       "      <td>20+ years</td>\n",
       "      <td>283</td>\n",
       "      <td>0.019817</td>\n",
       "      <td>2.0</td>\n",
       "    </tr>\n",
       "    <tr>\n",
       "      <th>3</th>\n",
       "      <td>3</td>\n",
       "      <td>India🇮🇳</td>\n",
       "      <td>5-10 years</td>\n",
       "      <td>1762</td>\n",
       "      <td>0.123381</td>\n",
       "      <td>12.3</td>\n",
       "    </tr>\n",
       "    <tr>\n",
       "      <th>4</th>\n",
       "      <td>4</td>\n",
       "      <td>India🇮🇳</td>\n",
       "      <td>&lt; 1 year</td>\n",
       "      <td>3236</td>\n",
       "      <td>0.226595</td>\n",
       "      <td>22.7</td>\n",
       "    </tr>\n",
       "    <tr>\n",
       "      <th>5</th>\n",
       "      <td>5</td>\n",
       "      <td>India🇮🇳</td>\n",
       "      <td>I have never written code</td>\n",
       "      <td>1119</td>\n",
       "      <td>0.078356</td>\n",
       "      <td>7.8</td>\n",
       "    </tr>\n",
       "    <tr>\n",
       "      <th>6</th>\n",
       "      <td>0</td>\n",
       "      <td>Viet Nam</td>\n",
       "      <td>1-5 years</td>\n",
       "      <td>260</td>\n",
       "      <td>0.522088</td>\n",
       "      <td>52.2</td>\n",
       "    </tr>\n",
       "    <tr>\n",
       "      <th>7</th>\n",
       "      <td>1</td>\n",
       "      <td>Viet Nam</td>\n",
       "      <td>10-20 years</td>\n",
       "      <td>19</td>\n",
       "      <td>0.038153</td>\n",
       "      <td>3.8</td>\n",
       "    </tr>\n",
       "    <tr>\n",
       "      <th>8</th>\n",
       "      <td>2</td>\n",
       "      <td>Viet Nam</td>\n",
       "      <td>20+ years</td>\n",
       "      <td>3</td>\n",
       "      <td>0.006024</td>\n",
       "      <td>0.6</td>\n",
       "    </tr>\n",
       "    <tr>\n",
       "      <th>9</th>\n",
       "      <td>3</td>\n",
       "      <td>Viet Nam</td>\n",
       "      <td>5-10 years</td>\n",
       "      <td>60</td>\n",
       "      <td>0.120482</td>\n",
       "      <td>12.0</td>\n",
       "    </tr>\n",
       "    <tr>\n",
       "      <th>10</th>\n",
       "      <td>4</td>\n",
       "      <td>Viet Nam</td>\n",
       "      <td>&lt; 1 year</td>\n",
       "      <td>126</td>\n",
       "      <td>0.253012</td>\n",
       "      <td>25.3</td>\n",
       "    </tr>\n",
       "    <tr>\n",
       "      <th>11</th>\n",
       "      <td>5</td>\n",
       "      <td>Viet Nam</td>\n",
       "      <td>I have never written code</td>\n",
       "      <td>30</td>\n",
       "      <td>0.060241</td>\n",
       "      <td>6.0</td>\n",
       "    </tr>\n",
       "  </tbody>\n",
       "</table>\n",
       "</div>"
      ],
      "text/plain": [
       "    index   Country          Coding Experience  Count  percentage     %\n",
       "0       0   India🇮🇳                  1-5 years   6843    0.479168  47.9\n",
       "1       1   India🇮🇳                10-20 years   1038    0.072684   7.3\n",
       "2       2   India🇮🇳                  20+ years    283    0.019817   2.0\n",
       "3       3   India🇮🇳                 5-10 years   1762    0.123381  12.3\n",
       "4       4   India🇮🇳                   < 1 year   3236    0.226595  22.7\n",
       "5       5   India🇮🇳  I have never written code   1119    0.078356   7.8\n",
       "6       0  Viet Nam                  1-5 years    260    0.522088  52.2\n",
       "7       1  Viet Nam                10-20 years     19    0.038153   3.8\n",
       "8       2  Viet Nam                  20+ years      3    0.006024   0.6\n",
       "9       3  Viet Nam                 5-10 years     60    0.120482  12.0\n",
       "10      4  Viet Nam                   < 1 year    126    0.253012  25.3\n",
       "11      5  Viet Nam  I have never written code     30    0.060241   6.0"
      ]
     },
     "execution_count": 27,
     "metadata": {},
     "output_type": "execute_result"
    }
   ],
   "source": [
    "india_df['%'] = np.round(india_df['percentage'] * 100, 1)\n",
    "vn_df['%'] = np.round(vn_df['percentage'] * 100, 1)\n",
    "\n",
    "india_vn_df = pd.concat([india_df, vn_df]).reset_index()\n",
    "india_vn_df"
   ]
  },
  {
   "cell_type": "code",
   "execution_count": 29,
   "metadata": {},
   "outputs": [
    {
     "data": {
      "application/vnd.plotly.v1+json": {
       "config": {
        "plotlyServerURL": "https://plot.ly"
       },
       "data": [
        {
         "name": "India🇮🇳",
         "text": [
          "47.9%",
          "7.3%",
          "2.0%",
          "12.3%",
          "22.7%",
          "7.8%"
         ],
         "textposition": "auto",
         "type": "bar",
         "x": [
          "1-5 years",
          "10-20 years",
          "20+ years",
          "5-10 years",
          "< 1 year",
          "I have never written code"
         ],
         "y": [
          47.9,
          7.3,
          2,
          12.3,
          22.7,
          7.8
         ]
        },
        {
         "name": "Viet Nam",
         "text": [
          "52.2%",
          "3.8%",
          "0.6%",
          "12.0%",
          "25.3%",
          "6.0%"
         ],
         "textposition": "auto",
         "type": "bar",
         "x": [
          "1-5 years",
          "10-20 years",
          "20+ years",
          "5-10 years",
          "< 1 year",
          "I have never written code"
         ],
         "y": [
          52.2,
          3.8,
          0.6,
          12,
          25.3,
          6
         ]
        }
       ],
       "layout": {
        "barmode": "group",
        "plot_bgcolor": "white",
        "template": {
         "data": {
          "bar": [
           {
            "error_x": {
             "color": "#2a3f5f"
            },
            "error_y": {
             "color": "#2a3f5f"
            },
            "marker": {
             "line": {
              "color": "#E5ECF6",
              "width": 0.5
             },
             "pattern": {
              "fillmode": "overlay",
              "size": 10,
              "solidity": 0.2
             }
            },
            "type": "bar"
           }
          ],
          "barpolar": [
           {
            "marker": {
             "line": {
              "color": "#E5ECF6",
              "width": 0.5
             },
             "pattern": {
              "fillmode": "overlay",
              "size": 10,
              "solidity": 0.2
             }
            },
            "type": "barpolar"
           }
          ],
          "carpet": [
           {
            "aaxis": {
             "endlinecolor": "#2a3f5f",
             "gridcolor": "white",
             "linecolor": "white",
             "minorgridcolor": "white",
             "startlinecolor": "#2a3f5f"
            },
            "baxis": {
             "endlinecolor": "#2a3f5f",
             "gridcolor": "white",
             "linecolor": "white",
             "minorgridcolor": "white",
             "startlinecolor": "#2a3f5f"
            },
            "type": "carpet"
           }
          ],
          "choropleth": [
           {
            "colorbar": {
             "outlinewidth": 0,
             "ticks": ""
            },
            "type": "choropleth"
           }
          ],
          "contour": [
           {
            "colorbar": {
             "outlinewidth": 0,
             "ticks": ""
            },
            "colorscale": [
             [
              0,
              "#0d0887"
             ],
             [
              0.1111111111111111,
              "#46039f"
             ],
             [
              0.2222222222222222,
              "#7201a8"
             ],
             [
              0.3333333333333333,
              "#9c179e"
             ],
             [
              0.4444444444444444,
              "#bd3786"
             ],
             [
              0.5555555555555556,
              "#d8576b"
             ],
             [
              0.6666666666666666,
              "#ed7953"
             ],
             [
              0.7777777777777778,
              "#fb9f3a"
             ],
             [
              0.8888888888888888,
              "#fdca26"
             ],
             [
              1,
              "#f0f921"
             ]
            ],
            "type": "contour"
           }
          ],
          "contourcarpet": [
           {
            "colorbar": {
             "outlinewidth": 0,
             "ticks": ""
            },
            "type": "contourcarpet"
           }
          ],
          "heatmap": [
           {
            "colorbar": {
             "outlinewidth": 0,
             "ticks": ""
            },
            "colorscale": [
             [
              0,
              "#0d0887"
             ],
             [
              0.1111111111111111,
              "#46039f"
             ],
             [
              0.2222222222222222,
              "#7201a8"
             ],
             [
              0.3333333333333333,
              "#9c179e"
             ],
             [
              0.4444444444444444,
              "#bd3786"
             ],
             [
              0.5555555555555556,
              "#d8576b"
             ],
             [
              0.6666666666666666,
              "#ed7953"
             ],
             [
              0.7777777777777778,
              "#fb9f3a"
             ],
             [
              0.8888888888888888,
              "#fdca26"
             ],
             [
              1,
              "#f0f921"
             ]
            ],
            "type": "heatmap"
           }
          ],
          "heatmapgl": [
           {
            "colorbar": {
             "outlinewidth": 0,
             "ticks": ""
            },
            "colorscale": [
             [
              0,
              "#0d0887"
             ],
             [
              0.1111111111111111,
              "#46039f"
             ],
             [
              0.2222222222222222,
              "#7201a8"
             ],
             [
              0.3333333333333333,
              "#9c179e"
             ],
             [
              0.4444444444444444,
              "#bd3786"
             ],
             [
              0.5555555555555556,
              "#d8576b"
             ],
             [
              0.6666666666666666,
              "#ed7953"
             ],
             [
              0.7777777777777778,
              "#fb9f3a"
             ],
             [
              0.8888888888888888,
              "#fdca26"
             ],
             [
              1,
              "#f0f921"
             ]
            ],
            "type": "heatmapgl"
           }
          ],
          "histogram": [
           {
            "marker": {
             "pattern": {
              "fillmode": "overlay",
              "size": 10,
              "solidity": 0.2
             }
            },
            "type": "histogram"
           }
          ],
          "histogram2d": [
           {
            "colorbar": {
             "outlinewidth": 0,
             "ticks": ""
            },
            "colorscale": [
             [
              0,
              "#0d0887"
             ],
             [
              0.1111111111111111,
              "#46039f"
             ],
             [
              0.2222222222222222,
              "#7201a8"
             ],
             [
              0.3333333333333333,
              "#9c179e"
             ],
             [
              0.4444444444444444,
              "#bd3786"
             ],
             [
              0.5555555555555556,
              "#d8576b"
             ],
             [
              0.6666666666666666,
              "#ed7953"
             ],
             [
              0.7777777777777778,
              "#fb9f3a"
             ],
             [
              0.8888888888888888,
              "#fdca26"
             ],
             [
              1,
              "#f0f921"
             ]
            ],
            "type": "histogram2d"
           }
          ],
          "histogram2dcontour": [
           {
            "colorbar": {
             "outlinewidth": 0,
             "ticks": ""
            },
            "colorscale": [
             [
              0,
              "#0d0887"
             ],
             [
              0.1111111111111111,
              "#46039f"
             ],
             [
              0.2222222222222222,
              "#7201a8"
             ],
             [
              0.3333333333333333,
              "#9c179e"
             ],
             [
              0.4444444444444444,
              "#bd3786"
             ],
             [
              0.5555555555555556,
              "#d8576b"
             ],
             [
              0.6666666666666666,
              "#ed7953"
             ],
             [
              0.7777777777777778,
              "#fb9f3a"
             ],
             [
              0.8888888888888888,
              "#fdca26"
             ],
             [
              1,
              "#f0f921"
             ]
            ],
            "type": "histogram2dcontour"
           }
          ],
          "mesh3d": [
           {
            "colorbar": {
             "outlinewidth": 0,
             "ticks": ""
            },
            "type": "mesh3d"
           }
          ],
          "parcoords": [
           {
            "line": {
             "colorbar": {
              "outlinewidth": 0,
              "ticks": ""
             }
            },
            "type": "parcoords"
           }
          ],
          "pie": [
           {
            "automargin": true,
            "type": "pie"
           }
          ],
          "scatter": [
           {
            "fillpattern": {
             "fillmode": "overlay",
             "size": 10,
             "solidity": 0.2
            },
            "type": "scatter"
           }
          ],
          "scatter3d": [
           {
            "line": {
             "colorbar": {
              "outlinewidth": 0,
              "ticks": ""
             }
            },
            "marker": {
             "colorbar": {
              "outlinewidth": 0,
              "ticks": ""
             }
            },
            "type": "scatter3d"
           }
          ],
          "scattercarpet": [
           {
            "marker": {
             "colorbar": {
              "outlinewidth": 0,
              "ticks": ""
             }
            },
            "type": "scattercarpet"
           }
          ],
          "scattergeo": [
           {
            "marker": {
             "colorbar": {
              "outlinewidth": 0,
              "ticks": ""
             }
            },
            "type": "scattergeo"
           }
          ],
          "scattergl": [
           {
            "marker": {
             "colorbar": {
              "outlinewidth": 0,
              "ticks": ""
             }
            },
            "type": "scattergl"
           }
          ],
          "scattermapbox": [
           {
            "marker": {
             "colorbar": {
              "outlinewidth": 0,
              "ticks": ""
             }
            },
            "type": "scattermapbox"
           }
          ],
          "scatterpolar": [
           {
            "marker": {
             "colorbar": {
              "outlinewidth": 0,
              "ticks": ""
             }
            },
            "type": "scatterpolar"
           }
          ],
          "scatterpolargl": [
           {
            "marker": {
             "colorbar": {
              "outlinewidth": 0,
              "ticks": ""
             }
            },
            "type": "scatterpolargl"
           }
          ],
          "scatterternary": [
           {
            "marker": {
             "colorbar": {
              "outlinewidth": 0,
              "ticks": ""
             }
            },
            "type": "scatterternary"
           }
          ],
          "surface": [
           {
            "colorbar": {
             "outlinewidth": 0,
             "ticks": ""
            },
            "colorscale": [
             [
              0,
              "#0d0887"
             ],
             [
              0.1111111111111111,
              "#46039f"
             ],
             [
              0.2222222222222222,
              "#7201a8"
             ],
             [
              0.3333333333333333,
              "#9c179e"
             ],
             [
              0.4444444444444444,
              "#bd3786"
             ],
             [
              0.5555555555555556,
              "#d8576b"
             ],
             [
              0.6666666666666666,
              "#ed7953"
             ],
             [
              0.7777777777777778,
              "#fb9f3a"
             ],
             [
              0.8888888888888888,
              "#fdca26"
             ],
             [
              1,
              "#f0f921"
             ]
            ],
            "type": "surface"
           }
          ],
          "table": [
           {
            "cells": {
             "fill": {
              "color": "#EBF0F8"
             },
             "line": {
              "color": "white"
             }
            },
            "header": {
             "fill": {
              "color": "#C8D4E3"
             },
             "line": {
              "color": "white"
             }
            },
            "type": "table"
           }
          ]
         },
         "layout": {
          "annotationdefaults": {
           "arrowcolor": "#2a3f5f",
           "arrowhead": 0,
           "arrowwidth": 1
          },
          "autotypenumbers": "strict",
          "coloraxis": {
           "colorbar": {
            "outlinewidth": 0,
            "ticks": ""
           }
          },
          "colorscale": {
           "diverging": [
            [
             0,
             "#8e0152"
            ],
            [
             0.1,
             "#c51b7d"
            ],
            [
             0.2,
             "#de77ae"
            ],
            [
             0.3,
             "#f1b6da"
            ],
            [
             0.4,
             "#fde0ef"
            ],
            [
             0.5,
             "#f7f7f7"
            ],
            [
             0.6,
             "#e6f5d0"
            ],
            [
             0.7,
             "#b8e186"
            ],
            [
             0.8,
             "#7fbc41"
            ],
            [
             0.9,
             "#4d9221"
            ],
            [
             1,
             "#276419"
            ]
           ],
           "sequential": [
            [
             0,
             "#0d0887"
            ],
            [
             0.1111111111111111,
             "#46039f"
            ],
            [
             0.2222222222222222,
             "#7201a8"
            ],
            [
             0.3333333333333333,
             "#9c179e"
            ],
            [
             0.4444444444444444,
             "#bd3786"
            ],
            [
             0.5555555555555556,
             "#d8576b"
            ],
            [
             0.6666666666666666,
             "#ed7953"
            ],
            [
             0.7777777777777778,
             "#fb9f3a"
            ],
            [
             0.8888888888888888,
             "#fdca26"
            ],
            [
             1,
             "#f0f921"
            ]
           ],
           "sequentialminus": [
            [
             0,
             "#0d0887"
            ],
            [
             0.1111111111111111,
             "#46039f"
            ],
            [
             0.2222222222222222,
             "#7201a8"
            ],
            [
             0.3333333333333333,
             "#9c179e"
            ],
            [
             0.4444444444444444,
             "#bd3786"
            ],
            [
             0.5555555555555556,
             "#d8576b"
            ],
            [
             0.6666666666666666,
             "#ed7953"
            ],
            [
             0.7777777777777778,
             "#fb9f3a"
            ],
            [
             0.8888888888888888,
             "#fdca26"
            ],
            [
             1,
             "#f0f921"
            ]
           ]
          },
          "colorway": [
           "#636efa",
           "#EF553B",
           "#00cc96",
           "#ab63fa",
           "#FFA15A",
           "#19d3f3",
           "#FF6692",
           "#B6E880",
           "#FF97FF",
           "#FECB52"
          ],
          "font": {
           "color": "#2a3f5f"
          },
          "geo": {
           "bgcolor": "white",
           "lakecolor": "white",
           "landcolor": "#E5ECF6",
           "showlakes": true,
           "showland": true,
           "subunitcolor": "white"
          },
          "hoverlabel": {
           "align": "left"
          },
          "hovermode": "closest",
          "mapbox": {
           "style": "light"
          },
          "paper_bgcolor": "white",
          "plot_bgcolor": "#E5ECF6",
          "polar": {
           "angularaxis": {
            "gridcolor": "white",
            "linecolor": "white",
            "ticks": ""
           },
           "bgcolor": "#E5ECF6",
           "radialaxis": {
            "gridcolor": "white",
            "linecolor": "white",
            "ticks": ""
           }
          },
          "scene": {
           "xaxis": {
            "backgroundcolor": "#E5ECF6",
            "gridcolor": "white",
            "gridwidth": 2,
            "linecolor": "white",
            "showbackground": true,
            "ticks": "",
            "zerolinecolor": "white"
           },
           "yaxis": {
            "backgroundcolor": "#E5ECF6",
            "gridcolor": "white",
            "gridwidth": 2,
            "linecolor": "white",
            "showbackground": true,
            "ticks": "",
            "zerolinecolor": "white"
           },
           "zaxis": {
            "backgroundcolor": "#E5ECF6",
            "gridcolor": "white",
            "gridwidth": 2,
            "linecolor": "white",
            "showbackground": true,
            "ticks": "",
            "zerolinecolor": "white"
           }
          },
          "shapedefaults": {
           "line": {
            "color": "#2a3f5f"
           }
          },
          "ternary": {
           "aaxis": {
            "gridcolor": "white",
            "linecolor": "white",
            "ticks": ""
           },
           "baxis": {
            "gridcolor": "white",
            "linecolor": "white",
            "ticks": ""
           },
           "bgcolor": "#E5ECF6",
           "caxis": {
            "gridcolor": "white",
            "linecolor": "white",
            "ticks": ""
           }
          },
          "title": {
           "x": 0.05
          },
          "xaxis": {
           "automargin": true,
           "gridcolor": "white",
           "linecolor": "white",
           "ticks": "",
           "title": {
            "standoff": 15
           },
           "zerolinecolor": "white",
           "zerolinewidth": 2
          },
          "yaxis": {
           "automargin": true,
           "gridcolor": "white",
           "linecolor": "white",
           "ticks": "",
           "title": {
            "standoff": 15
           },
           "zerolinecolor": "white",
           "zerolinewidth": 2
          }
         }
        }
       }
      }
     },
     "metadata": {},
     "output_type": "display_data"
    }
   ],
   "source": [
    "fig = go.Figure()\n",
    "for country, group in india_vn_df.groupby(\"Country\"):\n",
    "   fig.add_trace(go.Bar(x = group['Coding Experience'], \n",
    "                        y = group['%'], \n",
    "                        name = country, \n",
    "                        text = group['%'].astype(str) + \"%\", \n",
    "                        textposition='auto'))\n",
    "fig.update_layout(barmode=\"group\", \n",
    "                  plot_bgcolor = \"white\")\n",
    "fig.show()"
   ]
  },
  {
   "attachments": {},
   "cell_type": "markdown",
   "metadata": {},
   "source": [
    "Nhận xét: Việt Nam có ít số người có kinh nghiệm lâu dài về code hơn Ấn Độ (trên 5 năm) nhưng tỉ lệ những người có kinh nghiệm ít hơn 5 năm của Việt Nam nhiều hơn Ấn Độ nên tỉ lệ tri thức trẻ của Việt Nam là một dấu hiệu đáng mừng cho phát triển công nghệ ở nước ta"
   ]
  },
  {
   "attachments": {},
   "cell_type": "markdown",
   "metadata": {},
   "source": [
    "Plot 2"
   ]
  },
  {
   "cell_type": "code",
   "execution_count": 30,
   "metadata": {},
   "outputs": [
    {
     "data": {
      "application/vnd.plotly.v1+json": {
       "config": {
        "plotlyServerURL": "https://plot.ly"
       },
       "data": [
        {
         "colorscale": [
          [
           0,
           "#440154"
          ],
          [
           0.1111111111111111,
           "#482878"
          ],
          [
           0.2222222222222222,
           "#3e4989"
          ],
          [
           0.3333333333333333,
           "#31688e"
          ],
          [
           0.4444444444444444,
           "#26828e"
          ],
          [
           0.5555555555555556,
           "#1f9e89"
          ],
          [
           0.6666666666666666,
           "#35b779"
          ],
          [
           0.7777777777777778,
           "#6ece58"
          ],
          [
           0.8888888888888888,
           "#b5de2b"
          ],
          [
           1,
           "#fde725"
          ]
         ],
         "reversescale": false,
         "showscale": false,
         "type": "heatmap",
         "x": [
          "18-21",
          "22-24",
          "25-29",
          "30-34",
          "35-39",
          "40-44",
          "45-49",
          "50-54",
          "55-59",
          "60-69",
          "70+"
         ],
         "y": [
          "Bachelor's degree",
          "Doctoral degree",
          "I prefer not to answer",
          "Master's degree",
          "No formal education past high school",
          "Professional degree",
          "Some college/university study without<br>earning a bachelor's degree"
         ],
         "z": [
          [
           0.41,
           0.24,
           0.16,
           0.08,
           0.04,
           0.02,
           0.02,
           0.01,
           0.01,
           0.01,
           0
          ],
          [
           0.01,
           0.05,
           0.17,
           0.22,
           0.17,
           0.13,
           0.07,
           0.06,
           0.05,
           0.05,
           0.02
          ],
          [
           0.22,
           0.22,
           0.22,
           0.13,
           0.08,
           0.05,
           0.03,
           0.02,
           0.01,
           0.01,
           0.01
          ],
          [
           0.09,
           0.24,
           0.25,
           0.15,
           0.09,
           0.06,
           0.04,
           0.03,
           0.02,
           0.02,
           0
          ],
          [
           0.45,
           0.15,
           0.14,
           0.08,
           0.04,
           0.07,
           0.01,
           0.02,
           0.02,
           0.01,
           0.01
          ],
          [
           0.07,
           0.13,
           0.19,
           0.16,
           0.13,
           0.11,
           0.08,
           0.05,
           0.02,
           0.04,
           0.01
          ],
          [
           0.54,
           0.13,
           0.09,
           0.05,
           0.05,
           0.04,
           0.04,
           0.03,
           0.02,
           0.02,
           0
          ]
         ]
        }
       ],
       "layout": {
        "annotations": [
         {
          "font": {
           "color": "#000000"
          },
          "showarrow": false,
          "text": "0.41",
          "x": "18-21",
          "xref": "x",
          "y": "Bachelor's degree",
          "yref": "y"
         },
         {
          "font": {
           "color": "#FFFFFF"
          },
          "showarrow": false,
          "text": "0.24",
          "x": "22-24",
          "xref": "x",
          "y": "Bachelor's degree",
          "yref": "y"
         },
         {
          "font": {
           "color": "#FFFFFF"
          },
          "showarrow": false,
          "text": "0.16",
          "x": "25-29",
          "xref": "x",
          "y": "Bachelor's degree",
          "yref": "y"
         },
         {
          "font": {
           "color": "#FFFFFF"
          },
          "showarrow": false,
          "text": "0.08",
          "x": "30-34",
          "xref": "x",
          "y": "Bachelor's degree",
          "yref": "y"
         },
         {
          "font": {
           "color": "#FFFFFF"
          },
          "showarrow": false,
          "text": "0.04",
          "x": "35-39",
          "xref": "x",
          "y": "Bachelor's degree",
          "yref": "y"
         },
         {
          "font": {
           "color": "#FFFFFF"
          },
          "showarrow": false,
          "text": "0.02",
          "x": "40-44",
          "xref": "x",
          "y": "Bachelor's degree",
          "yref": "y"
         },
         {
          "font": {
           "color": "#FFFFFF"
          },
          "showarrow": false,
          "text": "0.02",
          "x": "45-49",
          "xref": "x",
          "y": "Bachelor's degree",
          "yref": "y"
         },
         {
          "font": {
           "color": "#FFFFFF"
          },
          "showarrow": false,
          "text": "0.01",
          "x": "50-54",
          "xref": "x",
          "y": "Bachelor's degree",
          "yref": "y"
         },
         {
          "font": {
           "color": "#FFFFFF"
          },
          "showarrow": false,
          "text": "0.01",
          "x": "55-59",
          "xref": "x",
          "y": "Bachelor's degree",
          "yref": "y"
         },
         {
          "font": {
           "color": "#FFFFFF"
          },
          "showarrow": false,
          "text": "0.01",
          "x": "60-69",
          "xref": "x",
          "y": "Bachelor's degree",
          "yref": "y"
         },
         {
          "font": {
           "color": "#FFFFFF"
          },
          "showarrow": false,
          "text": "0.0",
          "x": "70+",
          "xref": "x",
          "y": "Bachelor's degree",
          "yref": "y"
         },
         {
          "font": {
           "color": "#FFFFFF"
          },
          "showarrow": false,
          "text": "0.01",
          "x": "18-21",
          "xref": "x",
          "y": "Doctoral degree",
          "yref": "y"
         },
         {
          "font": {
           "color": "#FFFFFF"
          },
          "showarrow": false,
          "text": "0.05",
          "x": "22-24",
          "xref": "x",
          "y": "Doctoral degree",
          "yref": "y"
         },
         {
          "font": {
           "color": "#FFFFFF"
          },
          "showarrow": false,
          "text": "0.17",
          "x": "25-29",
          "xref": "x",
          "y": "Doctoral degree",
          "yref": "y"
         },
         {
          "font": {
           "color": "#FFFFFF"
          },
          "showarrow": false,
          "text": "0.22",
          "x": "30-34",
          "xref": "x",
          "y": "Doctoral degree",
          "yref": "y"
         },
         {
          "font": {
           "color": "#FFFFFF"
          },
          "showarrow": false,
          "text": "0.17",
          "x": "35-39",
          "xref": "x",
          "y": "Doctoral degree",
          "yref": "y"
         },
         {
          "font": {
           "color": "#FFFFFF"
          },
          "showarrow": false,
          "text": "0.13",
          "x": "40-44",
          "xref": "x",
          "y": "Doctoral degree",
          "yref": "y"
         },
         {
          "font": {
           "color": "#FFFFFF"
          },
          "showarrow": false,
          "text": "0.07",
          "x": "45-49",
          "xref": "x",
          "y": "Doctoral degree",
          "yref": "y"
         },
         {
          "font": {
           "color": "#FFFFFF"
          },
          "showarrow": false,
          "text": "0.06",
          "x": "50-54",
          "xref": "x",
          "y": "Doctoral degree",
          "yref": "y"
         },
         {
          "font": {
           "color": "#FFFFFF"
          },
          "showarrow": false,
          "text": "0.05",
          "x": "55-59",
          "xref": "x",
          "y": "Doctoral degree",
          "yref": "y"
         },
         {
          "font": {
           "color": "#FFFFFF"
          },
          "showarrow": false,
          "text": "0.05",
          "x": "60-69",
          "xref": "x",
          "y": "Doctoral degree",
          "yref": "y"
         },
         {
          "font": {
           "color": "#FFFFFF"
          },
          "showarrow": false,
          "text": "0.02",
          "x": "70+",
          "xref": "x",
          "y": "Doctoral degree",
          "yref": "y"
         },
         {
          "font": {
           "color": "#FFFFFF"
          },
          "showarrow": false,
          "text": "0.22",
          "x": "18-21",
          "xref": "x",
          "y": "I prefer not to answer",
          "yref": "y"
         },
         {
          "font": {
           "color": "#FFFFFF"
          },
          "showarrow": false,
          "text": "0.22",
          "x": "22-24",
          "xref": "x",
          "y": "I prefer not to answer",
          "yref": "y"
         },
         {
          "font": {
           "color": "#FFFFFF"
          },
          "showarrow": false,
          "text": "0.22",
          "x": "25-29",
          "xref": "x",
          "y": "I prefer not to answer",
          "yref": "y"
         },
         {
          "font": {
           "color": "#FFFFFF"
          },
          "showarrow": false,
          "text": "0.13",
          "x": "30-34",
          "xref": "x",
          "y": "I prefer not to answer",
          "yref": "y"
         },
         {
          "font": {
           "color": "#FFFFFF"
          },
          "showarrow": false,
          "text": "0.08",
          "x": "35-39",
          "xref": "x",
          "y": "I prefer not to answer",
          "yref": "y"
         },
         {
          "font": {
           "color": "#FFFFFF"
          },
          "showarrow": false,
          "text": "0.05",
          "x": "40-44",
          "xref": "x",
          "y": "I prefer not to answer",
          "yref": "y"
         },
         {
          "font": {
           "color": "#FFFFFF"
          },
          "showarrow": false,
          "text": "0.03",
          "x": "45-49",
          "xref": "x",
          "y": "I prefer not to answer",
          "yref": "y"
         },
         {
          "font": {
           "color": "#FFFFFF"
          },
          "showarrow": false,
          "text": "0.02",
          "x": "50-54",
          "xref": "x",
          "y": "I prefer not to answer",
          "yref": "y"
         },
         {
          "font": {
           "color": "#FFFFFF"
          },
          "showarrow": false,
          "text": "0.01",
          "x": "55-59",
          "xref": "x",
          "y": "I prefer not to answer",
          "yref": "y"
         },
         {
          "font": {
           "color": "#FFFFFF"
          },
          "showarrow": false,
          "text": "0.01",
          "x": "60-69",
          "xref": "x",
          "y": "I prefer not to answer",
          "yref": "y"
         },
         {
          "font": {
           "color": "#FFFFFF"
          },
          "showarrow": false,
          "text": "0.01",
          "x": "70+",
          "xref": "x",
          "y": "I prefer not to answer",
          "yref": "y"
         },
         {
          "font": {
           "color": "#FFFFFF"
          },
          "showarrow": false,
          "text": "0.09",
          "x": "18-21",
          "xref": "x",
          "y": "Master's degree",
          "yref": "y"
         },
         {
          "font": {
           "color": "#FFFFFF"
          },
          "showarrow": false,
          "text": "0.24",
          "x": "22-24",
          "xref": "x",
          "y": "Master's degree",
          "yref": "y"
         },
         {
          "font": {
           "color": "#FFFFFF"
          },
          "showarrow": false,
          "text": "0.25",
          "x": "25-29",
          "xref": "x",
          "y": "Master's degree",
          "yref": "y"
         },
         {
          "font": {
           "color": "#FFFFFF"
          },
          "showarrow": false,
          "text": "0.15",
          "x": "30-34",
          "xref": "x",
          "y": "Master's degree",
          "yref": "y"
         },
         {
          "font": {
           "color": "#FFFFFF"
          },
          "showarrow": false,
          "text": "0.09",
          "x": "35-39",
          "xref": "x",
          "y": "Master's degree",
          "yref": "y"
         },
         {
          "font": {
           "color": "#FFFFFF"
          },
          "showarrow": false,
          "text": "0.06",
          "x": "40-44",
          "xref": "x",
          "y": "Master's degree",
          "yref": "y"
         },
         {
          "font": {
           "color": "#FFFFFF"
          },
          "showarrow": false,
          "text": "0.04",
          "x": "45-49",
          "xref": "x",
          "y": "Master's degree",
          "yref": "y"
         },
         {
          "font": {
           "color": "#FFFFFF"
          },
          "showarrow": false,
          "text": "0.03",
          "x": "50-54",
          "xref": "x",
          "y": "Master's degree",
          "yref": "y"
         },
         {
          "font": {
           "color": "#FFFFFF"
          },
          "showarrow": false,
          "text": "0.02",
          "x": "55-59",
          "xref": "x",
          "y": "Master's degree",
          "yref": "y"
         },
         {
          "font": {
           "color": "#FFFFFF"
          },
          "showarrow": false,
          "text": "0.02",
          "x": "60-69",
          "xref": "x",
          "y": "Master's degree",
          "yref": "y"
         },
         {
          "font": {
           "color": "#FFFFFF"
          },
          "showarrow": false,
          "text": "0.0",
          "x": "70+",
          "xref": "x",
          "y": "Master's degree",
          "yref": "y"
         },
         {
          "font": {
           "color": "#000000"
          },
          "showarrow": false,
          "text": "0.45",
          "x": "18-21",
          "xref": "x",
          "y": "No formal education past high school",
          "yref": "y"
         },
         {
          "font": {
           "color": "#FFFFFF"
          },
          "showarrow": false,
          "text": "0.15",
          "x": "22-24",
          "xref": "x",
          "y": "No formal education past high school",
          "yref": "y"
         },
         {
          "font": {
           "color": "#FFFFFF"
          },
          "showarrow": false,
          "text": "0.14",
          "x": "25-29",
          "xref": "x",
          "y": "No formal education past high school",
          "yref": "y"
         },
         {
          "font": {
           "color": "#FFFFFF"
          },
          "showarrow": false,
          "text": "0.08",
          "x": "30-34",
          "xref": "x",
          "y": "No formal education past high school",
          "yref": "y"
         },
         {
          "font": {
           "color": "#FFFFFF"
          },
          "showarrow": false,
          "text": "0.04",
          "x": "35-39",
          "xref": "x",
          "y": "No formal education past high school",
          "yref": "y"
         },
         {
          "font": {
           "color": "#FFFFFF"
          },
          "showarrow": false,
          "text": "0.07",
          "x": "40-44",
          "xref": "x",
          "y": "No formal education past high school",
          "yref": "y"
         },
         {
          "font": {
           "color": "#FFFFFF"
          },
          "showarrow": false,
          "text": "0.01",
          "x": "45-49",
          "xref": "x",
          "y": "No formal education past high school",
          "yref": "y"
         },
         {
          "font": {
           "color": "#FFFFFF"
          },
          "showarrow": false,
          "text": "0.02",
          "x": "50-54",
          "xref": "x",
          "y": "No formal education past high school",
          "yref": "y"
         },
         {
          "font": {
           "color": "#FFFFFF"
          },
          "showarrow": false,
          "text": "0.02",
          "x": "55-59",
          "xref": "x",
          "y": "No formal education past high school",
          "yref": "y"
         },
         {
          "font": {
           "color": "#FFFFFF"
          },
          "showarrow": false,
          "text": "0.01",
          "x": "60-69",
          "xref": "x",
          "y": "No formal education past high school",
          "yref": "y"
         },
         {
          "font": {
           "color": "#FFFFFF"
          },
          "showarrow": false,
          "text": "0.01",
          "x": "70+",
          "xref": "x",
          "y": "No formal education past high school",
          "yref": "y"
         },
         {
          "font": {
           "color": "#FFFFFF"
          },
          "showarrow": false,
          "text": "0.07",
          "x": "18-21",
          "xref": "x",
          "y": "Professional degree",
          "yref": "y"
         },
         {
          "font": {
           "color": "#FFFFFF"
          },
          "showarrow": false,
          "text": "0.13",
          "x": "22-24",
          "xref": "x",
          "y": "Professional degree",
          "yref": "y"
         },
         {
          "font": {
           "color": "#FFFFFF"
          },
          "showarrow": false,
          "text": "0.19",
          "x": "25-29",
          "xref": "x",
          "y": "Professional degree",
          "yref": "y"
         },
         {
          "font": {
           "color": "#FFFFFF"
          },
          "showarrow": false,
          "text": "0.16",
          "x": "30-34",
          "xref": "x",
          "y": "Professional degree",
          "yref": "y"
         },
         {
          "font": {
           "color": "#FFFFFF"
          },
          "showarrow": false,
          "text": "0.13",
          "x": "35-39",
          "xref": "x",
          "y": "Professional degree",
          "yref": "y"
         },
         {
          "font": {
           "color": "#FFFFFF"
          },
          "showarrow": false,
          "text": "0.11",
          "x": "40-44",
          "xref": "x",
          "y": "Professional degree",
          "yref": "y"
         },
         {
          "font": {
           "color": "#FFFFFF"
          },
          "showarrow": false,
          "text": "0.08",
          "x": "45-49",
          "xref": "x",
          "y": "Professional degree",
          "yref": "y"
         },
         {
          "font": {
           "color": "#FFFFFF"
          },
          "showarrow": false,
          "text": "0.05",
          "x": "50-54",
          "xref": "x",
          "y": "Professional degree",
          "yref": "y"
         },
         {
          "font": {
           "color": "#FFFFFF"
          },
          "showarrow": false,
          "text": "0.02",
          "x": "55-59",
          "xref": "x",
          "y": "Professional degree",
          "yref": "y"
         },
         {
          "font": {
           "color": "#FFFFFF"
          },
          "showarrow": false,
          "text": "0.04",
          "x": "60-69",
          "xref": "x",
          "y": "Professional degree",
          "yref": "y"
         },
         {
          "font": {
           "color": "#FFFFFF"
          },
          "showarrow": false,
          "text": "0.01",
          "x": "70+",
          "xref": "x",
          "y": "Professional degree",
          "yref": "y"
         },
         {
          "font": {
           "color": "#000000"
          },
          "showarrow": false,
          "text": "0.54",
          "x": "18-21",
          "xref": "x",
          "y": "Some college/university study without<br>earning a bachelor's degree",
          "yref": "y"
         },
         {
          "font": {
           "color": "#FFFFFF"
          },
          "showarrow": false,
          "text": "0.13",
          "x": "22-24",
          "xref": "x",
          "y": "Some college/university study without<br>earning a bachelor's degree",
          "yref": "y"
         },
         {
          "font": {
           "color": "#FFFFFF"
          },
          "showarrow": false,
          "text": "0.09",
          "x": "25-29",
          "xref": "x",
          "y": "Some college/university study without<br>earning a bachelor's degree",
          "yref": "y"
         },
         {
          "font": {
           "color": "#FFFFFF"
          },
          "showarrow": false,
          "text": "0.05",
          "x": "30-34",
          "xref": "x",
          "y": "Some college/university study without<br>earning a bachelor's degree",
          "yref": "y"
         },
         {
          "font": {
           "color": "#FFFFFF"
          },
          "showarrow": false,
          "text": "0.05",
          "x": "35-39",
          "xref": "x",
          "y": "Some college/university study without<br>earning a bachelor's degree",
          "yref": "y"
         },
         {
          "font": {
           "color": "#FFFFFF"
          },
          "showarrow": false,
          "text": "0.04",
          "x": "40-44",
          "xref": "x",
          "y": "Some college/university study without<br>earning a bachelor's degree",
          "yref": "y"
         },
         {
          "font": {
           "color": "#FFFFFF"
          },
          "showarrow": false,
          "text": "0.04",
          "x": "45-49",
          "xref": "x",
          "y": "Some college/university study without<br>earning a bachelor's degree",
          "yref": "y"
         },
         {
          "font": {
           "color": "#FFFFFF"
          },
          "showarrow": false,
          "text": "0.03",
          "x": "50-54",
          "xref": "x",
          "y": "Some college/university study without<br>earning a bachelor's degree",
          "yref": "y"
         },
         {
          "font": {
           "color": "#FFFFFF"
          },
          "showarrow": false,
          "text": "0.02",
          "x": "55-59",
          "xref": "x",
          "y": "Some college/university study without<br>earning a bachelor's degree",
          "yref": "y"
         },
         {
          "font": {
           "color": "#FFFFFF"
          },
          "showarrow": false,
          "text": "0.02",
          "x": "60-69",
          "xref": "x",
          "y": "Some college/university study without<br>earning a bachelor's degree",
          "yref": "y"
         },
         {
          "font": {
           "color": "#FFFFFF"
          },
          "showarrow": false,
          "text": "0.0",
          "x": "70+",
          "xref": "x",
          "y": "Some college/university study without<br>earning a bachelor's degree",
          "yref": "y"
         }
        ],
        "template": {
         "data": {
          "bar": [
           {
            "error_x": {
             "color": "#2a3f5f"
            },
            "error_y": {
             "color": "#2a3f5f"
            },
            "marker": {
             "line": {
              "color": "#E5ECF6",
              "width": 0.5
             },
             "pattern": {
              "fillmode": "overlay",
              "size": 10,
              "solidity": 0.2
             }
            },
            "type": "bar"
           }
          ],
          "barpolar": [
           {
            "marker": {
             "line": {
              "color": "#E5ECF6",
              "width": 0.5
             },
             "pattern": {
              "fillmode": "overlay",
              "size": 10,
              "solidity": 0.2
             }
            },
            "type": "barpolar"
           }
          ],
          "carpet": [
           {
            "aaxis": {
             "endlinecolor": "#2a3f5f",
             "gridcolor": "white",
             "linecolor": "white",
             "minorgridcolor": "white",
             "startlinecolor": "#2a3f5f"
            },
            "baxis": {
             "endlinecolor": "#2a3f5f",
             "gridcolor": "white",
             "linecolor": "white",
             "minorgridcolor": "white",
             "startlinecolor": "#2a3f5f"
            },
            "type": "carpet"
           }
          ],
          "choropleth": [
           {
            "colorbar": {
             "outlinewidth": 0,
             "ticks": ""
            },
            "type": "choropleth"
           }
          ],
          "contour": [
           {
            "colorbar": {
             "outlinewidth": 0,
             "ticks": ""
            },
            "colorscale": [
             [
              0,
              "#0d0887"
             ],
             [
              0.1111111111111111,
              "#46039f"
             ],
             [
              0.2222222222222222,
              "#7201a8"
             ],
             [
              0.3333333333333333,
              "#9c179e"
             ],
             [
              0.4444444444444444,
              "#bd3786"
             ],
             [
              0.5555555555555556,
              "#d8576b"
             ],
             [
              0.6666666666666666,
              "#ed7953"
             ],
             [
              0.7777777777777778,
              "#fb9f3a"
             ],
             [
              0.8888888888888888,
              "#fdca26"
             ],
             [
              1,
              "#f0f921"
             ]
            ],
            "type": "contour"
           }
          ],
          "contourcarpet": [
           {
            "colorbar": {
             "outlinewidth": 0,
             "ticks": ""
            },
            "type": "contourcarpet"
           }
          ],
          "heatmap": [
           {
            "colorbar": {
             "outlinewidth": 0,
             "ticks": ""
            },
            "colorscale": [
             [
              0,
              "#0d0887"
             ],
             [
              0.1111111111111111,
              "#46039f"
             ],
             [
              0.2222222222222222,
              "#7201a8"
             ],
             [
              0.3333333333333333,
              "#9c179e"
             ],
             [
              0.4444444444444444,
              "#bd3786"
             ],
             [
              0.5555555555555556,
              "#d8576b"
             ],
             [
              0.6666666666666666,
              "#ed7953"
             ],
             [
              0.7777777777777778,
              "#fb9f3a"
             ],
             [
              0.8888888888888888,
              "#fdca26"
             ],
             [
              1,
              "#f0f921"
             ]
            ],
            "type": "heatmap"
           }
          ],
          "heatmapgl": [
           {
            "colorbar": {
             "outlinewidth": 0,
             "ticks": ""
            },
            "colorscale": [
             [
              0,
              "#0d0887"
             ],
             [
              0.1111111111111111,
              "#46039f"
             ],
             [
              0.2222222222222222,
              "#7201a8"
             ],
             [
              0.3333333333333333,
              "#9c179e"
             ],
             [
              0.4444444444444444,
              "#bd3786"
             ],
             [
              0.5555555555555556,
              "#d8576b"
             ],
             [
              0.6666666666666666,
              "#ed7953"
             ],
             [
              0.7777777777777778,
              "#fb9f3a"
             ],
             [
              0.8888888888888888,
              "#fdca26"
             ],
             [
              1,
              "#f0f921"
             ]
            ],
            "type": "heatmapgl"
           }
          ],
          "histogram": [
           {
            "marker": {
             "pattern": {
              "fillmode": "overlay",
              "size": 10,
              "solidity": 0.2
             }
            },
            "type": "histogram"
           }
          ],
          "histogram2d": [
           {
            "colorbar": {
             "outlinewidth": 0,
             "ticks": ""
            },
            "colorscale": [
             [
              0,
              "#0d0887"
             ],
             [
              0.1111111111111111,
              "#46039f"
             ],
             [
              0.2222222222222222,
              "#7201a8"
             ],
             [
              0.3333333333333333,
              "#9c179e"
             ],
             [
              0.4444444444444444,
              "#bd3786"
             ],
             [
              0.5555555555555556,
              "#d8576b"
             ],
             [
              0.6666666666666666,
              "#ed7953"
             ],
             [
              0.7777777777777778,
              "#fb9f3a"
             ],
             [
              0.8888888888888888,
              "#fdca26"
             ],
             [
              1,
              "#f0f921"
             ]
            ],
            "type": "histogram2d"
           }
          ],
          "histogram2dcontour": [
           {
            "colorbar": {
             "outlinewidth": 0,
             "ticks": ""
            },
            "colorscale": [
             [
              0,
              "#0d0887"
             ],
             [
              0.1111111111111111,
              "#46039f"
             ],
             [
              0.2222222222222222,
              "#7201a8"
             ],
             [
              0.3333333333333333,
              "#9c179e"
             ],
             [
              0.4444444444444444,
              "#bd3786"
             ],
             [
              0.5555555555555556,
              "#d8576b"
             ],
             [
              0.6666666666666666,
              "#ed7953"
             ],
             [
              0.7777777777777778,
              "#fb9f3a"
             ],
             [
              0.8888888888888888,
              "#fdca26"
             ],
             [
              1,
              "#f0f921"
             ]
            ],
            "type": "histogram2dcontour"
           }
          ],
          "mesh3d": [
           {
            "colorbar": {
             "outlinewidth": 0,
             "ticks": ""
            },
            "type": "mesh3d"
           }
          ],
          "parcoords": [
           {
            "line": {
             "colorbar": {
              "outlinewidth": 0,
              "ticks": ""
             }
            },
            "type": "parcoords"
           }
          ],
          "pie": [
           {
            "automargin": true,
            "type": "pie"
           }
          ],
          "scatter": [
           {
            "fillpattern": {
             "fillmode": "overlay",
             "size": 10,
             "solidity": 0.2
            },
            "type": "scatter"
           }
          ],
          "scatter3d": [
           {
            "line": {
             "colorbar": {
              "outlinewidth": 0,
              "ticks": ""
             }
            },
            "marker": {
             "colorbar": {
              "outlinewidth": 0,
              "ticks": ""
             }
            },
            "type": "scatter3d"
           }
          ],
          "scattercarpet": [
           {
            "marker": {
             "colorbar": {
              "outlinewidth": 0,
              "ticks": ""
             }
            },
            "type": "scattercarpet"
           }
          ],
          "scattergeo": [
           {
            "marker": {
             "colorbar": {
              "outlinewidth": 0,
              "ticks": ""
             }
            },
            "type": "scattergeo"
           }
          ],
          "scattergl": [
           {
            "marker": {
             "colorbar": {
              "outlinewidth": 0,
              "ticks": ""
             }
            },
            "type": "scattergl"
           }
          ],
          "scattermapbox": [
           {
            "marker": {
             "colorbar": {
              "outlinewidth": 0,
              "ticks": ""
             }
            },
            "type": "scattermapbox"
           }
          ],
          "scatterpolar": [
           {
            "marker": {
             "colorbar": {
              "outlinewidth": 0,
              "ticks": ""
             }
            },
            "type": "scatterpolar"
           }
          ],
          "scatterpolargl": [
           {
            "marker": {
             "colorbar": {
              "outlinewidth": 0,
              "ticks": ""
             }
            },
            "type": "scatterpolargl"
           }
          ],
          "scatterternary": [
           {
            "marker": {
             "colorbar": {
              "outlinewidth": 0,
              "ticks": ""
             }
            },
            "type": "scatterternary"
           }
          ],
          "surface": [
           {
            "colorbar": {
             "outlinewidth": 0,
             "ticks": ""
            },
            "colorscale": [
             [
              0,
              "#0d0887"
             ],
             [
              0.1111111111111111,
              "#46039f"
             ],
             [
              0.2222222222222222,
              "#7201a8"
             ],
             [
              0.3333333333333333,
              "#9c179e"
             ],
             [
              0.4444444444444444,
              "#bd3786"
             ],
             [
              0.5555555555555556,
              "#d8576b"
             ],
             [
              0.6666666666666666,
              "#ed7953"
             ],
             [
              0.7777777777777778,
              "#fb9f3a"
             ],
             [
              0.8888888888888888,
              "#fdca26"
             ],
             [
              1,
              "#f0f921"
             ]
            ],
            "type": "surface"
           }
          ],
          "table": [
           {
            "cells": {
             "fill": {
              "color": "#EBF0F8"
             },
             "line": {
              "color": "white"
             }
            },
            "header": {
             "fill": {
              "color": "#C8D4E3"
             },
             "line": {
              "color": "white"
             }
            },
            "type": "table"
           }
          ]
         },
         "layout": {
          "annotationdefaults": {
           "arrowcolor": "#2a3f5f",
           "arrowhead": 0,
           "arrowwidth": 1
          },
          "autotypenumbers": "strict",
          "coloraxis": {
           "colorbar": {
            "outlinewidth": 0,
            "ticks": ""
           }
          },
          "colorscale": {
           "diverging": [
            [
             0,
             "#8e0152"
            ],
            [
             0.1,
             "#c51b7d"
            ],
            [
             0.2,
             "#de77ae"
            ],
            [
             0.3,
             "#f1b6da"
            ],
            [
             0.4,
             "#fde0ef"
            ],
            [
             0.5,
             "#f7f7f7"
            ],
            [
             0.6,
             "#e6f5d0"
            ],
            [
             0.7,
             "#b8e186"
            ],
            [
             0.8,
             "#7fbc41"
            ],
            [
             0.9,
             "#4d9221"
            ],
            [
             1,
             "#276419"
            ]
           ],
           "sequential": [
            [
             0,
             "#0d0887"
            ],
            [
             0.1111111111111111,
             "#46039f"
            ],
            [
             0.2222222222222222,
             "#7201a8"
            ],
            [
             0.3333333333333333,
             "#9c179e"
            ],
            [
             0.4444444444444444,
             "#bd3786"
            ],
            [
             0.5555555555555556,
             "#d8576b"
            ],
            [
             0.6666666666666666,
             "#ed7953"
            ],
            [
             0.7777777777777778,
             "#fb9f3a"
            ],
            [
             0.8888888888888888,
             "#fdca26"
            ],
            [
             1,
             "#f0f921"
            ]
           ],
           "sequentialminus": [
            [
             0,
             "#0d0887"
            ],
            [
             0.1111111111111111,
             "#46039f"
            ],
            [
             0.2222222222222222,
             "#7201a8"
            ],
            [
             0.3333333333333333,
             "#9c179e"
            ],
            [
             0.4444444444444444,
             "#bd3786"
            ],
            [
             0.5555555555555556,
             "#d8576b"
            ],
            [
             0.6666666666666666,
             "#ed7953"
            ],
            [
             0.7777777777777778,
             "#fb9f3a"
            ],
            [
             0.8888888888888888,
             "#fdca26"
            ],
            [
             1,
             "#f0f921"
            ]
           ]
          },
          "colorway": [
           "#636efa",
           "#EF553B",
           "#00cc96",
           "#ab63fa",
           "#FFA15A",
           "#19d3f3",
           "#FF6692",
           "#B6E880",
           "#FF97FF",
           "#FECB52"
          ],
          "font": {
           "color": "#2a3f5f"
          },
          "geo": {
           "bgcolor": "white",
           "lakecolor": "white",
           "landcolor": "#E5ECF6",
           "showlakes": true,
           "showland": true,
           "subunitcolor": "white"
          },
          "hoverlabel": {
           "align": "left"
          },
          "hovermode": "closest",
          "mapbox": {
           "style": "light"
          },
          "paper_bgcolor": "white",
          "plot_bgcolor": "#E5ECF6",
          "polar": {
           "angularaxis": {
            "gridcolor": "white",
            "linecolor": "white",
            "ticks": ""
           },
           "bgcolor": "#E5ECF6",
           "radialaxis": {
            "gridcolor": "white",
            "linecolor": "white",
            "ticks": ""
           }
          },
          "scene": {
           "xaxis": {
            "backgroundcolor": "#E5ECF6",
            "gridcolor": "white",
            "gridwidth": 2,
            "linecolor": "white",
            "showbackground": true,
            "ticks": "",
            "zerolinecolor": "white"
           },
           "yaxis": {
            "backgroundcolor": "#E5ECF6",
            "gridcolor": "white",
            "gridwidth": 2,
            "linecolor": "white",
            "showbackground": true,
            "ticks": "",
            "zerolinecolor": "white"
           },
           "zaxis": {
            "backgroundcolor": "#E5ECF6",
            "gridcolor": "white",
            "gridwidth": 2,
            "linecolor": "white",
            "showbackground": true,
            "ticks": "",
            "zerolinecolor": "white"
           }
          },
          "shapedefaults": {
           "line": {
            "color": "#2a3f5f"
           }
          },
          "ternary": {
           "aaxis": {
            "gridcolor": "white",
            "linecolor": "white",
            "ticks": ""
           },
           "baxis": {
            "gridcolor": "white",
            "linecolor": "white",
            "ticks": ""
           },
           "bgcolor": "#E5ECF6",
           "caxis": {
            "gridcolor": "white",
            "linecolor": "white",
            "ticks": ""
           }
          },
          "title": {
           "x": 0.05
          },
          "xaxis": {
           "automargin": true,
           "gridcolor": "white",
           "linecolor": "white",
           "ticks": "",
           "title": {
            "standoff": 15
           },
           "zerolinecolor": "white",
           "zerolinewidth": 2
          },
          "yaxis": {
           "automargin": true,
           "gridcolor": "white",
           "linecolor": "white",
           "ticks": "",
           "title": {
            "standoff": 15
           },
           "zerolinecolor": "white",
           "zerolinewidth": 2
          }
         }
        },
        "xaxis": {
         "dtick": 1,
         "gridcolor": "rgb(0, 0, 0)",
         "side": "top",
         "ticks": ""
        },
        "yaxis": {
         "dtick": 1,
         "ticks": "",
         "ticksuffix": "  "
        }
       }
      }
     },
     "metadata": {},
     "output_type": "display_data"
    }
   ],
   "source": [
    "import plotly.graph_objects as go\n",
    "import plotly.figure_factory as ff\n",
    "\n",
    "z = df.groupby(['Formal Education', 'Age']).size().unstack().fillna(0).astype('int64')\n",
    "z_data = z.apply(lambda x:np.round(x/x.sum(), 2), axis = 1).to_numpy() # convert to correlation matrix\n",
    "x = z.columns.tolist()\n",
    "y = z.index.tolist()\n",
    "\n",
    "fig = ff.create_annotated_heatmap(z_data, x = x, y = y, colorscale = \"Viridis\")\n",
    "fig.show()"
   ]
  },
  {
   "attachments": {},
   "cell_type": "markdown",
   "metadata": {},
   "source": [
    "Nhận xét: Đa số phân vùng của bằng ở ngành Công nghệ thông tin đều phân bố như các nghề khác nhưng ta có thể thấy tỉ lệ bằng cấp ở các độ tuổi trung niên đang giảm dần, và tỉ leek No formal education past high school đang cao ở độ tuổi 18 - 21"
   ]
  },
  {
   "attachments": {},
   "cell_type": "markdown",
   "metadata": {},
   "source": [
    "Plot 3"
   ]
  },
  {
   "cell_type": "code",
   "execution_count": 33,
   "metadata": {},
   "outputs": [
    {
     "data": {
      "text/plain": [
       "Student                      11809\n",
       "Data Scientist                6630\n",
       "Software Engineer             4988\n",
       "Data Analyst                  3940\n",
       "Research Scientist            1673\n",
       "Machine Learning Engineer     1064\n",
       "Name: Title, dtype: int64"
      ]
     },
     "execution_count": 33,
     "metadata": {},
     "output_type": "execute_result"
    }
   ],
   "source": [
    "title_df = df[df['Title'].isin(['Student','Data Scientist','Software Engineer', 'Data Analyst', 'Machine Learning Engineer','Research Scientist'])]\n",
    "title_df['Title'].value_counts()"
   ]
  },
  {
   "cell_type": "code",
   "execution_count": 34,
   "metadata": {},
   "outputs": [
    {
     "data": {
      "text/plain": [
       "(30104, 37)"
      ]
     },
     "execution_count": 34,
     "metadata": {},
     "output_type": "execute_result"
    }
   ],
   "source": [
    "country_list = [\"India🇮🇳\", \"U.S.🇺🇸\", \"China🇨🇳\", \"Viet Nam\"]\n",
    "countries_df = title_df[title_df['Country'].isin(country_list)]\n",
    "countries_df.shape"
   ]
  },
  {
   "cell_type": "code",
   "execution_count": 35,
   "metadata": {},
   "outputs": [],
   "source": [
    "q3_q28 = countries_df.groupby(['Country', 'ML Experience']).size().reset_index().rename(columns = {0:\"Count\"})\n",
    "\n",
    "def get_pnt(data, country):\n",
    "    data_country = data[data['Country'] == country].reset_index(drop = True)\n",
    "    data_country['percentage'] = data_country[\"Count\"] / data_country[\"Count\"].sum()\n",
    "    data_country['%'] = np.round(data_country['percentage'] * 100, 1)\n",
    "    \n",
    "    return data_country\n",
    "\n",
    "usa_df = get_pnt(q3_q28, \"U.S.🇺🇸\")\n",
    "china_df = get_pnt(q3_q28, \"China🇨🇳\")\n",
    "india_df = get_pnt(q3_q28, \"India🇮🇳\")\n",
    "vn_df = get_pnt(q3_q28, \"Viet Nam\")"
   ]
  },
  {
   "cell_type": "code",
   "execution_count": 36,
   "metadata": {},
   "outputs": [
    {
     "data": {
      "text/html": [
       "<div>\n",
       "<style scoped>\n",
       "    .dataframe tbody tr th:only-of-type {\n",
       "        vertical-align: middle;\n",
       "    }\n",
       "\n",
       "    .dataframe tbody tr th {\n",
       "        vertical-align: top;\n",
       "    }\n",
       "\n",
       "    .dataframe thead th {\n",
       "        text-align: right;\n",
       "    }\n",
       "</style>\n",
       "<table border=\"1\" class=\"dataframe\">\n",
       "  <thead>\n",
       "    <tr style=\"text-align: right;\">\n",
       "      <th></th>\n",
       "      <th>Country</th>\n",
       "      <th>ML Experience</th>\n",
       "      <th>Count</th>\n",
       "      <th>percentage</th>\n",
       "      <th>%</th>\n",
       "    </tr>\n",
       "  </thead>\n",
       "  <tbody>\n",
       "    <tr>\n",
       "      <th>0</th>\n",
       "      <td>U.S.🇺🇸</td>\n",
       "      <td>1-2 years</td>\n",
       "      <td>1675</td>\n",
       "      <td>0.215074</td>\n",
       "      <td>21.5</td>\n",
       "    </tr>\n",
       "    <tr>\n",
       "      <th>1</th>\n",
       "      <td>U.S.🇺🇸</td>\n",
       "      <td>10-20 years</td>\n",
       "      <td>340</td>\n",
       "      <td>0.043657</td>\n",
       "      <td>4.4</td>\n",
       "    </tr>\n",
       "    <tr>\n",
       "      <th>2</th>\n",
       "      <td>U.S.🇺🇸</td>\n",
       "      <td>2-3 years</td>\n",
       "      <td>1008</td>\n",
       "      <td>0.129430</td>\n",
       "      <td>12.9</td>\n",
       "    </tr>\n",
       "    <tr>\n",
       "      <th>3</th>\n",
       "      <td>U.S.🇺🇸</td>\n",
       "      <td>20+ years</td>\n",
       "      <td>163</td>\n",
       "      <td>0.020930</td>\n",
       "      <td>2.1</td>\n",
       "    </tr>\n",
       "    <tr>\n",
       "      <th>4</th>\n",
       "      <td>U.S.🇺🇸</td>\n",
       "      <td>3-4 years</td>\n",
       "      <td>713</td>\n",
       "      <td>0.091551</td>\n",
       "      <td>9.2</td>\n",
       "    </tr>\n",
       "    <tr>\n",
       "      <th>5</th>\n",
       "      <td>U.S.🇺🇸</td>\n",
       "      <td>4-5 years</td>\n",
       "      <td>627</td>\n",
       "      <td>0.080508</td>\n",
       "      <td>8.1</td>\n",
       "    </tr>\n",
       "    <tr>\n",
       "      <th>6</th>\n",
       "      <td>U.S.🇺🇸</td>\n",
       "      <td>5-10 years</td>\n",
       "      <td>833</td>\n",
       "      <td>0.106959</td>\n",
       "      <td>10.7</td>\n",
       "    </tr>\n",
       "    <tr>\n",
       "      <th>7</th>\n",
       "      <td>U.S.🇺🇸</td>\n",
       "      <td>&lt; 1 year</td>\n",
       "      <td>1774</td>\n",
       "      <td>0.227786</td>\n",
       "      <td>22.8</td>\n",
       "    </tr>\n",
       "    <tr>\n",
       "      <th>8</th>\n",
       "      <td>U.S.🇺🇸</td>\n",
       "      <td>I do not use machine&lt;br&gt;learning methods</td>\n",
       "      <td>655</td>\n",
       "      <td>0.084104</td>\n",
       "      <td>8.4</td>\n",
       "    </tr>\n",
       "  </tbody>\n",
       "</table>\n",
       "</div>"
      ],
      "text/plain": [
       "  Country                             ML Experience  Count  percentage     %\n",
       "0  U.S.🇺🇸                                 1-2 years   1675    0.215074  21.5\n",
       "1  U.S.🇺🇸                               10-20 years    340    0.043657   4.4\n",
       "2  U.S.🇺🇸                                 2-3 years   1008    0.129430  12.9\n",
       "3  U.S.🇺🇸                                 20+ years    163    0.020930   2.1\n",
       "4  U.S.🇺🇸                                 3-4 years    713    0.091551   9.2\n",
       "5  U.S.🇺🇸                                 4-5 years    627    0.080508   8.1\n",
       "6  U.S.🇺🇸                                5-10 years    833    0.106959  10.7\n",
       "7  U.S.🇺🇸                                  < 1 year   1774    0.227786  22.8\n",
       "8  U.S.🇺🇸  I do not use machine<br>learning methods    655    0.084104   8.4"
      ]
     },
     "execution_count": 36,
     "metadata": {},
     "output_type": "execute_result"
    }
   ],
   "source": [
    "usa_df"
   ]
  },
  {
   "cell_type": "code",
   "execution_count": 38,
   "metadata": {},
   "outputs": [
    {
     "data": {
      "application/vnd.plotly.v1+json": {
       "config": {
        "plotlyServerURL": "https://plot.ly"
       },
       "data": [
        {
         "text": [
          "21.5%",
          "4.4%",
          "12.9%",
          "2.1%",
          "9.2%",
          "8.1%",
          "10.7%",
          "22.8%",
          "8.4%"
         ],
         "textposition": "auto",
         "type": "bar",
         "x": [
          "1-2 years",
          "10-20 years",
          "2-3 years",
          "20+ years",
          "3-4 years",
          "4-5 years",
          "5-10 years",
          "< 1 year",
          "I do not use machine<br>learning methods"
         ],
         "xaxis": "x",
         "y": [
          21.5,
          4.4,
          12.9,
          2.1,
          9.2,
          8.1,
          10.7,
          22.8,
          8.4
         ],
         "yaxis": "y"
        },
        {
         "text": [
          "31.2%",
          "0.6%",
          "10.9%",
          "0.1%",
          "4.1%",
          "3.2%",
          "2.5%",
          "39.9%",
          "7.5%"
         ],
         "textposition": "auto",
         "type": "bar",
         "x": [
          "1-2 years",
          "10-20 years",
          "2-3 years",
          "20+ years",
          "3-4 years",
          "4-5 years",
          "5-10 years",
          "< 1 year",
          "I do not use machine<br>learning methods"
         ],
         "xaxis": "x2",
         "y": [
          31.2,
          0.6,
          10.9,
          0.1,
          4.1,
          3.2,
          2.5,
          39.9,
          7.5
         ],
         "yaxis": "y2"
        },
        {
         "text": [
          "23.6%",
          "0.4%",
          "8.3%",
          "0.1%",
          "3.8%",
          "2.7%",
          "2.2%",
          "46.6%",
          "12.4%"
         ],
         "textposition": "auto",
         "type": "bar",
         "x": [
          "1-2 years",
          "10-20 years",
          "2-3 years",
          "20+ years",
          "3-4 years",
          "4-5 years",
          "5-10 years",
          "< 1 year",
          "I do not use machine<br>learning methods"
         ],
         "xaxis": "x3",
         "y": [
          23.6,
          0.4,
          8.3,
          0.1,
          3.8,
          2.7,
          2.2,
          46.6,
          12.4
         ],
         "yaxis": "y3"
        },
        {
         "text": [
          "26.0%",
          "0.4%",
          "10.4%",
          "5.4%",
          "3.7%",
          "1.7%",
          "42.5%",
          "9.8%"
         ],
         "textposition": "auto",
         "type": "bar",
         "x": [
          "1-2 years",
          "10-20 years",
          "2-3 years",
          "3-4 years",
          "4-5 years",
          "5-10 years",
          "< 1 year",
          "I do not use machine<br>learning methods"
         ],
         "xaxis": "x4",
         "y": [
          26,
          0.4,
          10.4,
          5.4,
          3.7,
          1.7,
          42.5,
          9.8
         ],
         "yaxis": "y4"
        }
       ],
       "layout": {
        "annotations": [
         {
          "font": {
           "size": 16
          },
          "showarrow": false,
          "text": "USA with ML Experience",
          "x": 0.225,
          "xanchor": "center",
          "xref": "paper",
          "y": 1,
          "yanchor": "bottom",
          "yref": "paper"
         },
         {
          "font": {
           "size": 16
          },
          "showarrow": false,
          "text": "China with ML Experience",
          "x": 0.775,
          "xanchor": "center",
          "xref": "paper",
          "y": 1,
          "yanchor": "bottom",
          "yref": "paper"
         },
         {
          "font": {
           "size": 16
          },
          "showarrow": false,
          "text": "Ấn Độ with ML Experience",
          "x": 0.225,
          "xanchor": "center",
          "xref": "paper",
          "y": 0.475,
          "yanchor": "bottom",
          "yref": "paper"
         },
         {
          "font": {
           "size": 16
          },
          "showarrow": false,
          "text": "Việt Nam with ML Experience",
          "x": 0.775,
          "xanchor": "center",
          "xref": "paper",
          "y": 0.475,
          "yanchor": "bottom",
          "yref": "paper"
         }
        ],
        "height": 1000,
        "showlegend": false,
        "template": {
         "data": {
          "bar": [
           {
            "error_x": {
             "color": "#2a3f5f"
            },
            "error_y": {
             "color": "#2a3f5f"
            },
            "marker": {
             "line": {
              "color": "#E5ECF6",
              "width": 0.5
             },
             "pattern": {
              "fillmode": "overlay",
              "size": 10,
              "solidity": 0.2
             }
            },
            "type": "bar"
           }
          ],
          "barpolar": [
           {
            "marker": {
             "line": {
              "color": "#E5ECF6",
              "width": 0.5
             },
             "pattern": {
              "fillmode": "overlay",
              "size": 10,
              "solidity": 0.2
             }
            },
            "type": "barpolar"
           }
          ],
          "carpet": [
           {
            "aaxis": {
             "endlinecolor": "#2a3f5f",
             "gridcolor": "white",
             "linecolor": "white",
             "minorgridcolor": "white",
             "startlinecolor": "#2a3f5f"
            },
            "baxis": {
             "endlinecolor": "#2a3f5f",
             "gridcolor": "white",
             "linecolor": "white",
             "minorgridcolor": "white",
             "startlinecolor": "#2a3f5f"
            },
            "type": "carpet"
           }
          ],
          "choropleth": [
           {
            "colorbar": {
             "outlinewidth": 0,
             "ticks": ""
            },
            "type": "choropleth"
           }
          ],
          "contour": [
           {
            "colorbar": {
             "outlinewidth": 0,
             "ticks": ""
            },
            "colorscale": [
             [
              0,
              "#0d0887"
             ],
             [
              0.1111111111111111,
              "#46039f"
             ],
             [
              0.2222222222222222,
              "#7201a8"
             ],
             [
              0.3333333333333333,
              "#9c179e"
             ],
             [
              0.4444444444444444,
              "#bd3786"
             ],
             [
              0.5555555555555556,
              "#d8576b"
             ],
             [
              0.6666666666666666,
              "#ed7953"
             ],
             [
              0.7777777777777778,
              "#fb9f3a"
             ],
             [
              0.8888888888888888,
              "#fdca26"
             ],
             [
              1,
              "#f0f921"
             ]
            ],
            "type": "contour"
           }
          ],
          "contourcarpet": [
           {
            "colorbar": {
             "outlinewidth": 0,
             "ticks": ""
            },
            "type": "contourcarpet"
           }
          ],
          "heatmap": [
           {
            "colorbar": {
             "outlinewidth": 0,
             "ticks": ""
            },
            "colorscale": [
             [
              0,
              "#0d0887"
             ],
             [
              0.1111111111111111,
              "#46039f"
             ],
             [
              0.2222222222222222,
              "#7201a8"
             ],
             [
              0.3333333333333333,
              "#9c179e"
             ],
             [
              0.4444444444444444,
              "#bd3786"
             ],
             [
              0.5555555555555556,
              "#d8576b"
             ],
             [
              0.6666666666666666,
              "#ed7953"
             ],
             [
              0.7777777777777778,
              "#fb9f3a"
             ],
             [
              0.8888888888888888,
              "#fdca26"
             ],
             [
              1,
              "#f0f921"
             ]
            ],
            "type": "heatmap"
           }
          ],
          "heatmapgl": [
           {
            "colorbar": {
             "outlinewidth": 0,
             "ticks": ""
            },
            "colorscale": [
             [
              0,
              "#0d0887"
             ],
             [
              0.1111111111111111,
              "#46039f"
             ],
             [
              0.2222222222222222,
              "#7201a8"
             ],
             [
              0.3333333333333333,
              "#9c179e"
             ],
             [
              0.4444444444444444,
              "#bd3786"
             ],
             [
              0.5555555555555556,
              "#d8576b"
             ],
             [
              0.6666666666666666,
              "#ed7953"
             ],
             [
              0.7777777777777778,
              "#fb9f3a"
             ],
             [
              0.8888888888888888,
              "#fdca26"
             ],
             [
              1,
              "#f0f921"
             ]
            ],
            "type": "heatmapgl"
           }
          ],
          "histogram": [
           {
            "marker": {
             "pattern": {
              "fillmode": "overlay",
              "size": 10,
              "solidity": 0.2
             }
            },
            "type": "histogram"
           }
          ],
          "histogram2d": [
           {
            "colorbar": {
             "outlinewidth": 0,
             "ticks": ""
            },
            "colorscale": [
             [
              0,
              "#0d0887"
             ],
             [
              0.1111111111111111,
              "#46039f"
             ],
             [
              0.2222222222222222,
              "#7201a8"
             ],
             [
              0.3333333333333333,
              "#9c179e"
             ],
             [
              0.4444444444444444,
              "#bd3786"
             ],
             [
              0.5555555555555556,
              "#d8576b"
             ],
             [
              0.6666666666666666,
              "#ed7953"
             ],
             [
              0.7777777777777778,
              "#fb9f3a"
             ],
             [
              0.8888888888888888,
              "#fdca26"
             ],
             [
              1,
              "#f0f921"
             ]
            ],
            "type": "histogram2d"
           }
          ],
          "histogram2dcontour": [
           {
            "colorbar": {
             "outlinewidth": 0,
             "ticks": ""
            },
            "colorscale": [
             [
              0,
              "#0d0887"
             ],
             [
              0.1111111111111111,
              "#46039f"
             ],
             [
              0.2222222222222222,
              "#7201a8"
             ],
             [
              0.3333333333333333,
              "#9c179e"
             ],
             [
              0.4444444444444444,
              "#bd3786"
             ],
             [
              0.5555555555555556,
              "#d8576b"
             ],
             [
              0.6666666666666666,
              "#ed7953"
             ],
             [
              0.7777777777777778,
              "#fb9f3a"
             ],
             [
              0.8888888888888888,
              "#fdca26"
             ],
             [
              1,
              "#f0f921"
             ]
            ],
            "type": "histogram2dcontour"
           }
          ],
          "mesh3d": [
           {
            "colorbar": {
             "outlinewidth": 0,
             "ticks": ""
            },
            "type": "mesh3d"
           }
          ],
          "parcoords": [
           {
            "line": {
             "colorbar": {
              "outlinewidth": 0,
              "ticks": ""
             }
            },
            "type": "parcoords"
           }
          ],
          "pie": [
           {
            "automargin": true,
            "type": "pie"
           }
          ],
          "scatter": [
           {
            "fillpattern": {
             "fillmode": "overlay",
             "size": 10,
             "solidity": 0.2
            },
            "type": "scatter"
           }
          ],
          "scatter3d": [
           {
            "line": {
             "colorbar": {
              "outlinewidth": 0,
              "ticks": ""
             }
            },
            "marker": {
             "colorbar": {
              "outlinewidth": 0,
              "ticks": ""
             }
            },
            "type": "scatter3d"
           }
          ],
          "scattercarpet": [
           {
            "marker": {
             "colorbar": {
              "outlinewidth": 0,
              "ticks": ""
             }
            },
            "type": "scattercarpet"
           }
          ],
          "scattergeo": [
           {
            "marker": {
             "colorbar": {
              "outlinewidth": 0,
              "ticks": ""
             }
            },
            "type": "scattergeo"
           }
          ],
          "scattergl": [
           {
            "marker": {
             "colorbar": {
              "outlinewidth": 0,
              "ticks": ""
             }
            },
            "type": "scattergl"
           }
          ],
          "scattermapbox": [
           {
            "marker": {
             "colorbar": {
              "outlinewidth": 0,
              "ticks": ""
             }
            },
            "type": "scattermapbox"
           }
          ],
          "scatterpolar": [
           {
            "marker": {
             "colorbar": {
              "outlinewidth": 0,
              "ticks": ""
             }
            },
            "type": "scatterpolar"
           }
          ],
          "scatterpolargl": [
           {
            "marker": {
             "colorbar": {
              "outlinewidth": 0,
              "ticks": ""
             }
            },
            "type": "scatterpolargl"
           }
          ],
          "scatterternary": [
           {
            "marker": {
             "colorbar": {
              "outlinewidth": 0,
              "ticks": ""
             }
            },
            "type": "scatterternary"
           }
          ],
          "surface": [
           {
            "colorbar": {
             "outlinewidth": 0,
             "ticks": ""
            },
            "colorscale": [
             [
              0,
              "#0d0887"
             ],
             [
              0.1111111111111111,
              "#46039f"
             ],
             [
              0.2222222222222222,
              "#7201a8"
             ],
             [
              0.3333333333333333,
              "#9c179e"
             ],
             [
              0.4444444444444444,
              "#bd3786"
             ],
             [
              0.5555555555555556,
              "#d8576b"
             ],
             [
              0.6666666666666666,
              "#ed7953"
             ],
             [
              0.7777777777777778,
              "#fb9f3a"
             ],
             [
              0.8888888888888888,
              "#fdca26"
             ],
             [
              1,
              "#f0f921"
             ]
            ],
            "type": "surface"
           }
          ],
          "table": [
           {
            "cells": {
             "fill": {
              "color": "#EBF0F8"
             },
             "line": {
              "color": "white"
             }
            },
            "header": {
             "fill": {
              "color": "#C8D4E3"
             },
             "line": {
              "color": "white"
             }
            },
            "type": "table"
           }
          ]
         },
         "layout": {
          "annotationdefaults": {
           "arrowcolor": "#2a3f5f",
           "arrowhead": 0,
           "arrowwidth": 1
          },
          "autotypenumbers": "strict",
          "coloraxis": {
           "colorbar": {
            "outlinewidth": 0,
            "ticks": ""
           }
          },
          "colorscale": {
           "diverging": [
            [
             0,
             "#8e0152"
            ],
            [
             0.1,
             "#c51b7d"
            ],
            [
             0.2,
             "#de77ae"
            ],
            [
             0.3,
             "#f1b6da"
            ],
            [
             0.4,
             "#fde0ef"
            ],
            [
             0.5,
             "#f7f7f7"
            ],
            [
             0.6,
             "#e6f5d0"
            ],
            [
             0.7,
             "#b8e186"
            ],
            [
             0.8,
             "#7fbc41"
            ],
            [
             0.9,
             "#4d9221"
            ],
            [
             1,
             "#276419"
            ]
           ],
           "sequential": [
            [
             0,
             "#0d0887"
            ],
            [
             0.1111111111111111,
             "#46039f"
            ],
            [
             0.2222222222222222,
             "#7201a8"
            ],
            [
             0.3333333333333333,
             "#9c179e"
            ],
            [
             0.4444444444444444,
             "#bd3786"
            ],
            [
             0.5555555555555556,
             "#d8576b"
            ],
            [
             0.6666666666666666,
             "#ed7953"
            ],
            [
             0.7777777777777778,
             "#fb9f3a"
            ],
            [
             0.8888888888888888,
             "#fdca26"
            ],
            [
             1,
             "#f0f921"
            ]
           ],
           "sequentialminus": [
            [
             0,
             "#0d0887"
            ],
            [
             0.1111111111111111,
             "#46039f"
            ],
            [
             0.2222222222222222,
             "#7201a8"
            ],
            [
             0.3333333333333333,
             "#9c179e"
            ],
            [
             0.4444444444444444,
             "#bd3786"
            ],
            [
             0.5555555555555556,
             "#d8576b"
            ],
            [
             0.6666666666666666,
             "#ed7953"
            ],
            [
             0.7777777777777778,
             "#fb9f3a"
            ],
            [
             0.8888888888888888,
             "#fdca26"
            ],
            [
             1,
             "#f0f921"
            ]
           ]
          },
          "colorway": [
           "#636efa",
           "#EF553B",
           "#00cc96",
           "#ab63fa",
           "#FFA15A",
           "#19d3f3",
           "#FF6692",
           "#B6E880",
           "#FF97FF",
           "#FECB52"
          ],
          "font": {
           "color": "#2a3f5f"
          },
          "geo": {
           "bgcolor": "white",
           "lakecolor": "white",
           "landcolor": "#E5ECF6",
           "showlakes": true,
           "showland": true,
           "subunitcolor": "white"
          },
          "hoverlabel": {
           "align": "left"
          },
          "hovermode": "closest",
          "mapbox": {
           "style": "light"
          },
          "paper_bgcolor": "white",
          "plot_bgcolor": "#E5ECF6",
          "polar": {
           "angularaxis": {
            "gridcolor": "white",
            "linecolor": "white",
            "ticks": ""
           },
           "bgcolor": "#E5ECF6",
           "radialaxis": {
            "gridcolor": "white",
            "linecolor": "white",
            "ticks": ""
           }
          },
          "scene": {
           "xaxis": {
            "backgroundcolor": "#E5ECF6",
            "gridcolor": "white",
            "gridwidth": 2,
            "linecolor": "white",
            "showbackground": true,
            "ticks": "",
            "zerolinecolor": "white"
           },
           "yaxis": {
            "backgroundcolor": "#E5ECF6",
            "gridcolor": "white",
            "gridwidth": 2,
            "linecolor": "white",
            "showbackground": true,
            "ticks": "",
            "zerolinecolor": "white"
           },
           "zaxis": {
            "backgroundcolor": "#E5ECF6",
            "gridcolor": "white",
            "gridwidth": 2,
            "linecolor": "white",
            "showbackground": true,
            "ticks": "",
            "zerolinecolor": "white"
           }
          },
          "shapedefaults": {
           "line": {
            "color": "#2a3f5f"
           }
          },
          "ternary": {
           "aaxis": {
            "gridcolor": "white",
            "linecolor": "white",
            "ticks": ""
           },
           "baxis": {
            "gridcolor": "white",
            "linecolor": "white",
            "ticks": ""
           },
           "bgcolor": "#E5ECF6",
           "caxis": {
            "gridcolor": "white",
            "linecolor": "white",
            "ticks": ""
           }
          },
          "title": {
           "x": 0.05
          },
          "xaxis": {
           "automargin": true,
           "gridcolor": "white",
           "linecolor": "white",
           "ticks": "",
           "title": {
            "standoff": 15
           },
           "zerolinecolor": "white",
           "zerolinewidth": 2
          },
          "yaxis": {
           "automargin": true,
           "gridcolor": "white",
           "linecolor": "white",
           "ticks": "",
           "title": {
            "standoff": 15
           },
           "zerolinecolor": "white",
           "zerolinewidth": 2
          }
         }
        },
        "xaxis": {
         "anchor": "y",
         "domain": [
          0,
          0.45
         ],
         "matches": "x3",
         "showticklabels": false
        },
        "xaxis2": {
         "anchor": "y2",
         "domain": [
          0.55,
          1
         ],
         "matches": "x4",
         "showticklabels": false
        },
        "xaxis3": {
         "anchor": "y3",
         "domain": [
          0,
          0.45
         ]
        },
        "xaxis4": {
         "anchor": "y4",
         "domain": [
          0.55,
          1
         ]
        },
        "yaxis": {
         "anchor": "x",
         "domain": [
          0.525,
          1
         ]
        },
        "yaxis2": {
         "anchor": "x2",
         "domain": [
          0.525,
          1
         ],
         "matches": "y",
         "showticklabels": false
        },
        "yaxis3": {
         "anchor": "x3",
         "domain": [
          0,
          0.475
         ]
        },
        "yaxis4": {
         "anchor": "x4",
         "domain": [
          0,
          0.475
         ],
         "matches": "y3",
         "showticklabels": false
        }
       }
      }
     },
     "metadata": {},
     "output_type": "display_data"
    }
   ],
   "source": [
    "import plotly.graph_objects as go\n",
    "import plotly.figure_factory as ff\n",
    "from plotly.subplots import make_subplots\n",
    "\n",
    "fig = make_subplots(rows = 2, cols = 2, \n",
    "                    shared_xaxes=True, # Shared X Axes\n",
    "                    shared_yaxes=True, # Shared Y Axes\n",
    "                    vertical_spacing = 0.05,\n",
    "                    subplot_titles=(\"USA with ML Experience\", \"China with ML Experience\", \"Ấn Độ with ML Experience\", \"Việt Nam with ML Experience\"), # title of each graph area\n",
    "                    column_widths = [0.5, 0.5]) # size control  \n",
    "\n",
    "fig.add_trace(go.Bar(x = usa_df['ML Experience'], \n",
    "                     y = usa_df['%'], \n",
    "                     text = usa_df['%'].astype(str) + \"%\", \n",
    "                     textposition='auto'), \n",
    "              row = 1, col = 1)\n",
    "\n",
    "fig.add_trace(go.Bar(x = china_df['ML Experience'], \n",
    "                     y = china_df['%'], \n",
    "                     text = china_df['%'].astype(str) + \"%\", \n",
    "                     textposition='auto'), \n",
    "              row = 1, col = 2)\n",
    "\n",
    "fig.add_trace(go.Bar(x = india_df['ML Experience'], \n",
    "                     y = india_df['%'], \n",
    "                     text = india_df['%'].astype(str) + \"%\", \n",
    "                     textposition='auto'), \n",
    "              row = 2, col = 1)\n",
    "\n",
    "fig.add_trace(go.Bar(x = vn_df['ML Experience'], \n",
    "                     y = vn_df['%'], \n",
    "                     text = vn_df['%'].astype(str) + \"%\", \n",
    "                     textposition='auto'), \n",
    "              row = 2, col = 2)\n",
    "\n",
    "fig.update_layout(height = 1000,\n",
    "                  showlegend=False)\n",
    "\n",
    "fig.show()"
   ]
  },
  {
   "attachments": {},
   "cell_type": "markdown",
   "metadata": {},
   "source": [
    "Nhận xét với 4 nước, ta có tỉ lệ ML Experience chênh lệch rõ ràng và Mỹ đang có tỉ lệ hơn mặt bằng chung nhưng lại khá đồng đều ở cavs năm kinh nghiệm, còn ở Ấn Độ, Việt Nam, Trung Quốc tỉ lệ của những người có kinh nghiệm cao từ 20 năm trở lên lại gần như bằng 0, như được thấy thì công nghệ thông tin ở ta phát triển chậm hơn mỹ nhưng lớp trẻ của ta lại rất nhiều"
   ]
  },
  {
   "cell_type": "code",
   "execution_count": null,
   "metadata": {},
   "outputs": [],
   "source": []
  }
 ],
 "metadata": {
  "kernelspec": {
   "display_name": "Python 3",
   "language": "python",
   "name": "python3"
  },
  "language_info": {
   "codemirror_mode": {
    "name": "ipython",
    "version": 3
   },
   "file_extension": ".py",
   "mimetype": "text/x-python",
   "name": "python",
   "nbconvert_exporter": "python",
   "pygments_lexer": "ipython3",
   "version": "3.10.4"
  },
  "orig_nbformat": 4
 },
 "nbformat": 4,
 "nbformat_minor": 2
}
